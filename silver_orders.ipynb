{
 "cells": [
  {
   "cell_type": "code",
   "execution_count": 0,
   "metadata": {
    "application/vnd.databricks.v1+cell": {
     "cellMetadata": {
      "byteLimit": 2048000,
      "rowLimit": 10000
     },
     "inputWidgets": {},
     "nuid": "454796f5-dd83-48f6-8874-f057035ec0c2",
     "showTitle": false,
     "tableResultSettingsMap": {},
     "title": ""
    }
   },
   "outputs": [],
   "source": [
    "from pyspark.sql.functions import *"
   ]
  },
  {
   "cell_type": "code",
   "execution_count": 0,
   "metadata": {
    "application/vnd.databricks.v1+cell": {
     "cellMetadata": {
      "byteLimit": 2048000,
      "rowLimit": 10000
     },
     "inputWidgets": {},
     "nuid": "5cf9879c-0bc3-47da-ab98-afaf04630da9",
     "showTitle": false,
     "tableResultSettingsMap": {},
     "title": ""
    }
   },
   "outputs": [
    {
     "output_type": "display_data",
     "data": {
      "text/html": [
       "<style scoped>\n",
       "  .table-result-container {\n",
       "    max-height: 300px;\n",
       "    overflow: auto;\n",
       "  }\n",
       "  table, th, td {\n",
       "    border: 1px solid black;\n",
       "    border-collapse: collapse;\n",
       "  }\n",
       "  th, td {\n",
       "    padding: 5px;\n",
       "  }\n",
       "  th {\n",
       "    text-align: left;\n",
       "  }\n",
       "</style><div class='table-result-container'><table class='table-result'><thead style='background-color: white'><tr><th>ORDER_ID</th><th>ORDER_DATE</th><th>ORDER_MODE</th><th>CUSTOMER_ID</th><th>ORDER_STATUS</th><th>ORDER_TOTAL</th><th>SALES_REP_ID</th><th>PROMOTION_ID</th><th>batch_id</th><th>ingest_datetime</th></tr></thead><tbody><tr><td>2458</td><td>16-AUG-07 03.34.12.234359 PM</td><td>direct</td><td>101</td><td>0</td><td>78279.6</td><td>153</td><td> - </td><td>0</td><td>2024-12-15T20:00:52.137Z</td></tr><tr><td>2397</td><td>19-NOV-07 02.41.54.696211 PM</td><td>direct</td><td>102</td><td>1</td><td>42283.2</td><td>154</td><td> - </td><td>0</td><td>2024-12-15T20:00:52.137Z</td></tr><tr><td>2454</td><td>02-OCT-07 05.49.34.678340 PM</td><td>direct</td><td>103</td><td>1</td><td>6653.4</td><td>154</td><td> - </td><td>0</td><td>2024-12-15T20:00:52.137Z</td></tr><tr><td>2354</td><td>14-JUL-08 06.18.23.234567 PM</td><td>direct</td><td>104</td><td>0</td><td>46257.0</td><td>155</td><td> - </td><td>0</td><td>2024-12-15T20:00:52.137Z</td></tr><tr><td>2358</td><td>08-JAN-08 05.03.12.654278 PM</td><td>direct</td><td>105</td><td>2</td><td>7826.0</td><td>155</td><td> - </td><td>0</td><td>2024-12-15T20:00:52.137Z</td></tr><tr><td>2381</td><td>14-MAY-08 08.59.08.843679 PM</td><td>direct</td><td>106</td><td>3</td><td>23034.6</td><td>156</td><td> - </td><td>0</td><td>2024-12-15T20:00:52.137Z</td></tr><tr><td>2440</td><td>31-AUG-07 09.53.06.008765 PM</td><td>direct</td><td>107</td><td>3</td><td>70576.9</td><td>156</td><td> - </td><td>0</td><td>2024-12-15T20:00:52.137Z</td></tr><tr><td>2357</td><td>08-JAN-06 08.19.44.123456 PM</td><td>direct</td><td>108</td><td>5</td><td>59872.4</td><td>158</td><td> - </td><td>0</td><td>2024-12-15T20:00:52.137Z</td></tr><tr><td>2394</td><td>10-FEB-08 09.22.35.564789 PM</td><td>direct</td><td>109</td><td>5</td><td>21863.0</td><td>158</td><td> - </td><td>0</td><td>2024-12-15T20:00:52.137Z</td></tr><tr><td>2435</td><td>02-SEP-07 11.22.53.134567 PM</td><td>direct</td><td>144</td><td>6</td><td>62303.0</td><td>159</td><td> - </td><td>0</td><td>2024-12-15T20:00:52.137Z</td></tr><tr><td>2455</td><td>20-SEP-07 11.34.11.456789 AM</td><td>direct</td><td>145</td><td>7</td><td>14087.5</td><td>160</td><td> - </td><td>0</td><td>2024-12-15T20:00:52.137Z</td></tr><tr><td>2379</td><td>16-MAY-07 02.22.24.234567 AM</td><td>direct</td><td>146</td><td>8</td><td>17848.2</td><td>161</td><td> - </td><td>0</td><td>2024-12-15T20:00:52.137Z</td></tr><tr><td>2396</td><td>02-FEB-06 01.34.56.345678 AM</td><td>direct</td><td>147</td><td>8</td><td>34930.0</td><td>161</td><td> - </td><td>0</td><td>2024-12-15T20:00:52.137Z</td></tr><tr><td>2406</td><td>29-JUN-07 04.41.20.098765 AM</td><td>direct</td><td>148</td><td>8</td><td>2854.2</td><td>161</td><td> - </td><td>0</td><td>2024-12-15T20:00:52.137Z</td></tr><tr><td>2434</td><td>13-SEP-07 05.49.30.647893 AM</td><td>direct</td><td>149</td><td>8</td><td>268651.8</td><td>161</td><td> - </td><td>0</td><td>2024-12-15T20:00:52.137Z</td></tr><tr><td>2436</td><td>02-SEP-07 06.18.04.378034 AM</td><td>direct</td><td>116</td><td>8</td><td>6394.8</td><td>161</td><td> - </td><td>0</td><td>2024-12-15T20:00:52.137Z</td></tr><tr><td>2446</td><td>27-JUL-07 07.03.08.302945 AM</td><td>direct</td><td>117</td><td>8</td><td>103679.3</td><td>161</td><td> - </td><td>0</td><td>2024-12-15T20:00:52.137Z</td></tr><tr><td>2447</td><td>27-JUL-08 08.59.10.223344 AM</td><td>direct</td><td>101</td><td>8</td><td>33893.6</td><td>161</td><td> - </td><td>0</td><td>2024-12-15T20:00:52.137Z</td></tr><tr><td>2432</td><td>14-SEP-07 09.53.40.223345 AM</td><td>direct</td><td>102</td><td>10</td><td>10523.0</td><td>163</td><td> - </td><td>0</td><td>2024-12-15T20:00:52.137Z</td></tr><tr><td>2433</td><td>13-SEP-07 10.19.00.654279 AM</td><td>direct</td><td>103</td><td>10</td><td>78.0</td><td>163</td><td> - </td><td>0</td><td>2024-12-15T20:00:52.137Z</td></tr><tr><td>2355</td><td>26-JAN-06 09.22.51.962632 AM</td><td>online</td><td>104</td><td>8</td><td>94513.5</td><td>null</td><td> - </td><td>0</td><td>2024-12-15T20:00:52.137Z</td></tr><tr><td>2356</td><td>26-JAN-08 09.22.41.934562 AM</td><td>online</td><td>105</td><td>5</td><td>29473.8</td><td>null</td><td> - </td><td>0</td><td>2024-12-15T20:00:52.137Z</td></tr><tr><td>2359</td><td>08-JAN-06 09.34.13.112233 PM</td><td>online</td><td>106</td><td>9</td><td>5543.1</td><td>null</td><td> - </td><td>0</td><td>2024-12-15T20:00:52.137Z</td></tr><tr><td>2360</td><td>14-NOV-07 12.22.31.223344 PM</td><td>online</td><td>107</td><td>4</td><td>990.4</td><td>null</td><td> - </td><td>0</td><td>2024-12-15T20:00:52.137Z</td></tr><tr><td>2361</td><td>13-NOV-07 01.34.21.986210 PM</td><td>online</td><td>108</td><td>8</td><td>120131.3</td><td>null</td><td> - </td><td>0</td><td>2024-12-15T20:00:52.137Z</td></tr><tr><td>2362</td><td>13-NOV-07 02.41.10.619477 PM</td><td>online</td><td>109</td><td>4</td><td>92829.4</td><td>null</td><td> - </td><td>0</td><td>2024-12-15T20:00:52.137Z</td></tr><tr><td>2363</td><td>23-OCT-07 05.49.56.346122 PM</td><td>online</td><td>144</td><td>0</td><td>10082.3</td><td>null</td><td> - </td><td>0</td><td>2024-12-15T20:00:52.137Z</td></tr><tr><td>2364</td><td>28-AUG-07 06.18.45.942399 PM</td><td>online</td><td>145</td><td>4</td><td>9500.0</td><td>null</td><td> - </td><td>0</td><td>2024-12-15T20:00:52.137Z</td></tr><tr><td>2365</td><td>28-AUG-07 07.03.34.003399 PM</td><td>online</td><td>146</td><td>9</td><td>27455.3</td><td>null</td><td> - </td><td>0</td><td>2024-12-15T20:00:52.137Z</td></tr><tr><td>2366</td><td>28-AUG-07 08.59.23.144778 PM</td><td>online</td><td>147</td><td>5</td><td>37319.4</td><td>null</td><td> - </td><td>0</td><td>2024-12-15T20:00:52.137Z</td></tr><tr><td>2367</td><td>27-JUN-08 09.53.32.335522 PM</td><td>online</td><td>148</td><td>10</td><td>144054.8</td><td>null</td><td> - </td><td>0</td><td>2024-12-15T20:00:52.137Z</td></tr><tr><td>2368</td><td>26-JUN-08 10.19.43.190089 PM</td><td>online</td><td>149</td><td>10</td><td>60065.0</td><td>null</td><td> - </td><td>0</td><td>2024-12-15T20:00:52.137Z</td></tr><tr><td>2369</td><td>26-JUN-07 11.22.54.009932 PM</td><td>online</td><td>116</td><td>0</td><td>11097.4</td><td>null</td><td> - </td><td>0</td><td>2024-12-15T20:00:52.137Z</td></tr><tr><td>2370</td><td>27-JUN-08 12.22.11.647398 AM</td><td>online</td><td>117</td><td>4</td><td>126.0</td><td>null</td><td> - </td><td>0</td><td>2024-12-15T20:00:52.137Z</td></tr><tr><td>2371</td><td>16-MAY-07 01.34.56.113356 AM</td><td>online</td><td>118</td><td>6</td><td>79405.6</td><td>null</td><td> - </td><td>0</td><td>2024-12-15T20:00:52.137Z</td></tr><tr><td>2372</td><td>27-FEB-07 12.22.33.356789 AM</td><td>online</td><td>119</td><td>9</td><td>16447.2</td><td>null</td><td> - </td><td>0</td><td>2024-12-15T20:00:52.137Z</td></tr><tr><td>2373</td><td>27-FEB-08 01.34.51.220065 AM</td><td>online</td><td>120</td><td>4</td><td>416.0</td><td>null</td><td> - </td><td>0</td><td>2024-12-15T20:00:52.137Z</td></tr><tr><td>2374</td><td>27-FEB-08 02.41.45.109654 AM</td><td>online</td><td>121</td><td>0</td><td>4797.0</td><td>null</td><td> - </td><td>0</td><td>2024-12-15T20:00:52.137Z</td></tr><tr><td>2375</td><td>26-FEB-07 03.49.50.459233 AM</td><td>online</td><td>122</td><td>2</td><td>103834.4</td><td>null</td><td> - </td><td>0</td><td>2024-12-15T20:00:52.137Z</td></tr><tr><td>2376</td><td>07-JUN-07 06.18.08.883310 AM</td><td>online</td><td>123</td><td>6</td><td>11006.2</td><td>null</td><td> - </td><td>0</td><td>2024-12-15T20:00:52.137Z</td></tr><tr><td>2377</td><td>07-JUN-07 07.03.01.001100 AM</td><td>online</td><td>141</td><td>5</td><td>38017.8</td><td>null</td><td> - </td><td>0</td><td>2024-12-15T20:00:52.137Z</td></tr><tr><td>2378</td><td>24-MAY-07 08.59.10.010101 AM</td><td>online</td><td>142</td><td>5</td><td>25691.3</td><td>null</td><td> - </td><td>0</td><td>2024-12-15T20:00:52.137Z</td></tr><tr><td>2380</td><td>16-MAY-07 09.53.02.909090 AM</td><td>online</td><td>143</td><td>3</td><td>27132.6</td><td>null</td><td> - </td><td>0</td><td>2024-12-15T20:00:52.137Z</td></tr><tr><td>2382</td><td>14-MAY-08 10.19.03.828321 AM</td><td>online</td><td>144</td><td>8</td><td>71173.0</td><td>null</td><td> - </td><td>0</td><td>2024-12-15T20:00:52.137Z</td></tr><tr><td>2383</td><td>12-MAY-08 11.22.30.545103 AM</td><td>online</td><td>145</td><td>8</td><td>36374.7</td><td>null</td><td> - </td><td>0</td><td>2024-12-15T20:00:52.137Z</td></tr><tr><td>2384</td><td>12-MAY-08 12.22.34.525972 PM</td><td>online</td><td>146</td><td>3</td><td>29249.1</td><td>null</td><td> - </td><td>0</td><td>2024-12-15T20:00:52.137Z</td></tr><tr><td>2385</td><td>08-DEC-07 11.34.11.331392 AM</td><td>online</td><td>147</td><td>4</td><td>295892.0</td><td>null</td><td> - </td><td>0</td><td>2024-12-15T20:00:52.137Z</td></tr><tr><td>2386</td><td>06-DEC-07 12.22.34.225609 PM</td><td>online</td><td>148</td><td>10</td><td>21116.9</td><td>null</td><td> - </td><td>0</td><td>2024-12-15T20:00:52.137Z</td></tr><tr><td>2387</td><td>11-MAR-07 03.34.56.536966 PM</td><td>online</td><td>149</td><td>5</td><td>52758.9</td><td>null</td><td> - </td><td>0</td><td>2024-12-15T20:00:52.137Z</td></tr><tr><td>2388</td><td>04-JUN-07 04.41.12.554435 PM</td><td>online</td><td>150</td><td>4</td><td>282694.3</td><td>null</td><td> - </td><td>0</td><td>2024-12-15T20:00:52.137Z</td></tr></tbody></table></div>"
      ]
     },
     "metadata": {
      "application/vnd.databricks.v1+output": {
       "addedWidgets": {},
       "aggData": [],
       "aggError": "",
       "aggOverflow": false,
       "aggSchema": [],
       "aggSeriesLimitReached": false,
       "aggType": "",
       "arguments": {},
       "columnCustomDisplayInfos": {},
       "data": [
        [
         2458,
         "16-AUG-07 03.34.12.234359 PM",
         "direct",
         101,
         0,
         78279.6,
         153,
         " - ",
         0,
         "2024-12-15T20:00:52.137Z"
        ],
        [
         2397,
         "19-NOV-07 02.41.54.696211 PM",
         "direct",
         102,
         1,
         42283.2,
         154,
         " - ",
         0,
         "2024-12-15T20:00:52.137Z"
        ],
        [
         2454,
         "02-OCT-07 05.49.34.678340 PM",
         "direct",
         103,
         1,
         6653.4,
         154,
         " - ",
         0,
         "2024-12-15T20:00:52.137Z"
        ],
        [
         2354,
         "14-JUL-08 06.18.23.234567 PM",
         "direct",
         104,
         0,
         46257.0,
         155,
         " - ",
         0,
         "2024-12-15T20:00:52.137Z"
        ],
        [
         2358,
         "08-JAN-08 05.03.12.654278 PM",
         "direct",
         105,
         2,
         7826.0,
         155,
         " - ",
         0,
         "2024-12-15T20:00:52.137Z"
        ],
        [
         2381,
         "14-MAY-08 08.59.08.843679 PM",
         "direct",
         106,
         3,
         23034.6,
         156,
         " - ",
         0,
         "2024-12-15T20:00:52.137Z"
        ],
        [
         2440,
         "31-AUG-07 09.53.06.008765 PM",
         "direct",
         107,
         3,
         70576.9,
         156,
         " - ",
         0,
         "2024-12-15T20:00:52.137Z"
        ],
        [
         2357,
         "08-JAN-06 08.19.44.123456 PM",
         "direct",
         108,
         5,
         59872.4,
         158,
         " - ",
         0,
         "2024-12-15T20:00:52.137Z"
        ],
        [
         2394,
         "10-FEB-08 09.22.35.564789 PM",
         "direct",
         109,
         5,
         21863.0,
         158,
         " - ",
         0,
         "2024-12-15T20:00:52.137Z"
        ],
        [
         2435,
         "02-SEP-07 11.22.53.134567 PM",
         "direct",
         144,
         6,
         62303.0,
         159,
         " - ",
         0,
         "2024-12-15T20:00:52.137Z"
        ],
        [
         2455,
         "20-SEP-07 11.34.11.456789 AM",
         "direct",
         145,
         7,
         14087.5,
         160,
         " - ",
         0,
         "2024-12-15T20:00:52.137Z"
        ],
        [
         2379,
         "16-MAY-07 02.22.24.234567 AM",
         "direct",
         146,
         8,
         17848.2,
         161,
         " - ",
         0,
         "2024-12-15T20:00:52.137Z"
        ],
        [
         2396,
         "02-FEB-06 01.34.56.345678 AM",
         "direct",
         147,
         8,
         34930.0,
         161,
         " - ",
         0,
         "2024-12-15T20:00:52.137Z"
        ],
        [
         2406,
         "29-JUN-07 04.41.20.098765 AM",
         "direct",
         148,
         8,
         2854.2,
         161,
         " - ",
         0,
         "2024-12-15T20:00:52.137Z"
        ],
        [
         2434,
         "13-SEP-07 05.49.30.647893 AM",
         "direct",
         149,
         8,
         268651.8,
         161,
         " - ",
         0,
         "2024-12-15T20:00:52.137Z"
        ],
        [
         2436,
         "02-SEP-07 06.18.04.378034 AM",
         "direct",
         116,
         8,
         6394.8,
         161,
         " - ",
         0,
         "2024-12-15T20:00:52.137Z"
        ],
        [
         2446,
         "27-JUL-07 07.03.08.302945 AM",
         "direct",
         117,
         8,
         103679.3,
         161,
         " - ",
         0,
         "2024-12-15T20:00:52.137Z"
        ],
        [
         2447,
         "27-JUL-08 08.59.10.223344 AM",
         "direct",
         101,
         8,
         33893.6,
         161,
         " - ",
         0,
         "2024-12-15T20:00:52.137Z"
        ],
        [
         2432,
         "14-SEP-07 09.53.40.223345 AM",
         "direct",
         102,
         10,
         10523.0,
         163,
         " - ",
         0,
         "2024-12-15T20:00:52.137Z"
        ],
        [
         2433,
         "13-SEP-07 10.19.00.654279 AM",
         "direct",
         103,
         10,
         78.0,
         163,
         " - ",
         0,
         "2024-12-15T20:00:52.137Z"
        ],
        [
         2355,
         "26-JAN-06 09.22.51.962632 AM",
         "online",
         104,
         8,
         94513.5,
         null,
         " - ",
         0,
         "2024-12-15T20:00:52.137Z"
        ],
        [
         2356,
         "26-JAN-08 09.22.41.934562 AM",
         "online",
         105,
         5,
         29473.8,
         null,
         " - ",
         0,
         "2024-12-15T20:00:52.137Z"
        ],
        [
         2359,
         "08-JAN-06 09.34.13.112233 PM",
         "online",
         106,
         9,
         5543.1,
         null,
         " - ",
         0,
         "2024-12-15T20:00:52.137Z"
        ],
        [
         2360,
         "14-NOV-07 12.22.31.223344 PM",
         "online",
         107,
         4,
         990.4,
         null,
         " - ",
         0,
         "2024-12-15T20:00:52.137Z"
        ],
        [
         2361,
         "13-NOV-07 01.34.21.986210 PM",
         "online",
         108,
         8,
         120131.3,
         null,
         " - ",
         0,
         "2024-12-15T20:00:52.137Z"
        ],
        [
         2362,
         "13-NOV-07 02.41.10.619477 PM",
         "online",
         109,
         4,
         92829.4,
         null,
         " - ",
         0,
         "2024-12-15T20:00:52.137Z"
        ],
        [
         2363,
         "23-OCT-07 05.49.56.346122 PM",
         "online",
         144,
         0,
         10082.3,
         null,
         " - ",
         0,
         "2024-12-15T20:00:52.137Z"
        ],
        [
         2364,
         "28-AUG-07 06.18.45.942399 PM",
         "online",
         145,
         4,
         9500.0,
         null,
         " - ",
         0,
         "2024-12-15T20:00:52.137Z"
        ],
        [
         2365,
         "28-AUG-07 07.03.34.003399 PM",
         "online",
         146,
         9,
         27455.3,
         null,
         " - ",
         0,
         "2024-12-15T20:00:52.137Z"
        ],
        [
         2366,
         "28-AUG-07 08.59.23.144778 PM",
         "online",
         147,
         5,
         37319.4,
         null,
         " - ",
         0,
         "2024-12-15T20:00:52.137Z"
        ],
        [
         2367,
         "27-JUN-08 09.53.32.335522 PM",
         "online",
         148,
         10,
         144054.8,
         null,
         " - ",
         0,
         "2024-12-15T20:00:52.137Z"
        ],
        [
         2368,
         "26-JUN-08 10.19.43.190089 PM",
         "online",
         149,
         10,
         60065.0,
         null,
         " - ",
         0,
         "2024-12-15T20:00:52.137Z"
        ],
        [
         2369,
         "26-JUN-07 11.22.54.009932 PM",
         "online",
         116,
         0,
         11097.4,
         null,
         " - ",
         0,
         "2024-12-15T20:00:52.137Z"
        ],
        [
         2370,
         "27-JUN-08 12.22.11.647398 AM",
         "online",
         117,
         4,
         126.0,
         null,
         " - ",
         0,
         "2024-12-15T20:00:52.137Z"
        ],
        [
         2371,
         "16-MAY-07 01.34.56.113356 AM",
         "online",
         118,
         6,
         79405.6,
         null,
         " - ",
         0,
         "2024-12-15T20:00:52.137Z"
        ],
        [
         2372,
         "27-FEB-07 12.22.33.356789 AM",
         "online",
         119,
         9,
         16447.2,
         null,
         " - ",
         0,
         "2024-12-15T20:00:52.137Z"
        ],
        [
         2373,
         "27-FEB-08 01.34.51.220065 AM",
         "online",
         120,
         4,
         416.0,
         null,
         " - ",
         0,
         "2024-12-15T20:00:52.137Z"
        ],
        [
         2374,
         "27-FEB-08 02.41.45.109654 AM",
         "online",
         121,
         0,
         4797.0,
         null,
         " - ",
         0,
         "2024-12-15T20:00:52.137Z"
        ],
        [
         2375,
         "26-FEB-07 03.49.50.459233 AM",
         "online",
         122,
         2,
         103834.4,
         null,
         " - ",
         0,
         "2024-12-15T20:00:52.137Z"
        ],
        [
         2376,
         "07-JUN-07 06.18.08.883310 AM",
         "online",
         123,
         6,
         11006.2,
         null,
         " - ",
         0,
         "2024-12-15T20:00:52.137Z"
        ],
        [
         2377,
         "07-JUN-07 07.03.01.001100 AM",
         "online",
         141,
         5,
         38017.8,
         null,
         " - ",
         0,
         "2024-12-15T20:00:52.137Z"
        ],
        [
         2378,
         "24-MAY-07 08.59.10.010101 AM",
         "online",
         142,
         5,
         25691.3,
         null,
         " - ",
         0,
         "2024-12-15T20:00:52.137Z"
        ],
        [
         2380,
         "16-MAY-07 09.53.02.909090 AM",
         "online",
         143,
         3,
         27132.6,
         null,
         " - ",
         0,
         "2024-12-15T20:00:52.137Z"
        ],
        [
         2382,
         "14-MAY-08 10.19.03.828321 AM",
         "online",
         144,
         8,
         71173.0,
         null,
         " - ",
         0,
         "2024-12-15T20:00:52.137Z"
        ],
        [
         2383,
         "12-MAY-08 11.22.30.545103 AM",
         "online",
         145,
         8,
         36374.7,
         null,
         " - ",
         0,
         "2024-12-15T20:00:52.137Z"
        ],
        [
         2384,
         "12-MAY-08 12.22.34.525972 PM",
         "online",
         146,
         3,
         29249.1,
         null,
         " - ",
         0,
         "2024-12-15T20:00:52.137Z"
        ],
        [
         2385,
         "08-DEC-07 11.34.11.331392 AM",
         "online",
         147,
         4,
         295892.0,
         null,
         " - ",
         0,
         "2024-12-15T20:00:52.137Z"
        ],
        [
         2386,
         "06-DEC-07 12.22.34.225609 PM",
         "online",
         148,
         10,
         21116.9,
         null,
         " - ",
         0,
         "2024-12-15T20:00:52.137Z"
        ],
        [
         2387,
         "11-MAR-07 03.34.56.536966 PM",
         "online",
         149,
         5,
         52758.9,
         null,
         " - ",
         0,
         "2024-12-15T20:00:52.137Z"
        ],
        [
         2388,
         "04-JUN-07 04.41.12.554435 PM",
         "online",
         150,
         4,
         282694.3,
         null,
         " - ",
         0,
         "2024-12-15T20:00:52.137Z"
        ]
       ],
       "datasetInfos": [],
       "dbfsResultPath": null,
       "isJsonSchema": true,
       "metadata": {},
       "overflow": false,
       "plotOptions": {
        "customPlotOptions": {},
        "displayType": "table",
        "pivotAggregation": null,
        "pivotColumns": null,
        "xColumns": null,
        "yColumns": null
       },
       "removedWidgets": [],
       "schema": [
        {
         "metadata": "{}",
         "name": "ORDER_ID",
         "type": "\"integer\""
        },
        {
         "metadata": "{}",
         "name": "ORDER_DATE",
         "type": "\"string\""
        },
        {
         "metadata": "{}",
         "name": "ORDER_MODE",
         "type": "\"string\""
        },
        {
         "metadata": "{}",
         "name": "CUSTOMER_ID",
         "type": "\"integer\""
        },
        {
         "metadata": "{}",
         "name": "ORDER_STATUS",
         "type": "\"integer\""
        },
        {
         "metadata": "{}",
         "name": "ORDER_TOTAL",
         "type": "\"double\""
        },
        {
         "metadata": "{}",
         "name": "SALES_REP_ID",
         "type": "\"integer\""
        },
        {
         "metadata": "{}",
         "name": "PROMOTION_ID",
         "type": "\"string\""
        },
        {
         "metadata": "{}",
         "name": "batch_id",
         "type": "\"integer\""
        },
        {
         "metadata": "{}",
         "name": "ingest_datetime",
         "type": "\"timestamp\""
        }
       ],
       "type": "table"
      }
     },
     "output_type": "display_data"
    }
   ],
   "source": [
    "# Load the \"orders\" Delta table into a Spark DataFrame\n",
    "orders = spark.read.format('delta').table('stoyan.bronze_orders')\n",
    "orders.display()"
   ]
  },
  {
   "cell_type": "code",
   "execution_count": 0,
   "metadata": {
    "application/vnd.databricks.v1+cell": {
     "cellMetadata": {
      "byteLimit": 2048000,
      "rowLimit": 10000
     },
     "inputWidgets": {},
     "nuid": "1b92468e-da28-4792-bc9b-72e7fc7cb4f8",
     "showTitle": false,
     "tableResultSettingsMap": {},
     "title": ""
    }
   },
   "outputs": [
    {
     "output_type": "display_data",
     "data": {
      "text/html": [
       "<style scoped>\n",
       "  .table-result-container {\n",
       "    max-height: 300px;\n",
       "    overflow: auto;\n",
       "  }\n",
       "  table, th, td {\n",
       "    border: 1px solid black;\n",
       "    border-collapse: collapse;\n",
       "  }\n",
       "  th, td {\n",
       "    padding: 5px;\n",
       "  }\n",
       "  th {\n",
       "    text-align: left;\n",
       "  }\n",
       "</style><div class='table-result-container'><table class='table-result'><thead style='background-color: white'><tr><th>order_id</th><th>order_date</th><th>order_mode</th><th>customer_id</th><th>order_status</th><th>order_total</th><th>sales_rep_id</th><th>promotion_id</th><th>batch_id</th><th>ingest_datetime</th></tr></thead><tbody><tr><td>2458</td><td>16-AUG-07 03.34.12.234359 PM</td><td>direct</td><td>101</td><td>0</td><td>78279.6</td><td>153</td><td> - </td><td>0</td><td>2024-12-15T20:00:52.137Z</td></tr><tr><td>2397</td><td>19-NOV-07 02.41.54.696211 PM</td><td>direct</td><td>102</td><td>1</td><td>42283.2</td><td>154</td><td> - </td><td>0</td><td>2024-12-15T20:00:52.137Z</td></tr><tr><td>2454</td><td>02-OCT-07 05.49.34.678340 PM</td><td>direct</td><td>103</td><td>1</td><td>6653.4</td><td>154</td><td> - </td><td>0</td><td>2024-12-15T20:00:52.137Z</td></tr><tr><td>2354</td><td>14-JUL-08 06.18.23.234567 PM</td><td>direct</td><td>104</td><td>0</td><td>46257.0</td><td>155</td><td> - </td><td>0</td><td>2024-12-15T20:00:52.137Z</td></tr><tr><td>2358</td><td>08-JAN-08 05.03.12.654278 PM</td><td>direct</td><td>105</td><td>2</td><td>7826.0</td><td>155</td><td> - </td><td>0</td><td>2024-12-15T20:00:52.137Z</td></tr><tr><td>2381</td><td>14-MAY-08 08.59.08.843679 PM</td><td>direct</td><td>106</td><td>3</td><td>23034.6</td><td>156</td><td> - </td><td>0</td><td>2024-12-15T20:00:52.137Z</td></tr><tr><td>2440</td><td>31-AUG-07 09.53.06.008765 PM</td><td>direct</td><td>107</td><td>3</td><td>70576.9</td><td>156</td><td> - </td><td>0</td><td>2024-12-15T20:00:52.137Z</td></tr><tr><td>2357</td><td>08-JAN-06 08.19.44.123456 PM</td><td>direct</td><td>108</td><td>5</td><td>59872.4</td><td>158</td><td> - </td><td>0</td><td>2024-12-15T20:00:52.137Z</td></tr><tr><td>2394</td><td>10-FEB-08 09.22.35.564789 PM</td><td>direct</td><td>109</td><td>5</td><td>21863.0</td><td>158</td><td> - </td><td>0</td><td>2024-12-15T20:00:52.137Z</td></tr><tr><td>2435</td><td>02-SEP-07 11.22.53.134567 PM</td><td>direct</td><td>144</td><td>6</td><td>62303.0</td><td>159</td><td> - </td><td>0</td><td>2024-12-15T20:00:52.137Z</td></tr><tr><td>2455</td><td>20-SEP-07 11.34.11.456789 AM</td><td>direct</td><td>145</td><td>7</td><td>14087.5</td><td>160</td><td> - </td><td>0</td><td>2024-12-15T20:00:52.137Z</td></tr><tr><td>2379</td><td>16-MAY-07 02.22.24.234567 AM</td><td>direct</td><td>146</td><td>8</td><td>17848.2</td><td>161</td><td> - </td><td>0</td><td>2024-12-15T20:00:52.137Z</td></tr><tr><td>2396</td><td>02-FEB-06 01.34.56.345678 AM</td><td>direct</td><td>147</td><td>8</td><td>34930.0</td><td>161</td><td> - </td><td>0</td><td>2024-12-15T20:00:52.137Z</td></tr><tr><td>2406</td><td>29-JUN-07 04.41.20.098765 AM</td><td>direct</td><td>148</td><td>8</td><td>2854.2</td><td>161</td><td> - </td><td>0</td><td>2024-12-15T20:00:52.137Z</td></tr><tr><td>2434</td><td>13-SEP-07 05.49.30.647893 AM</td><td>direct</td><td>149</td><td>8</td><td>268651.8</td><td>161</td><td> - </td><td>0</td><td>2024-12-15T20:00:52.137Z</td></tr><tr><td>2436</td><td>02-SEP-07 06.18.04.378034 AM</td><td>direct</td><td>116</td><td>8</td><td>6394.8</td><td>161</td><td> - </td><td>0</td><td>2024-12-15T20:00:52.137Z</td></tr><tr><td>2446</td><td>27-JUL-07 07.03.08.302945 AM</td><td>direct</td><td>117</td><td>8</td><td>103679.3</td><td>161</td><td> - </td><td>0</td><td>2024-12-15T20:00:52.137Z</td></tr><tr><td>2447</td><td>27-JUL-08 08.59.10.223344 AM</td><td>direct</td><td>101</td><td>8</td><td>33893.6</td><td>161</td><td> - </td><td>0</td><td>2024-12-15T20:00:52.137Z</td></tr><tr><td>2432</td><td>14-SEP-07 09.53.40.223345 AM</td><td>direct</td><td>102</td><td>10</td><td>10523.0</td><td>163</td><td> - </td><td>0</td><td>2024-12-15T20:00:52.137Z</td></tr><tr><td>2433</td><td>13-SEP-07 10.19.00.654279 AM</td><td>direct</td><td>103</td><td>10</td><td>78.0</td><td>163</td><td> - </td><td>0</td><td>2024-12-15T20:00:52.137Z</td></tr><tr><td>2355</td><td>26-JAN-06 09.22.51.962632 AM</td><td>online</td><td>104</td><td>8</td><td>94513.5</td><td>null</td><td> - </td><td>0</td><td>2024-12-15T20:00:52.137Z</td></tr><tr><td>2356</td><td>26-JAN-08 09.22.41.934562 AM</td><td>online</td><td>105</td><td>5</td><td>29473.8</td><td>null</td><td> - </td><td>0</td><td>2024-12-15T20:00:52.137Z</td></tr><tr><td>2359</td><td>08-JAN-06 09.34.13.112233 PM</td><td>online</td><td>106</td><td>9</td><td>5543.1</td><td>null</td><td> - </td><td>0</td><td>2024-12-15T20:00:52.137Z</td></tr><tr><td>2360</td><td>14-NOV-07 12.22.31.223344 PM</td><td>online</td><td>107</td><td>4</td><td>990.4</td><td>null</td><td> - </td><td>0</td><td>2024-12-15T20:00:52.137Z</td></tr><tr><td>2361</td><td>13-NOV-07 01.34.21.986210 PM</td><td>online</td><td>108</td><td>8</td><td>120131.3</td><td>null</td><td> - </td><td>0</td><td>2024-12-15T20:00:52.137Z</td></tr><tr><td>2362</td><td>13-NOV-07 02.41.10.619477 PM</td><td>online</td><td>109</td><td>4</td><td>92829.4</td><td>null</td><td> - </td><td>0</td><td>2024-12-15T20:00:52.137Z</td></tr><tr><td>2363</td><td>23-OCT-07 05.49.56.346122 PM</td><td>online</td><td>144</td><td>0</td><td>10082.3</td><td>null</td><td> - </td><td>0</td><td>2024-12-15T20:00:52.137Z</td></tr><tr><td>2364</td><td>28-AUG-07 06.18.45.942399 PM</td><td>online</td><td>145</td><td>4</td><td>9500.0</td><td>null</td><td> - </td><td>0</td><td>2024-12-15T20:00:52.137Z</td></tr><tr><td>2365</td><td>28-AUG-07 07.03.34.003399 PM</td><td>online</td><td>146</td><td>9</td><td>27455.3</td><td>null</td><td> - </td><td>0</td><td>2024-12-15T20:00:52.137Z</td></tr><tr><td>2366</td><td>28-AUG-07 08.59.23.144778 PM</td><td>online</td><td>147</td><td>5</td><td>37319.4</td><td>null</td><td> - </td><td>0</td><td>2024-12-15T20:00:52.137Z</td></tr><tr><td>2367</td><td>27-JUN-08 09.53.32.335522 PM</td><td>online</td><td>148</td><td>10</td><td>144054.8</td><td>null</td><td> - </td><td>0</td><td>2024-12-15T20:00:52.137Z</td></tr><tr><td>2368</td><td>26-JUN-08 10.19.43.190089 PM</td><td>online</td><td>149</td><td>10</td><td>60065.0</td><td>null</td><td> - </td><td>0</td><td>2024-12-15T20:00:52.137Z</td></tr><tr><td>2369</td><td>26-JUN-07 11.22.54.009932 PM</td><td>online</td><td>116</td><td>0</td><td>11097.4</td><td>null</td><td> - </td><td>0</td><td>2024-12-15T20:00:52.137Z</td></tr><tr><td>2370</td><td>27-JUN-08 12.22.11.647398 AM</td><td>online</td><td>117</td><td>4</td><td>126.0</td><td>null</td><td> - </td><td>0</td><td>2024-12-15T20:00:52.137Z</td></tr><tr><td>2371</td><td>16-MAY-07 01.34.56.113356 AM</td><td>online</td><td>118</td><td>6</td><td>79405.6</td><td>null</td><td> - </td><td>0</td><td>2024-12-15T20:00:52.137Z</td></tr><tr><td>2372</td><td>27-FEB-07 12.22.33.356789 AM</td><td>online</td><td>119</td><td>9</td><td>16447.2</td><td>null</td><td> - </td><td>0</td><td>2024-12-15T20:00:52.137Z</td></tr><tr><td>2373</td><td>27-FEB-08 01.34.51.220065 AM</td><td>online</td><td>120</td><td>4</td><td>416.0</td><td>null</td><td> - </td><td>0</td><td>2024-12-15T20:00:52.137Z</td></tr><tr><td>2374</td><td>27-FEB-08 02.41.45.109654 AM</td><td>online</td><td>121</td><td>0</td><td>4797.0</td><td>null</td><td> - </td><td>0</td><td>2024-12-15T20:00:52.137Z</td></tr><tr><td>2375</td><td>26-FEB-07 03.49.50.459233 AM</td><td>online</td><td>122</td><td>2</td><td>103834.4</td><td>null</td><td> - </td><td>0</td><td>2024-12-15T20:00:52.137Z</td></tr><tr><td>2376</td><td>07-JUN-07 06.18.08.883310 AM</td><td>online</td><td>123</td><td>6</td><td>11006.2</td><td>null</td><td> - </td><td>0</td><td>2024-12-15T20:00:52.137Z</td></tr><tr><td>2377</td><td>07-JUN-07 07.03.01.001100 AM</td><td>online</td><td>141</td><td>5</td><td>38017.8</td><td>null</td><td> - </td><td>0</td><td>2024-12-15T20:00:52.137Z</td></tr><tr><td>2378</td><td>24-MAY-07 08.59.10.010101 AM</td><td>online</td><td>142</td><td>5</td><td>25691.3</td><td>null</td><td> - </td><td>0</td><td>2024-12-15T20:00:52.137Z</td></tr><tr><td>2380</td><td>16-MAY-07 09.53.02.909090 AM</td><td>online</td><td>143</td><td>3</td><td>27132.6</td><td>null</td><td> - </td><td>0</td><td>2024-12-15T20:00:52.137Z</td></tr><tr><td>2382</td><td>14-MAY-08 10.19.03.828321 AM</td><td>online</td><td>144</td><td>8</td><td>71173.0</td><td>null</td><td> - </td><td>0</td><td>2024-12-15T20:00:52.137Z</td></tr><tr><td>2383</td><td>12-MAY-08 11.22.30.545103 AM</td><td>online</td><td>145</td><td>8</td><td>36374.7</td><td>null</td><td> - </td><td>0</td><td>2024-12-15T20:00:52.137Z</td></tr><tr><td>2384</td><td>12-MAY-08 12.22.34.525972 PM</td><td>online</td><td>146</td><td>3</td><td>29249.1</td><td>null</td><td> - </td><td>0</td><td>2024-12-15T20:00:52.137Z</td></tr><tr><td>2385</td><td>08-DEC-07 11.34.11.331392 AM</td><td>online</td><td>147</td><td>4</td><td>295892.0</td><td>null</td><td> - </td><td>0</td><td>2024-12-15T20:00:52.137Z</td></tr><tr><td>2386</td><td>06-DEC-07 12.22.34.225609 PM</td><td>online</td><td>148</td><td>10</td><td>21116.9</td><td>null</td><td> - </td><td>0</td><td>2024-12-15T20:00:52.137Z</td></tr><tr><td>2387</td><td>11-MAR-07 03.34.56.536966 PM</td><td>online</td><td>149</td><td>5</td><td>52758.9</td><td>null</td><td> - </td><td>0</td><td>2024-12-15T20:00:52.137Z</td></tr><tr><td>2388</td><td>04-JUN-07 04.41.12.554435 PM</td><td>online</td><td>150</td><td>4</td><td>282694.3</td><td>null</td><td> - </td><td>0</td><td>2024-12-15T20:00:52.137Z</td></tr></tbody></table></div>"
      ]
     },
     "metadata": {
      "application/vnd.databricks.v1+output": {
       "addedWidgets": {},
       "aggData": [],
       "aggError": "",
       "aggOverflow": false,
       "aggSchema": [],
       "aggSeriesLimitReached": false,
       "aggType": "",
       "arguments": {},
       "columnCustomDisplayInfos": {},
       "data": [
        [
         2458,
         "16-AUG-07 03.34.12.234359 PM",
         "direct",
         101,
         0,
         78279.6,
         153,
         " - ",
         0,
         "2024-12-15T20:00:52.137Z"
        ],
        [
         2397,
         "19-NOV-07 02.41.54.696211 PM",
         "direct",
         102,
         1,
         42283.2,
         154,
         " - ",
         0,
         "2024-12-15T20:00:52.137Z"
        ],
        [
         2454,
         "02-OCT-07 05.49.34.678340 PM",
         "direct",
         103,
         1,
         6653.4,
         154,
         " - ",
         0,
         "2024-12-15T20:00:52.137Z"
        ],
        [
         2354,
         "14-JUL-08 06.18.23.234567 PM",
         "direct",
         104,
         0,
         46257.0,
         155,
         " - ",
         0,
         "2024-12-15T20:00:52.137Z"
        ],
        [
         2358,
         "08-JAN-08 05.03.12.654278 PM",
         "direct",
         105,
         2,
         7826.0,
         155,
         " - ",
         0,
         "2024-12-15T20:00:52.137Z"
        ],
        [
         2381,
         "14-MAY-08 08.59.08.843679 PM",
         "direct",
         106,
         3,
         23034.6,
         156,
         " - ",
         0,
         "2024-12-15T20:00:52.137Z"
        ],
        [
         2440,
         "31-AUG-07 09.53.06.008765 PM",
         "direct",
         107,
         3,
         70576.9,
         156,
         " - ",
         0,
         "2024-12-15T20:00:52.137Z"
        ],
        [
         2357,
         "08-JAN-06 08.19.44.123456 PM",
         "direct",
         108,
         5,
         59872.4,
         158,
         " - ",
         0,
         "2024-12-15T20:00:52.137Z"
        ],
        [
         2394,
         "10-FEB-08 09.22.35.564789 PM",
         "direct",
         109,
         5,
         21863.0,
         158,
         " - ",
         0,
         "2024-12-15T20:00:52.137Z"
        ],
        [
         2435,
         "02-SEP-07 11.22.53.134567 PM",
         "direct",
         144,
         6,
         62303.0,
         159,
         " - ",
         0,
         "2024-12-15T20:00:52.137Z"
        ],
        [
         2455,
         "20-SEP-07 11.34.11.456789 AM",
         "direct",
         145,
         7,
         14087.5,
         160,
         " - ",
         0,
         "2024-12-15T20:00:52.137Z"
        ],
        [
         2379,
         "16-MAY-07 02.22.24.234567 AM",
         "direct",
         146,
         8,
         17848.2,
         161,
         " - ",
         0,
         "2024-12-15T20:00:52.137Z"
        ],
        [
         2396,
         "02-FEB-06 01.34.56.345678 AM",
         "direct",
         147,
         8,
         34930.0,
         161,
         " - ",
         0,
         "2024-12-15T20:00:52.137Z"
        ],
        [
         2406,
         "29-JUN-07 04.41.20.098765 AM",
         "direct",
         148,
         8,
         2854.2,
         161,
         " - ",
         0,
         "2024-12-15T20:00:52.137Z"
        ],
        [
         2434,
         "13-SEP-07 05.49.30.647893 AM",
         "direct",
         149,
         8,
         268651.8,
         161,
         " - ",
         0,
         "2024-12-15T20:00:52.137Z"
        ],
        [
         2436,
         "02-SEP-07 06.18.04.378034 AM",
         "direct",
         116,
         8,
         6394.8,
         161,
         " - ",
         0,
         "2024-12-15T20:00:52.137Z"
        ],
        [
         2446,
         "27-JUL-07 07.03.08.302945 AM",
         "direct",
         117,
         8,
         103679.3,
         161,
         " - ",
         0,
         "2024-12-15T20:00:52.137Z"
        ],
        [
         2447,
         "27-JUL-08 08.59.10.223344 AM",
         "direct",
         101,
         8,
         33893.6,
         161,
         " - ",
         0,
         "2024-12-15T20:00:52.137Z"
        ],
        [
         2432,
         "14-SEP-07 09.53.40.223345 AM",
         "direct",
         102,
         10,
         10523.0,
         163,
         " - ",
         0,
         "2024-12-15T20:00:52.137Z"
        ],
        [
         2433,
         "13-SEP-07 10.19.00.654279 AM",
         "direct",
         103,
         10,
         78.0,
         163,
         " - ",
         0,
         "2024-12-15T20:00:52.137Z"
        ],
        [
         2355,
         "26-JAN-06 09.22.51.962632 AM",
         "online",
         104,
         8,
         94513.5,
         null,
         " - ",
         0,
         "2024-12-15T20:00:52.137Z"
        ],
        [
         2356,
         "26-JAN-08 09.22.41.934562 AM",
         "online",
         105,
         5,
         29473.8,
         null,
         " - ",
         0,
         "2024-12-15T20:00:52.137Z"
        ],
        [
         2359,
         "08-JAN-06 09.34.13.112233 PM",
         "online",
         106,
         9,
         5543.1,
         null,
         " - ",
         0,
         "2024-12-15T20:00:52.137Z"
        ],
        [
         2360,
         "14-NOV-07 12.22.31.223344 PM",
         "online",
         107,
         4,
         990.4,
         null,
         " - ",
         0,
         "2024-12-15T20:00:52.137Z"
        ],
        [
         2361,
         "13-NOV-07 01.34.21.986210 PM",
         "online",
         108,
         8,
         120131.3,
         null,
         " - ",
         0,
         "2024-12-15T20:00:52.137Z"
        ],
        [
         2362,
         "13-NOV-07 02.41.10.619477 PM",
         "online",
         109,
         4,
         92829.4,
         null,
         " - ",
         0,
         "2024-12-15T20:00:52.137Z"
        ],
        [
         2363,
         "23-OCT-07 05.49.56.346122 PM",
         "online",
         144,
         0,
         10082.3,
         null,
         " - ",
         0,
         "2024-12-15T20:00:52.137Z"
        ],
        [
         2364,
         "28-AUG-07 06.18.45.942399 PM",
         "online",
         145,
         4,
         9500.0,
         null,
         " - ",
         0,
         "2024-12-15T20:00:52.137Z"
        ],
        [
         2365,
         "28-AUG-07 07.03.34.003399 PM",
         "online",
         146,
         9,
         27455.3,
         null,
         " - ",
         0,
         "2024-12-15T20:00:52.137Z"
        ],
        [
         2366,
         "28-AUG-07 08.59.23.144778 PM",
         "online",
         147,
         5,
         37319.4,
         null,
         " - ",
         0,
         "2024-12-15T20:00:52.137Z"
        ],
        [
         2367,
         "27-JUN-08 09.53.32.335522 PM",
         "online",
         148,
         10,
         144054.8,
         null,
         " - ",
         0,
         "2024-12-15T20:00:52.137Z"
        ],
        [
         2368,
         "26-JUN-08 10.19.43.190089 PM",
         "online",
         149,
         10,
         60065.0,
         null,
         " - ",
         0,
         "2024-12-15T20:00:52.137Z"
        ],
        [
         2369,
         "26-JUN-07 11.22.54.009932 PM",
         "online",
         116,
         0,
         11097.4,
         null,
         " - ",
         0,
         "2024-12-15T20:00:52.137Z"
        ],
        [
         2370,
         "27-JUN-08 12.22.11.647398 AM",
         "online",
         117,
         4,
         126.0,
         null,
         " - ",
         0,
         "2024-12-15T20:00:52.137Z"
        ],
        [
         2371,
         "16-MAY-07 01.34.56.113356 AM",
         "online",
         118,
         6,
         79405.6,
         null,
         " - ",
         0,
         "2024-12-15T20:00:52.137Z"
        ],
        [
         2372,
         "27-FEB-07 12.22.33.356789 AM",
         "online",
         119,
         9,
         16447.2,
         null,
         " - ",
         0,
         "2024-12-15T20:00:52.137Z"
        ],
        [
         2373,
         "27-FEB-08 01.34.51.220065 AM",
         "online",
         120,
         4,
         416.0,
         null,
         " - ",
         0,
         "2024-12-15T20:00:52.137Z"
        ],
        [
         2374,
         "27-FEB-08 02.41.45.109654 AM",
         "online",
         121,
         0,
         4797.0,
         null,
         " - ",
         0,
         "2024-12-15T20:00:52.137Z"
        ],
        [
         2375,
         "26-FEB-07 03.49.50.459233 AM",
         "online",
         122,
         2,
         103834.4,
         null,
         " - ",
         0,
         "2024-12-15T20:00:52.137Z"
        ],
        [
         2376,
         "07-JUN-07 06.18.08.883310 AM",
         "online",
         123,
         6,
         11006.2,
         null,
         " - ",
         0,
         "2024-12-15T20:00:52.137Z"
        ],
        [
         2377,
         "07-JUN-07 07.03.01.001100 AM",
         "online",
         141,
         5,
         38017.8,
         null,
         " - ",
         0,
         "2024-12-15T20:00:52.137Z"
        ],
        [
         2378,
         "24-MAY-07 08.59.10.010101 AM",
         "online",
         142,
         5,
         25691.3,
         null,
         " - ",
         0,
         "2024-12-15T20:00:52.137Z"
        ],
        [
         2380,
         "16-MAY-07 09.53.02.909090 AM",
         "online",
         143,
         3,
         27132.6,
         null,
         " - ",
         0,
         "2024-12-15T20:00:52.137Z"
        ],
        [
         2382,
         "14-MAY-08 10.19.03.828321 AM",
         "online",
         144,
         8,
         71173.0,
         null,
         " - ",
         0,
         "2024-12-15T20:00:52.137Z"
        ],
        [
         2383,
         "12-MAY-08 11.22.30.545103 AM",
         "online",
         145,
         8,
         36374.7,
         null,
         " - ",
         0,
         "2024-12-15T20:00:52.137Z"
        ],
        [
         2384,
         "12-MAY-08 12.22.34.525972 PM",
         "online",
         146,
         3,
         29249.1,
         null,
         " - ",
         0,
         "2024-12-15T20:00:52.137Z"
        ],
        [
         2385,
         "08-DEC-07 11.34.11.331392 AM",
         "online",
         147,
         4,
         295892.0,
         null,
         " - ",
         0,
         "2024-12-15T20:00:52.137Z"
        ],
        [
         2386,
         "06-DEC-07 12.22.34.225609 PM",
         "online",
         148,
         10,
         21116.9,
         null,
         " - ",
         0,
         "2024-12-15T20:00:52.137Z"
        ],
        [
         2387,
         "11-MAR-07 03.34.56.536966 PM",
         "online",
         149,
         5,
         52758.9,
         null,
         " - ",
         0,
         "2024-12-15T20:00:52.137Z"
        ],
        [
         2388,
         "04-JUN-07 04.41.12.554435 PM",
         "online",
         150,
         4,
         282694.3,
         null,
         " - ",
         0,
         "2024-12-15T20:00:52.137Z"
        ]
       ],
       "datasetInfos": [],
       "dbfsResultPath": null,
       "isJsonSchema": true,
       "metadata": {},
       "overflow": false,
       "plotOptions": {
        "customPlotOptions": {},
        "displayType": "table",
        "pivotAggregation": null,
        "pivotColumns": null,
        "xColumns": null,
        "yColumns": null
       },
       "removedWidgets": [],
       "schema": [
        {
         "metadata": "{}",
         "name": "order_id",
         "type": "\"integer\""
        },
        {
         "metadata": "{}",
         "name": "order_date",
         "type": "\"string\""
        },
        {
         "metadata": "{}",
         "name": "order_mode",
         "type": "\"string\""
        },
        {
         "metadata": "{}",
         "name": "customer_id",
         "type": "\"integer\""
        },
        {
         "metadata": "{}",
         "name": "order_status",
         "type": "\"integer\""
        },
        {
         "metadata": "{}",
         "name": "order_total",
         "type": "\"double\""
        },
        {
         "metadata": "{}",
         "name": "sales_rep_id",
         "type": "\"integer\""
        },
        {
         "metadata": "{}",
         "name": "promotion_id",
         "type": "\"string\""
        },
        {
         "metadata": "{}",
         "name": "batch_id",
         "type": "\"integer\""
        },
        {
         "metadata": "{}",
         "name": "ingest_datetime",
         "type": "\"timestamp\""
        }
       ],
       "type": "table"
      }
     },
     "output_type": "display_data"
    }
   ],
   "source": [
    "# Convert column names to lowercase \n",
    "new_col = []                                        #  Initialize an empty list for new column names\n",
    "for column in orders.columns:\n",
    "    new_col.append(column.lower())                  # Convert to lowercase\n",
    "orders = orders.toDF(*new_col)                      # Rename columns in the DataFrame\n",
    "orders.display()"
   ]
  },
  {
   "cell_type": "code",
   "execution_count": 0,
   "metadata": {
    "application/vnd.databricks.v1+cell": {
     "cellMetadata": {
      "byteLimit": 2048000,
      "rowLimit": 10000
     },
     "inputWidgets": {},
     "nuid": "3f1f1c62-89c2-4e0b-b28d-3a10b625c30d",
     "showTitle": false,
     "tableResultSettingsMap": {},
     "title": ""
    }
   },
   "outputs": [],
   "source": [
    "# Define a transformation function to process the \"orders\" DataFrame\n",
    "\n",
    "def transformation(orders):\n",
    "    # Convert the \"order_date\" column from string format to a timestamp\n",
    "    # Format: \"dd-MMM-yy hh.mm.ss.SSSSSS a\"\n",
    "    orders= orders.withColumn(\"order_date\", to_timestamp(col(\"order_date\"), \"dd-MMM-yy hh.mm.ss.SSSSSS a\"))\n",
    "    # Rename the \"ingest_datetime\" column to \"consume_timestamp\" for better clarity\n",
    "    orders= orders.withColumnRenamed('ingest_datetime','consume_timestamp')\n",
    "    # Drop the \"batch_id\" column as it is no longer needed in the transformed data\n",
    "    orders = orders.drop('batch_id')\n",
    "    # Add a new column \"load_tsp\" to record the current timestamp for auditing\n",
    "    orders = orders.withColumn('load_tsp', current_timestamp())\n",
    "    # Return the transformed DataFrame\n",
    "    return orders"
   ]
  },
  {
   "cell_type": "code",
   "execution_count": 0,
   "metadata": {
    "application/vnd.databricks.v1+cell": {
     "cellMetadata": {
      "byteLimit": 2048000,
      "rowLimit": 10000
     },
     "inputWidgets": {},
     "nuid": "082af4c3-5472-4fe3-b509-08a980f8487c",
     "showTitle": false,
     "tableResultSettingsMap": {},
     "title": ""
    }
   },
   "outputs": [
    {
     "output_type": "display_data",
     "data": {
      "text/html": [
       "<style scoped>\n",
       "  .table-result-container {\n",
       "    max-height: 300px;\n",
       "    overflow: auto;\n",
       "  }\n",
       "  table, th, td {\n",
       "    border: 1px solid black;\n",
       "    border-collapse: collapse;\n",
       "  }\n",
       "  th, td {\n",
       "    padding: 5px;\n",
       "  }\n",
       "  th {\n",
       "    text-align: left;\n",
       "  }\n",
       "</style><div class='table-result-container'><table class='table-result'><thead style='background-color: white'><tr><th>ORDER_ID</th><th>order_date</th><th>ORDER_MODE</th><th>CUSTOMER_ID</th><th>ORDER_STATUS</th><th>ORDER_TOTAL</th><th>SALES_REP_ID</th><th>PROMOTION_ID</th><th>consume_timestamp</th><th>load_tsp</th></tr></thead><tbody><tr><td>2458</td><td>2007-08-16T15:34:12.234359Z</td><td>direct</td><td>101</td><td>0</td><td>78279.6</td><td>153</td><td> - </td><td>2024-12-15T20:00:52.137Z</td><td>2024-12-15T20:18:07.713Z</td></tr><tr><td>2397</td><td>2007-11-19T14:41:54.696211Z</td><td>direct</td><td>102</td><td>1</td><td>42283.2</td><td>154</td><td> - </td><td>2024-12-15T20:00:52.137Z</td><td>2024-12-15T20:18:07.713Z</td></tr><tr><td>2454</td><td>2007-10-02T17:49:34.67834Z</td><td>direct</td><td>103</td><td>1</td><td>6653.4</td><td>154</td><td> - </td><td>2024-12-15T20:00:52.137Z</td><td>2024-12-15T20:18:07.713Z</td></tr><tr><td>2354</td><td>2008-07-14T18:18:23.234567Z</td><td>direct</td><td>104</td><td>0</td><td>46257.0</td><td>155</td><td> - </td><td>2024-12-15T20:00:52.137Z</td><td>2024-12-15T20:18:07.713Z</td></tr><tr><td>2358</td><td>2008-01-08T17:03:12.654278Z</td><td>direct</td><td>105</td><td>2</td><td>7826.0</td><td>155</td><td> - </td><td>2024-12-15T20:00:52.137Z</td><td>2024-12-15T20:18:07.713Z</td></tr><tr><td>2381</td><td>2008-05-14T20:59:08.843679Z</td><td>direct</td><td>106</td><td>3</td><td>23034.6</td><td>156</td><td> - </td><td>2024-12-15T20:00:52.137Z</td><td>2024-12-15T20:18:07.713Z</td></tr><tr><td>2440</td><td>2007-08-31T21:53:06.008765Z</td><td>direct</td><td>107</td><td>3</td><td>70576.9</td><td>156</td><td> - </td><td>2024-12-15T20:00:52.137Z</td><td>2024-12-15T20:18:07.713Z</td></tr><tr><td>2357</td><td>2006-01-08T20:19:44.123456Z</td><td>direct</td><td>108</td><td>5</td><td>59872.4</td><td>158</td><td> - </td><td>2024-12-15T20:00:52.137Z</td><td>2024-12-15T20:18:07.713Z</td></tr><tr><td>2394</td><td>2008-02-10T21:22:35.564789Z</td><td>direct</td><td>109</td><td>5</td><td>21863.0</td><td>158</td><td> - </td><td>2024-12-15T20:00:52.137Z</td><td>2024-12-15T20:18:07.713Z</td></tr><tr><td>2435</td><td>2007-09-02T23:22:53.134567Z</td><td>direct</td><td>144</td><td>6</td><td>62303.0</td><td>159</td><td> - </td><td>2024-12-15T20:00:52.137Z</td><td>2024-12-15T20:18:07.713Z</td></tr><tr><td>2455</td><td>2007-09-20T11:34:11.456789Z</td><td>direct</td><td>145</td><td>7</td><td>14087.5</td><td>160</td><td> - </td><td>2024-12-15T20:00:52.137Z</td><td>2024-12-15T20:18:07.713Z</td></tr><tr><td>2379</td><td>2007-05-16T02:22:24.234567Z</td><td>direct</td><td>146</td><td>8</td><td>17848.2</td><td>161</td><td> - </td><td>2024-12-15T20:00:52.137Z</td><td>2024-12-15T20:18:07.713Z</td></tr><tr><td>2396</td><td>2006-02-02T01:34:56.345678Z</td><td>direct</td><td>147</td><td>8</td><td>34930.0</td><td>161</td><td> - </td><td>2024-12-15T20:00:52.137Z</td><td>2024-12-15T20:18:07.713Z</td></tr><tr><td>2406</td><td>2007-06-29T04:41:20.098765Z</td><td>direct</td><td>148</td><td>8</td><td>2854.2</td><td>161</td><td> - </td><td>2024-12-15T20:00:52.137Z</td><td>2024-12-15T20:18:07.713Z</td></tr><tr><td>2434</td><td>2007-09-13T05:49:30.647893Z</td><td>direct</td><td>149</td><td>8</td><td>268651.8</td><td>161</td><td> - </td><td>2024-12-15T20:00:52.137Z</td><td>2024-12-15T20:18:07.713Z</td></tr><tr><td>2436</td><td>2007-09-02T06:18:04.378034Z</td><td>direct</td><td>116</td><td>8</td><td>6394.8</td><td>161</td><td> - </td><td>2024-12-15T20:00:52.137Z</td><td>2024-12-15T20:18:07.713Z</td></tr><tr><td>2446</td><td>2007-07-27T07:03:08.302945Z</td><td>direct</td><td>117</td><td>8</td><td>103679.3</td><td>161</td><td> - </td><td>2024-12-15T20:00:52.137Z</td><td>2024-12-15T20:18:07.713Z</td></tr><tr><td>2447</td><td>2008-07-27T08:59:10.223344Z</td><td>direct</td><td>101</td><td>8</td><td>33893.6</td><td>161</td><td> - </td><td>2024-12-15T20:00:52.137Z</td><td>2024-12-15T20:18:07.713Z</td></tr><tr><td>2432</td><td>2007-09-14T09:53:40.223345Z</td><td>direct</td><td>102</td><td>10</td><td>10523.0</td><td>163</td><td> - </td><td>2024-12-15T20:00:52.137Z</td><td>2024-12-15T20:18:07.713Z</td></tr><tr><td>2433</td><td>2007-09-13T10:19:00.654279Z</td><td>direct</td><td>103</td><td>10</td><td>78.0</td><td>163</td><td> - </td><td>2024-12-15T20:00:52.137Z</td><td>2024-12-15T20:18:07.713Z</td></tr><tr><td>2355</td><td>2006-01-26T09:22:51.962632Z</td><td>online</td><td>104</td><td>8</td><td>94513.5</td><td>null</td><td> - </td><td>2024-12-15T20:00:52.137Z</td><td>2024-12-15T20:18:07.713Z</td></tr><tr><td>2356</td><td>2008-01-26T09:22:41.934562Z</td><td>online</td><td>105</td><td>5</td><td>29473.8</td><td>null</td><td> - </td><td>2024-12-15T20:00:52.137Z</td><td>2024-12-15T20:18:07.713Z</td></tr><tr><td>2359</td><td>2006-01-08T21:34:13.112233Z</td><td>online</td><td>106</td><td>9</td><td>5543.1</td><td>null</td><td> - </td><td>2024-12-15T20:00:52.137Z</td><td>2024-12-15T20:18:07.713Z</td></tr><tr><td>2360</td><td>2007-11-14T12:22:31.223344Z</td><td>online</td><td>107</td><td>4</td><td>990.4</td><td>null</td><td> - </td><td>2024-12-15T20:00:52.137Z</td><td>2024-12-15T20:18:07.713Z</td></tr><tr><td>2361</td><td>2007-11-13T13:34:21.98621Z</td><td>online</td><td>108</td><td>8</td><td>120131.3</td><td>null</td><td> - </td><td>2024-12-15T20:00:52.137Z</td><td>2024-12-15T20:18:07.713Z</td></tr><tr><td>2362</td><td>2007-11-13T14:41:10.619477Z</td><td>online</td><td>109</td><td>4</td><td>92829.4</td><td>null</td><td> - </td><td>2024-12-15T20:00:52.137Z</td><td>2024-12-15T20:18:07.713Z</td></tr><tr><td>2363</td><td>2007-10-23T17:49:56.346122Z</td><td>online</td><td>144</td><td>0</td><td>10082.3</td><td>null</td><td> - </td><td>2024-12-15T20:00:52.137Z</td><td>2024-12-15T20:18:07.713Z</td></tr><tr><td>2364</td><td>2007-08-28T18:18:45.942399Z</td><td>online</td><td>145</td><td>4</td><td>9500.0</td><td>null</td><td> - </td><td>2024-12-15T20:00:52.137Z</td><td>2024-12-15T20:18:07.713Z</td></tr><tr><td>2365</td><td>2007-08-28T19:03:34.003399Z</td><td>online</td><td>146</td><td>9</td><td>27455.3</td><td>null</td><td> - </td><td>2024-12-15T20:00:52.137Z</td><td>2024-12-15T20:18:07.713Z</td></tr><tr><td>2366</td><td>2007-08-28T20:59:23.144778Z</td><td>online</td><td>147</td><td>5</td><td>37319.4</td><td>null</td><td> - </td><td>2024-12-15T20:00:52.137Z</td><td>2024-12-15T20:18:07.713Z</td></tr><tr><td>2367</td><td>2008-06-27T21:53:32.335522Z</td><td>online</td><td>148</td><td>10</td><td>144054.8</td><td>null</td><td> - </td><td>2024-12-15T20:00:52.137Z</td><td>2024-12-15T20:18:07.713Z</td></tr><tr><td>2368</td><td>2008-06-26T22:19:43.190089Z</td><td>online</td><td>149</td><td>10</td><td>60065.0</td><td>null</td><td> - </td><td>2024-12-15T20:00:52.137Z</td><td>2024-12-15T20:18:07.713Z</td></tr><tr><td>2369</td><td>2007-06-26T23:22:54.009932Z</td><td>online</td><td>116</td><td>0</td><td>11097.4</td><td>null</td><td> - </td><td>2024-12-15T20:00:52.137Z</td><td>2024-12-15T20:18:07.713Z</td></tr><tr><td>2370</td><td>2008-06-27T00:22:11.647398Z</td><td>online</td><td>117</td><td>4</td><td>126.0</td><td>null</td><td> - </td><td>2024-12-15T20:00:52.137Z</td><td>2024-12-15T20:18:07.713Z</td></tr><tr><td>2371</td><td>2007-05-16T01:34:56.113356Z</td><td>online</td><td>118</td><td>6</td><td>79405.6</td><td>null</td><td> - </td><td>2024-12-15T20:00:52.137Z</td><td>2024-12-15T20:18:07.713Z</td></tr><tr><td>2372</td><td>2007-02-27T00:22:33.356789Z</td><td>online</td><td>119</td><td>9</td><td>16447.2</td><td>null</td><td> - </td><td>2024-12-15T20:00:52.137Z</td><td>2024-12-15T20:18:07.713Z</td></tr><tr><td>2373</td><td>2008-02-27T01:34:51.220065Z</td><td>online</td><td>120</td><td>4</td><td>416.0</td><td>null</td><td> - </td><td>2024-12-15T20:00:52.137Z</td><td>2024-12-15T20:18:07.713Z</td></tr><tr><td>2374</td><td>2008-02-27T02:41:45.109654Z</td><td>online</td><td>121</td><td>0</td><td>4797.0</td><td>null</td><td> - </td><td>2024-12-15T20:00:52.137Z</td><td>2024-12-15T20:18:07.713Z</td></tr><tr><td>2375</td><td>2007-02-26T03:49:50.459233Z</td><td>online</td><td>122</td><td>2</td><td>103834.4</td><td>null</td><td> - </td><td>2024-12-15T20:00:52.137Z</td><td>2024-12-15T20:18:07.713Z</td></tr><tr><td>2376</td><td>2007-06-07T06:18:08.88331Z</td><td>online</td><td>123</td><td>6</td><td>11006.2</td><td>null</td><td> - </td><td>2024-12-15T20:00:52.137Z</td><td>2024-12-15T20:18:07.713Z</td></tr><tr><td>2377</td><td>2007-06-07T07:03:01.0011Z</td><td>online</td><td>141</td><td>5</td><td>38017.8</td><td>null</td><td> - </td><td>2024-12-15T20:00:52.137Z</td><td>2024-12-15T20:18:07.713Z</td></tr><tr><td>2378</td><td>2007-05-24T08:59:10.010101Z</td><td>online</td><td>142</td><td>5</td><td>25691.3</td><td>null</td><td> - </td><td>2024-12-15T20:00:52.137Z</td><td>2024-12-15T20:18:07.713Z</td></tr><tr><td>2380</td><td>2007-05-16T09:53:02.90909Z</td><td>online</td><td>143</td><td>3</td><td>27132.6</td><td>null</td><td> - </td><td>2024-12-15T20:00:52.137Z</td><td>2024-12-15T20:18:07.713Z</td></tr><tr><td>2382</td><td>2008-05-14T10:19:03.828321Z</td><td>online</td><td>144</td><td>8</td><td>71173.0</td><td>null</td><td> - </td><td>2024-12-15T20:00:52.137Z</td><td>2024-12-15T20:18:07.713Z</td></tr><tr><td>2383</td><td>2008-05-12T11:22:30.545103Z</td><td>online</td><td>145</td><td>8</td><td>36374.7</td><td>null</td><td> - </td><td>2024-12-15T20:00:52.137Z</td><td>2024-12-15T20:18:07.713Z</td></tr><tr><td>2384</td><td>2008-05-12T12:22:34.525972Z</td><td>online</td><td>146</td><td>3</td><td>29249.1</td><td>null</td><td> - </td><td>2024-12-15T20:00:52.137Z</td><td>2024-12-15T20:18:07.713Z</td></tr><tr><td>2385</td><td>2007-12-08T11:34:11.331392Z</td><td>online</td><td>147</td><td>4</td><td>295892.0</td><td>null</td><td> - </td><td>2024-12-15T20:00:52.137Z</td><td>2024-12-15T20:18:07.713Z</td></tr><tr><td>2386</td><td>2007-12-06T12:22:34.225609Z</td><td>online</td><td>148</td><td>10</td><td>21116.9</td><td>null</td><td> - </td><td>2024-12-15T20:00:52.137Z</td><td>2024-12-15T20:18:07.713Z</td></tr><tr><td>2387</td><td>2007-03-11T15:34:56.536966Z</td><td>online</td><td>149</td><td>5</td><td>52758.9</td><td>null</td><td> - </td><td>2024-12-15T20:00:52.137Z</td><td>2024-12-15T20:18:07.713Z</td></tr><tr><td>2388</td><td>2007-06-04T16:41:12.554435Z</td><td>online</td><td>150</td><td>4</td><td>282694.3</td><td>null</td><td> - </td><td>2024-12-15T20:00:52.137Z</td><td>2024-12-15T20:18:07.713Z</td></tr></tbody></table></div>"
      ]
     },
     "metadata": {
      "application/vnd.databricks.v1+output": {
       "addedWidgets": {},
       "aggData": [],
       "aggError": "",
       "aggOverflow": false,
       "aggSchema": [],
       "aggSeriesLimitReached": false,
       "aggType": "",
       "arguments": {},
       "columnCustomDisplayInfos": {},
       "data": [
        [
         2458,
         "2007-08-16T15:34:12.234359Z",
         "direct",
         101,
         0,
         78279.6,
         153,
         " - ",
         "2024-12-15T20:00:52.137Z",
         "2024-12-15T20:18:07.713Z"
        ],
        [
         2397,
         "2007-11-19T14:41:54.696211Z",
         "direct",
         102,
         1,
         42283.2,
         154,
         " - ",
         "2024-12-15T20:00:52.137Z",
         "2024-12-15T20:18:07.713Z"
        ],
        [
         2454,
         "2007-10-02T17:49:34.67834Z",
         "direct",
         103,
         1,
         6653.4,
         154,
         " - ",
         "2024-12-15T20:00:52.137Z",
         "2024-12-15T20:18:07.713Z"
        ],
        [
         2354,
         "2008-07-14T18:18:23.234567Z",
         "direct",
         104,
         0,
         46257.0,
         155,
         " - ",
         "2024-12-15T20:00:52.137Z",
         "2024-12-15T20:18:07.713Z"
        ],
        [
         2358,
         "2008-01-08T17:03:12.654278Z",
         "direct",
         105,
         2,
         7826.0,
         155,
         " - ",
         "2024-12-15T20:00:52.137Z",
         "2024-12-15T20:18:07.713Z"
        ],
        [
         2381,
         "2008-05-14T20:59:08.843679Z",
         "direct",
         106,
         3,
         23034.6,
         156,
         " - ",
         "2024-12-15T20:00:52.137Z",
         "2024-12-15T20:18:07.713Z"
        ],
        [
         2440,
         "2007-08-31T21:53:06.008765Z",
         "direct",
         107,
         3,
         70576.9,
         156,
         " - ",
         "2024-12-15T20:00:52.137Z",
         "2024-12-15T20:18:07.713Z"
        ],
        [
         2357,
         "2006-01-08T20:19:44.123456Z",
         "direct",
         108,
         5,
         59872.4,
         158,
         " - ",
         "2024-12-15T20:00:52.137Z",
         "2024-12-15T20:18:07.713Z"
        ],
        [
         2394,
         "2008-02-10T21:22:35.564789Z",
         "direct",
         109,
         5,
         21863.0,
         158,
         " - ",
         "2024-12-15T20:00:52.137Z",
         "2024-12-15T20:18:07.713Z"
        ],
        [
         2435,
         "2007-09-02T23:22:53.134567Z",
         "direct",
         144,
         6,
         62303.0,
         159,
         " - ",
         "2024-12-15T20:00:52.137Z",
         "2024-12-15T20:18:07.713Z"
        ],
        [
         2455,
         "2007-09-20T11:34:11.456789Z",
         "direct",
         145,
         7,
         14087.5,
         160,
         " - ",
         "2024-12-15T20:00:52.137Z",
         "2024-12-15T20:18:07.713Z"
        ],
        [
         2379,
         "2007-05-16T02:22:24.234567Z",
         "direct",
         146,
         8,
         17848.2,
         161,
         " - ",
         "2024-12-15T20:00:52.137Z",
         "2024-12-15T20:18:07.713Z"
        ],
        [
         2396,
         "2006-02-02T01:34:56.345678Z",
         "direct",
         147,
         8,
         34930.0,
         161,
         " - ",
         "2024-12-15T20:00:52.137Z",
         "2024-12-15T20:18:07.713Z"
        ],
        [
         2406,
         "2007-06-29T04:41:20.098765Z",
         "direct",
         148,
         8,
         2854.2,
         161,
         " - ",
         "2024-12-15T20:00:52.137Z",
         "2024-12-15T20:18:07.713Z"
        ],
        [
         2434,
         "2007-09-13T05:49:30.647893Z",
         "direct",
         149,
         8,
         268651.8,
         161,
         " - ",
         "2024-12-15T20:00:52.137Z",
         "2024-12-15T20:18:07.713Z"
        ],
        [
         2436,
         "2007-09-02T06:18:04.378034Z",
         "direct",
         116,
         8,
         6394.8,
         161,
         " - ",
         "2024-12-15T20:00:52.137Z",
         "2024-12-15T20:18:07.713Z"
        ],
        [
         2446,
         "2007-07-27T07:03:08.302945Z",
         "direct",
         117,
         8,
         103679.3,
         161,
         " - ",
         "2024-12-15T20:00:52.137Z",
         "2024-12-15T20:18:07.713Z"
        ],
        [
         2447,
         "2008-07-27T08:59:10.223344Z",
         "direct",
         101,
         8,
         33893.6,
         161,
         " - ",
         "2024-12-15T20:00:52.137Z",
         "2024-12-15T20:18:07.713Z"
        ],
        [
         2432,
         "2007-09-14T09:53:40.223345Z",
         "direct",
         102,
         10,
         10523.0,
         163,
         " - ",
         "2024-12-15T20:00:52.137Z",
         "2024-12-15T20:18:07.713Z"
        ],
        [
         2433,
         "2007-09-13T10:19:00.654279Z",
         "direct",
         103,
         10,
         78.0,
         163,
         " - ",
         "2024-12-15T20:00:52.137Z",
         "2024-12-15T20:18:07.713Z"
        ],
        [
         2355,
         "2006-01-26T09:22:51.962632Z",
         "online",
         104,
         8,
         94513.5,
         null,
         " - ",
         "2024-12-15T20:00:52.137Z",
         "2024-12-15T20:18:07.713Z"
        ],
        [
         2356,
         "2008-01-26T09:22:41.934562Z",
         "online",
         105,
         5,
         29473.8,
         null,
         " - ",
         "2024-12-15T20:00:52.137Z",
         "2024-12-15T20:18:07.713Z"
        ],
        [
         2359,
         "2006-01-08T21:34:13.112233Z",
         "online",
         106,
         9,
         5543.1,
         null,
         " - ",
         "2024-12-15T20:00:52.137Z",
         "2024-12-15T20:18:07.713Z"
        ],
        [
         2360,
         "2007-11-14T12:22:31.223344Z",
         "online",
         107,
         4,
         990.4,
         null,
         " - ",
         "2024-12-15T20:00:52.137Z",
         "2024-12-15T20:18:07.713Z"
        ],
        [
         2361,
         "2007-11-13T13:34:21.98621Z",
         "online",
         108,
         8,
         120131.3,
         null,
         " - ",
         "2024-12-15T20:00:52.137Z",
         "2024-12-15T20:18:07.713Z"
        ],
        [
         2362,
         "2007-11-13T14:41:10.619477Z",
         "online",
         109,
         4,
         92829.4,
         null,
         " - ",
         "2024-12-15T20:00:52.137Z",
         "2024-12-15T20:18:07.713Z"
        ],
        [
         2363,
         "2007-10-23T17:49:56.346122Z",
         "online",
         144,
         0,
         10082.3,
         null,
         " - ",
         "2024-12-15T20:00:52.137Z",
         "2024-12-15T20:18:07.713Z"
        ],
        [
         2364,
         "2007-08-28T18:18:45.942399Z",
         "online",
         145,
         4,
         9500.0,
         null,
         " - ",
         "2024-12-15T20:00:52.137Z",
         "2024-12-15T20:18:07.713Z"
        ],
        [
         2365,
         "2007-08-28T19:03:34.003399Z",
         "online",
         146,
         9,
         27455.3,
         null,
         " - ",
         "2024-12-15T20:00:52.137Z",
         "2024-12-15T20:18:07.713Z"
        ],
        [
         2366,
         "2007-08-28T20:59:23.144778Z",
         "online",
         147,
         5,
         37319.4,
         null,
         " - ",
         "2024-12-15T20:00:52.137Z",
         "2024-12-15T20:18:07.713Z"
        ],
        [
         2367,
         "2008-06-27T21:53:32.335522Z",
         "online",
         148,
         10,
         144054.8,
         null,
         " - ",
         "2024-12-15T20:00:52.137Z",
         "2024-12-15T20:18:07.713Z"
        ],
        [
         2368,
         "2008-06-26T22:19:43.190089Z",
         "online",
         149,
         10,
         60065.0,
         null,
         " - ",
         "2024-12-15T20:00:52.137Z",
         "2024-12-15T20:18:07.713Z"
        ],
        [
         2369,
         "2007-06-26T23:22:54.009932Z",
         "online",
         116,
         0,
         11097.4,
         null,
         " - ",
         "2024-12-15T20:00:52.137Z",
         "2024-12-15T20:18:07.713Z"
        ],
        [
         2370,
         "2008-06-27T00:22:11.647398Z",
         "online",
         117,
         4,
         126.0,
         null,
         " - ",
         "2024-12-15T20:00:52.137Z",
         "2024-12-15T20:18:07.713Z"
        ],
        [
         2371,
         "2007-05-16T01:34:56.113356Z",
         "online",
         118,
         6,
         79405.6,
         null,
         " - ",
         "2024-12-15T20:00:52.137Z",
         "2024-12-15T20:18:07.713Z"
        ],
        [
         2372,
         "2007-02-27T00:22:33.356789Z",
         "online",
         119,
         9,
         16447.2,
         null,
         " - ",
         "2024-12-15T20:00:52.137Z",
         "2024-12-15T20:18:07.713Z"
        ],
        [
         2373,
         "2008-02-27T01:34:51.220065Z",
         "online",
         120,
         4,
         416.0,
         null,
         " - ",
         "2024-12-15T20:00:52.137Z",
         "2024-12-15T20:18:07.713Z"
        ],
        [
         2374,
         "2008-02-27T02:41:45.109654Z",
         "online",
         121,
         0,
         4797.0,
         null,
         " - ",
         "2024-12-15T20:00:52.137Z",
         "2024-12-15T20:18:07.713Z"
        ],
        [
         2375,
         "2007-02-26T03:49:50.459233Z",
         "online",
         122,
         2,
         103834.4,
         null,
         " - ",
         "2024-12-15T20:00:52.137Z",
         "2024-12-15T20:18:07.713Z"
        ],
        [
         2376,
         "2007-06-07T06:18:08.88331Z",
         "online",
         123,
         6,
         11006.2,
         null,
         " - ",
         "2024-12-15T20:00:52.137Z",
         "2024-12-15T20:18:07.713Z"
        ],
        [
         2377,
         "2007-06-07T07:03:01.0011Z",
         "online",
         141,
         5,
         38017.8,
         null,
         " - ",
         "2024-12-15T20:00:52.137Z",
         "2024-12-15T20:18:07.713Z"
        ],
        [
         2378,
         "2007-05-24T08:59:10.010101Z",
         "online",
         142,
         5,
         25691.3,
         null,
         " - ",
         "2024-12-15T20:00:52.137Z",
         "2024-12-15T20:18:07.713Z"
        ],
        [
         2380,
         "2007-05-16T09:53:02.90909Z",
         "online",
         143,
         3,
         27132.6,
         null,
         " - ",
         "2024-12-15T20:00:52.137Z",
         "2024-12-15T20:18:07.713Z"
        ],
        [
         2382,
         "2008-05-14T10:19:03.828321Z",
         "online",
         144,
         8,
         71173.0,
         null,
         " - ",
         "2024-12-15T20:00:52.137Z",
         "2024-12-15T20:18:07.713Z"
        ],
        [
         2383,
         "2008-05-12T11:22:30.545103Z",
         "online",
         145,
         8,
         36374.7,
         null,
         " - ",
         "2024-12-15T20:00:52.137Z",
         "2024-12-15T20:18:07.713Z"
        ],
        [
         2384,
         "2008-05-12T12:22:34.525972Z",
         "online",
         146,
         3,
         29249.1,
         null,
         " - ",
         "2024-12-15T20:00:52.137Z",
         "2024-12-15T20:18:07.713Z"
        ],
        [
         2385,
         "2007-12-08T11:34:11.331392Z",
         "online",
         147,
         4,
         295892.0,
         null,
         " - ",
         "2024-12-15T20:00:52.137Z",
         "2024-12-15T20:18:07.713Z"
        ],
        [
         2386,
         "2007-12-06T12:22:34.225609Z",
         "online",
         148,
         10,
         21116.9,
         null,
         " - ",
         "2024-12-15T20:00:52.137Z",
         "2024-12-15T20:18:07.713Z"
        ],
        [
         2387,
         "2007-03-11T15:34:56.536966Z",
         "online",
         149,
         5,
         52758.9,
         null,
         " - ",
         "2024-12-15T20:00:52.137Z",
         "2024-12-15T20:18:07.713Z"
        ],
        [
         2388,
         "2007-06-04T16:41:12.554435Z",
         "online",
         150,
         4,
         282694.3,
         null,
         " - ",
         "2024-12-15T20:00:52.137Z",
         "2024-12-15T20:18:07.713Z"
        ]
       ],
       "datasetInfos": [],
       "dbfsResultPath": null,
       "isJsonSchema": true,
       "metadata": {},
       "overflow": false,
       "plotOptions": {
        "customPlotOptions": {},
        "displayType": "table",
        "pivotAggregation": null,
        "pivotColumns": null,
        "xColumns": null,
        "yColumns": null
       },
       "removedWidgets": [],
       "schema": [
        {
         "metadata": "{}",
         "name": "ORDER_ID",
         "type": "\"integer\""
        },
        {
         "metadata": "{}",
         "name": "order_date",
         "type": "\"timestamp\""
        },
        {
         "metadata": "{}",
         "name": "ORDER_MODE",
         "type": "\"string\""
        },
        {
         "metadata": "{}",
         "name": "CUSTOMER_ID",
         "type": "\"integer\""
        },
        {
         "metadata": "{}",
         "name": "ORDER_STATUS",
         "type": "\"integer\""
        },
        {
         "metadata": "{}",
         "name": "ORDER_TOTAL",
         "type": "\"double\""
        },
        {
         "metadata": "{}",
         "name": "SALES_REP_ID",
         "type": "\"integer\""
        },
        {
         "metadata": "{}",
         "name": "PROMOTION_ID",
         "type": "\"string\""
        },
        {
         "metadata": "{}",
         "name": "consume_timestamp",
         "type": "\"timestamp\""
        },
        {
         "metadata": "{}",
         "name": "load_tsp",
         "type": "\"timestamp\""
        }
       ],
       "type": "table"
      }
     },
     "output_type": "display_data"
    }
   ],
   "source": [
    "transformed_orders = transformation(orders)\n",
    "transformed_orders.display()"
   ]
  },
  {
   "cell_type": "code",
   "execution_count": 0,
   "metadata": {
    "application/vnd.databricks.v1+cell": {
     "cellMetadata": {
      "byteLimit": 2048000,
      "rowLimit": 10000
     },
     "inputWidgets": {},
     "nuid": "700aa882-abbf-41b0-aaf5-271a7f9a56e3",
     "showTitle": false,
     "tableResultSettingsMap": {},
     "title": ""
    }
   },
   "outputs": [],
   "source": [
    "# new_transformed_orders =  transformed_orders.filter(col('consume_timestamp') > to_date(lit('2024-12-16')))\n",
    "# new_transformed_orders.write.format('delta').mode('append').saveAsTable('stoyan.silver__orders')"
   ]
  },
  {
   "cell_type": "code",
   "execution_count": 0,
   "metadata": {
    "application/vnd.databricks.v1+cell": {
     "cellMetadata": {
      "byteLimit": 2048000,
      "rowLimit": 10000
     },
     "inputWidgets": {},
     "nuid": "6a3bdaaf-b57c-4899-9e43-8748624e67b6",
     "showTitle": false,
     "tableResultSettingsMap": {},
     "title": ""
    }
   },
   "outputs": [],
   "source": [
    "# Write the transformed data into the \"stoyan.silver__orders\" Delta table in append mode\n",
    "transformed_orders.write.mode('delta').mode('overwrite').saveAsTable('stoyan.silver__orders')"
   ]
  }
 ],
 "metadata": {
  "application/vnd.databricks.v1+notebook": {
   "computePreferences": null,
   "dashboards": [],
   "environmentMetadata": {
    "base_environment": "",
    "client": "1"
   },
   "language": "python",
   "notebookMetadata": {
    "pythonIndentUnit": 4
   },
   "notebookName": "silver_orders",
   "widgets": {}
  },
  "language_info": {
   "name": "python"
  }
 },
 "nbformat": 4,
 "nbformat_minor": 0
}