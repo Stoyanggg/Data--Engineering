{
 "cells": [
  {
   "cell_type": "code",
   "execution_count": 0,
   "metadata": {
    "application/vnd.databricks.v1+cell": {
     "cellMetadata": {
      "byteLimit": 2048000,
      "implicitDf": true,
      "rowLimit": 10000
     },
     "inputWidgets": {},
     "nuid": "08f63d2d-118b-419a-90fe-65d96ad1e529",
     "showTitle": false,
     "tableResultSettingsMap": {},
     "title": ""
    }
   },
   "outputs": [
    {
     "output_type": "display_data",
     "data": {
      "text/html": [
       "<style scoped>\n",
       "  .table-result-container {\n",
       "    max-height: 300px;\n",
       "    overflow: auto;\n",
       "  }\n",
       "  table, th, td {\n",
       "    border: 1px solid black;\n",
       "    border-collapse: collapse;\n",
       "  }\n",
       "  th, td {\n",
       "    padding: 5px;\n",
       "  }\n",
       "  th {\n",
       "    text-align: left;\n",
       "  }\n",
       "</style><div class='table-result-container'><table class='table-result'><thead style='background-color: white'><tr><th>category_name</th><th>month</th><th>age_group</th><th>total_sales</th></tr></thead><tbody><tr><td>hardware4</td><td>2007-03</td><td>null</td><td>6644.0</td></tr><tr><td>hardware4</td><td>2007-08</td><td>null</td><td>1440.0</td></tr><tr><td>hardware2</td><td>2007-05</td><td>null</td><td>11233.2</td></tr><tr><td>hardware2</td><td>2007-06</td><td>null</td><td>2795.1</td></tr><tr><td>hardware1</td><td>2006-01</td><td>null</td><td>12012.0</td></tr><tr><td>hardware1</td><td>2007-09</td><td>null</td><td>79741.2</td></tr><tr><td>null</td><td>2006-01</td><td>null</td><td>3572.0</td></tr><tr><td>null</td><td>2006-02</td><td>null</td><td>null</td></tr><tr><td>null</td><td>2007-02</td><td>null</td><td>1684.0</td></tr><tr><td>null</td><td>2007-05</td><td>null</td><td>465.0</td></tr><tr><td>null</td><td>2007-06</td><td>null</td><td>null</td></tr><tr><td>null</td><td>2007-07</td><td>null</td><td>null</td></tr><tr><td>null</td><td>2007-08</td><td>null</td><td>1520.3</td></tr><tr><td>null</td><td>2007-09</td><td>null</td><td>210.0</td></tr><tr><td>null</td><td>2007-10</td><td>null</td><td>1850.0</td></tr><tr><td>null</td><td>2007-11</td><td>null</td><td>14270.3</td></tr><tr><td>null</td><td>2007-12</td><td>null</td><td>null</td></tr><tr><td>null</td><td>2008-01</td><td>null</td><td>3496.0</td></tr><tr><td>null</td><td>2008-02</td><td>null</td><td>1722.0</td></tr><tr><td>null</td><td>2008-05</td><td>null</td><td>10727.0</td></tr><tr><td>null</td><td>2008-06</td><td>null</td><td>3024.0</td></tr><tr><td>null</td><td>2008-07</td><td>null</td><td>986.0</td></tr></tbody></table></div>"
      ]
     },
     "metadata": {
      "application/vnd.databricks.v1+output": {
       "addedWidgets": {},
       "aggData": [],
       "aggError": "",
       "aggOverflow": false,
       "aggSchema": [],
       "aggSeriesLimitReached": false,
       "aggType": "",
       "arguments": {},
       "columnCustomDisplayInfos": {},
       "data": [
        [
         "hardware4",
         "2007-03",
         null,
         6644.0
        ],
        [
         "hardware4",
         "2007-08",
         null,
         1440.0
        ],
        [
         "hardware2",
         "2007-05",
         null,
         11233.2
        ],
        [
         "hardware2",
         "2007-06",
         null,
         2795.1
        ],
        [
         "hardware1",
         "2006-01",
         null,
         12012.0
        ],
        [
         "hardware1",
         "2007-09",
         null,
         79741.2
        ],
        [
         null,
         "2006-01",
         null,
         3572.0
        ],
        [
         null,
         "2006-02",
         null,
         null
        ],
        [
         null,
         "2007-02",
         null,
         1684.0
        ],
        [
         null,
         "2007-05",
         null,
         465.0
        ],
        [
         null,
         "2007-06",
         null,
         null
        ],
        [
         null,
         "2007-07",
         null,
         null
        ],
        [
         null,
         "2007-08",
         null,
         1520.3
        ],
        [
         null,
         "2007-09",
         null,
         210.0
        ],
        [
         null,
         "2007-10",
         null,
         1850.0
        ],
        [
         null,
         "2007-11",
         null,
         14270.3
        ],
        [
         null,
         "2007-12",
         null,
         null
        ],
        [
         null,
         "2008-01",
         null,
         3496.0
        ],
        [
         null,
         "2008-02",
         null,
         1722.0
        ],
        [
         null,
         "2008-05",
         null,
         10727.0
        ],
        [
         null,
         "2008-06",
         null,
         3024.0
        ],
        [
         null,
         "2008-07",
         null,
         986.0
        ]
       ],
       "datasetInfos": [],
       "dbfsResultPath": null,
       "isJsonSchema": true,
       "metadata": {},
       "overflow": false,
       "plotOptions": {
        "customPlotOptions": {},
        "displayType": "table",
        "pivotAggregation": null,
        "pivotColumns": null,
        "xColumns": null,
        "yColumns": null
       },
       "removedWidgets": [],
       "schema": [
        {
         "metadata": "{}",
         "name": "category_name",
         "type": "\"string\""
        },
        {
         "metadata": "{}",
         "name": "month",
         "type": "\"string\""
        },
        {
         "metadata": "{}",
         "name": "age_group",
         "type": "\"string\""
        },
        {
         "metadata": "{}",
         "name": "total_sales",
         "type": "\"double\""
        }
       ],
       "type": "table"
      }
     },
     "output_type": "display_data"
    }
   ],
   "source": [
    "spark.sql(\"\"\"\n",
    "WITH grouped_customers AS (\n",
    "    SELECT\n",
    "        c.cust_sk,                                                              -- Customer surrogate key\n",
    "        c.cust_nk,                                                              -- Customer natural key\n",
    "        c.cust_first_name,                                                      -- Customer's first name\n",
    "        c.cust_last_name,                                                       -- Customer's last name\n",
    "        c.cust_address_state_province,                                          -- Customer's state or province\n",
    "        c.date_of_birth,                                                        -- Customer's date of birth\n",
    "        CASE\n",
    "            WHEN YEAR(CURRENT_DATE) - YEAR(c.date_of_birth) <= 30 THEN '0-30'   -- Age group 0-30 years\n",
    "            WHEN YEAR(CURRENT_DATE) - YEAR(c.date_of_birth) <= 60 THEN '30-60'  -- Age group 30-60 years\n",
    "            ELSE '60+'                                                          -- Age group 60+ years\n",
    "        END AS age_group                                                        -- Determining the age group\n",
    "    FROM\n",
    "        stoyan.dim_customers c\n",
    "    WHERE\n",
    "        c.row_num = 1                                                           -- Only the most recent row for each customer\n",
    "        AND  c.cust_address_state_province = 'NY'                               -- Filter customers from New York\n",
    "),\n",
    " sales_by_categ AS (\n",
    "    SELECT\n",
    "        f.cust_sk,                                                              -- Customer surrogate key\n",
    "        f.cust_nk,                                                              -- Customer natural key\n",
    "        f.order_id,                                                             -- Order identifier\n",
    "        f.order_date,                                                           -- Date of the order\n",
    "        f.prod_nk,                                                              -- Product natural key\n",
    "        p.category_name,                                                        -- Product category name\n",
    "        f.unit_price * f.quantity AS sales_amount,                              -- Calculating the sales amount\n",
    "        c.age_group                                                             -- Customer's age group \n",
    "    FROM\n",
    "        stoyan.fact_orders f\n",
    "    LEFT JOIN\n",
    "        grouped_customers c ON f.cust_sk = c.cust_sk                            -- Join on customer surrogate key\n",
    "    LEFT JOIN\n",
    "        stoyan.dim_products p ON f.prod_sk = p.prod_sk AND row_num = 1          -- Join on product surrogate key, ensuring the most recent product info\n",
    ")\n",
    "SELECT\n",
    "    category_name,-- Product category\n",
    "    DATE_FORMAT(order_date, 'yyyy-MM') AS month,                                -- Extracting year-month format from order date\n",
    "    age_group,                                                                  -- Customer's age group\n",
    "    ROUND(SUM(sales_amount),2) AS total_sales                                   -- Total sales amount \n",
    "FROM\n",
    "    sales_by_categ                                                              -- Data from the sales_by_categ CTE\n",
    "GROUP BY\n",
    "    category_name,                                                              -- Grouping by product category\n",
    "    month,                                                                      -- Grouping by month\n",
    "    age_group                                                                   -- Grouping by age group\n",
    "ORDER BY\n",
    "    category_name DESC,                                                         -- Sorting by product category \n",
    "    month ASC,                                                                  -- Sorting by month\n",
    "    age_group                                                                   -- Sorting by age group\n",
    "    \n",
    "\"\"\").display()"
   ]
  }
 ],
 "metadata": {
  "application/vnd.databricks.v1+notebook": {
   "computePreferences": null,
   "dashboards": [],
   "environmentMetadata": {
    "base_environment": "",
    "client": "1"
   },
   "language": "python",
   "notebookMetadata": {
    "mostRecentlyExecutedCommandWithImplicitDF": {
     "commandId": -1,
     "dataframes": [
      "_sqldf"
     ]
    },
    "pythonIndentUnit": 4
   },
   "notebookName": "report 3",
   "widgets": {}
  },
  "language_info": {
   "name": "python"
  }
 },
 "nbformat": 4,
 "nbformat_minor": 0
}