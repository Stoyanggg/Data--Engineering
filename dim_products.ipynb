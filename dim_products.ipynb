{
 "cells": [
  {
   "cell_type": "code",
   "execution_count": 0,
   "metadata": {
    "application/vnd.databricks.v1+cell": {
     "cellMetadata": {
      "byteLimit": 2048000,
      "rowLimit": 10000
     },
     "inputWidgets": {},
     "nuid": "dea77ec1-661e-47f9-b5a8-e4c7801922ee",
     "showTitle": false,
     "tableResultSettingsMap": {},
     "title": ""
    }
   },
   "outputs": [
    {
     "output_type": "display_data",
     "data": {
      "text/html": [
       "<style scoped>\n",
       "  .table-result-container {\n",
       "    max-height: 300px;\n",
       "    overflow: auto;\n",
       "  }\n",
       "  table, th, td {\n",
       "    border: 1px solid black;\n",
       "    border-collapse: collapse;\n",
       "  }\n",
       "  th, td {\n",
       "    padding: 5px;\n",
       "  }\n",
       "  th {\n",
       "    text-align: left;\n",
       "  }\n",
       "</style><div class='table-result-container'><table class='table-result'><thead style='background-color: white'><tr><th>product_id</th><th>product_name</th><th>category_name</th><th>weight_class</th><th>product_status</th><th>list_price</th><th>min_price</th><th>consume_timestamp</th><th>load_tsp</th></tr></thead><tbody><tr><td>2243</td><td>Monitor 17/HR/F</td><td>hardware1</td><td>4</td><td>orderable</td><td>350.0</td><td>302.0</td><td>2024-12-13T17:31:26.892Z</td><td>2024-12-14T17:02:41.303Z</td></tr><tr><td>3057</td><td>Monitor 17/SD</td><td>hardware1</td><td>4</td><td>orderable</td><td>369.0</td><td>320.0</td><td>2024-12-13T17:31:26.892Z</td><td>2024-12-14T17:02:41.303Z</td></tr><tr><td>3061</td><td>Monitor 19/SD</td><td>hardware1</td><td>5</td><td>orderable</td><td>499.0</td><td>437.0</td><td>2024-12-13T17:31:26.892Z</td><td>2024-12-14T17:02:41.303Z</td></tr><tr><td>2245</td><td>Monitor 19/SD/M</td><td>hardware1</td><td>5</td><td>orderable</td><td>512.0</td><td>420.0</td><td>2024-12-13T17:31:26.892Z</td><td>2024-12-14T17:02:41.303Z</td></tr><tr><td>3065</td><td>Monitor 21/D</td><td>hardware1</td><td>5</td><td>orderable</td><td>999.0</td><td>875.0</td><td>2024-12-13T17:31:26.892Z</td><td>2024-12-14T17:02:41.303Z</td></tr><tr><td>3331</td><td>Monitor 21/HR</td><td>hardware1</td><td>5</td><td>orderable</td><td>879.0</td><td>785.0</td><td>2024-12-13T17:31:26.892Z</td><td>2024-12-14T17:02:41.303Z</td></tr><tr><td>2252</td><td>Monitor 21/HR/M</td><td>hardware1</td><td>5</td><td>obsolete</td><td>889.0</td><td>717.0</td><td>2024-12-13T17:31:26.892Z</td><td>2024-12-14T17:02:41.303Z</td></tr><tr><td>3064</td><td>Monitor 21/SD</td><td>hardware1</td><td>5</td><td>planned</td><td>1023.0</td><td>909.0</td><td>2024-12-13T17:31:26.892Z</td><td>2024-12-14T17:02:41.303Z</td></tr><tr><td>3155</td><td>Monitor Hinge - HD</td><td>hardware1</td><td>4</td><td>orderable</td><td>49.0</td><td>42.0</td><td>2024-12-13T17:31:26.892Z</td><td>2024-12-14T17:02:41.303Z</td></tr><tr><td>3234</td><td>Monitor Hinge - STD</td><td>hardware1</td><td>3</td><td>orderable</td><td>39.0</td><td>34.0</td><td>2024-12-13T17:31:26.892Z</td><td>2024-12-14T17:02:41.303Z</td></tr><tr><td>3350</td><td>Plasma Monitor 10/LE/VGA</td><td>hardware1</td><td>3</td><td>orderable</td><td>740.0</td><td>630.0</td><td>2024-12-13T17:31:26.892Z</td><td>2024-12-14T17:02:41.303Z</td></tr><tr><td>2236</td><td>Plasma Monitor 10/TFT/XGA</td><td>hardware1</td><td>3</td><td>under development</td><td>964.0</td><td>863.0</td><td>2024-12-13T17:31:26.892Z</td><td>2024-12-14T17:02:41.303Z</td></tr><tr><td>3054</td><td>Plasma Monitor 10/XGA</td><td>hardware1</td><td>3</td><td>orderable</td><td>600.0</td><td>519.0</td><td>2024-12-13T17:31:26.892Z</td><td>2024-12-14T17:02:41.303Z</td></tr><tr><td>1726</td><td>LCD Monitor 11/PM</td><td>hardware1</td><td>3</td><td>under development</td><td>259.0</td><td>208.0</td><td>2024-12-13T17:31:26.892Z</td><td>2024-12-14T17:02:41.303Z</td></tr><tr><td>2359</td><td>LCD Monitor 9/PM</td><td>hardware1</td><td>3</td><td>orderable</td><td>249.0</td><td>206.0</td><td>2024-12-13T17:31:26.892Z</td><td>2024-12-14T17:02:41.303Z</td></tr><tr><td>3060</td><td>Monitor 17/HR</td><td>hardware1</td><td>4</td><td>orderable</td><td>299.0</td><td>250.0</td><td>2024-12-13T17:31:26.892Z</td><td>2024-12-14T17:02:41.303Z</td></tr><tr><td>1797</td><td>Inkjet C/8/HQ</td><td>hardware2</td><td>3</td><td>orderable</td><td>349.0</td><td>288.0</td><td>2024-12-13T17:31:26.892Z</td><td>2024-12-14T17:02:41.303Z</td></tr><tr><td>2459</td><td>LaserPro 1200/8/BW</td><td>hardware2</td><td>5</td><td>under development</td><td>699.0</td><td>568.0</td><td>2024-12-13T17:31:26.892Z</td><td>2024-12-14T17:02:41.303Z</td></tr><tr><td>3127</td><td>LaserPro 600/6/BW</td><td>hardware2</td><td>4</td><td>orderable</td><td>498.0</td><td>444.0</td><td>2024-12-13T17:31:26.892Z</td><td>2024-12-14T17:02:41.303Z</td></tr><tr><td>1782</td><td>Compact 400/DQ</td><td>hardware2</td><td>4</td><td>obsolete</td><td>125.0</td><td>108.0</td><td>2024-12-13T17:31:26.892Z</td><td>2024-12-14T17:02:41.303Z</td></tr><tr><td>2430</td><td>Compact 400/LQ</td><td>hardware2</td><td>4</td><td>orderable</td><td>175.0</td><td>143.0</td><td>2024-12-13T17:31:26.892Z</td><td>2024-12-14T17:02:41.303Z</td></tr><tr><td>1792</td><td>Industrial 600/DQ</td><td>hardware2</td><td>4</td><td>orderable</td><td>225.0</td><td>180.0</td><td>2024-12-13T17:31:26.892Z</td><td>2024-12-14T17:02:41.303Z</td></tr><tr><td>1791</td><td>Industrial 700/HD</td><td>hardware2</td><td>5</td><td>orderable</td><td>275.0</td><td>239.0</td><td>2024-12-13T17:31:26.892Z</td><td>2024-12-14T17:02:41.303Z</td></tr><tr><td>2302</td><td>Inkjet B/6</td><td>hardware2</td><td>3</td><td>orderable</td><td>150.0</td><td>121.0</td><td>2024-12-13T17:31:26.892Z</td><td>2024-12-14T17:02:41.303Z</td></tr><tr><td>2453</td><td>Inkjet C/4</td><td>hardware2</td><td>3</td><td>orderable</td><td>195.0</td><td>174.0</td><td>2024-12-13T17:31:26.892Z</td><td>2024-12-14T17:02:41.303Z</td></tr><tr><td>2254</td><td>HD 10GB /I</td><td>hardware3</td><td>2</td><td>obsolete</td><td>453.0</td><td>371.0</td><td>2024-12-13T17:31:26.892Z</td><td>2024-12-14T17:02:41.303Z</td></tr><tr><td>3353</td><td>HD 10GB /R</td><td>hardware3</td><td>1</td><td>obsolete</td><td>489.0</td><td>413.0</td><td>2024-12-13T17:31:26.892Z</td><td>2024-12-14T17:02:41.303Z</td></tr><tr><td>3069</td><td>HD 10GB /S</td><td>hardware3</td><td>1</td><td>obsolete</td><td>436.0</td><td>350.0</td><td>2024-12-13T17:31:26.892Z</td><td>2024-12-14T17:02:41.303Z</td></tr><tr><td>2253</td><td>HD 10GB @5400 /SE</td><td>hardware3</td><td>2</td><td>obsolete</td><td>399.0</td><td>322.0</td><td>2024-12-13T17:31:26.892Z</td><td>2024-12-14T17:02:41.303Z</td></tr><tr><td>3354</td><td>HD 12GB /I</td><td>hardware3</td><td>2</td><td>orderable</td><td>543.0</td><td>478.0</td><td>2024-12-13T17:31:26.892Z</td><td>2024-12-14T17:02:41.303Z</td></tr><tr><td>3072</td><td>HD 12GB /N</td><td>hardware3</td><td>1</td><td>orderable</td><td>567.0</td><td>507.0</td><td>2024-12-13T17:31:26.892Z</td><td>2024-12-14T17:02:41.303Z</td></tr><tr><td>3334</td><td>HD 12GB /R</td><td>hardware3</td><td>2</td><td>orderable</td><td>612.0</td><td>512.0</td><td>2024-12-13T17:31:26.892Z</td><td>2024-12-14T17:02:41.303Z</td></tr><tr><td>3071</td><td>HD 12GB /S</td><td>hardware3</td><td>1</td><td>orderable</td><td>633.0</td><td>553.0</td><td>2024-12-13T17:31:26.892Z</td><td>2024-12-14T17:02:41.303Z</td></tr><tr><td>2255</td><td>HD 12GB @7200 /SE</td><td>hardware3</td><td>2</td><td>orderable</td><td>775.0</td><td>628.0</td><td>2024-12-13T17:31:26.892Z</td><td>2024-12-14T17:02:41.303Z</td></tr><tr><td>1743</td><td>HD 18.2GB @10000 /E</td><td>hardware3</td><td>3</td><td>planned</td><td>800.0</td><td>661.0</td><td>2024-12-13T17:31:26.892Z</td><td>2024-12-14T17:02:41.303Z</td></tr><tr><td>2382</td><td>HD 18.2GB@10000 /I</td><td>hardware3</td><td>3</td><td>under development</td><td>850.0</td><td>731.0</td><td>2024-12-13T17:31:26.892Z</td><td>2024-12-14T17:02:41.303Z</td></tr><tr><td>3399</td><td>HD 18GB /SE</td><td>hardware3</td><td>3</td><td>under development</td><td>815.0</td><td>706.0</td><td>2024-12-13T17:31:26.892Z</td><td>2024-12-14T17:02:41.303Z</td></tr><tr><td>3073</td><td>HD 6GB /I</td><td>hardware3</td><td>2</td><td>obsolete</td><td>224.0</td><td>197.0</td><td>2024-12-13T17:31:26.892Z</td><td>2024-12-14T17:02:41.303Z</td></tr><tr><td>1768</td><td>HD 8.2GB @5400</td><td>hardware3</td><td>2</td><td>orderable</td><td>345.0</td><td>306.0</td><td>2024-12-13T17:31:26.892Z</td><td>2024-12-14T17:02:41.303Z</td></tr><tr><td>2410</td><td>HD 8.4GB @5400</td><td>hardware3</td><td>2</td><td>orderable</td><td>357.0</td><td>319.0</td><td>2024-12-13T17:31:26.892Z</td><td>2024-12-14T17:02:41.303Z</td></tr><tr><td>2257</td><td>HD 8GB /I</td><td>hardware3</td><td>1</td><td>orderable</td><td>399.0</td><td>338.0</td><td>2024-12-13T17:31:26.892Z</td><td>2024-12-14T17:02:41.303Z</td></tr><tr><td>3400</td><td>HD 8GB /SE</td><td>hardware3</td><td>2</td><td>orderable</td><td>389.0</td><td>337.0</td><td>2024-12-13T17:31:26.892Z</td><td>2024-12-14T17:02:41.303Z</td></tr><tr><td>3355</td><td>HD 8GB /SI</td><td>hardware3</td><td>1</td><td>orderable</td><td>null</td><td>null</td><td>2024-12-13T17:31:26.892Z</td><td>2024-12-14T17:02:41.303Z</td></tr><tr><td>1772</td><td>HD 9.1GB @10000</td><td>hardware3</td><td>3</td><td>orderable</td><td>456.0</td><td>393.0</td><td>2024-12-13T17:31:26.892Z</td><td>2024-12-14T17:02:41.303Z</td></tr><tr><td>2414</td><td>HD 9.1GB @10000 /I</td><td>hardware3</td><td>3</td><td>orderable</td><td>454.0</td><td>399.0</td><td>2024-12-13T17:31:26.892Z</td><td>2024-12-14T17:02:41.303Z</td></tr><tr><td>2415</td><td>HD 9.1GB @7200</td><td>hardware3</td><td>3</td><td>orderable</td><td>359.0</td><td>309.0</td><td>2024-12-13T17:31:26.892Z</td><td>2024-12-14T17:02:41.303Z</td></tr><tr><td>2395</td><td>32MB Cache /M</td><td>hardware4</td><td>1</td><td>orderable</td><td>123.0</td><td>109.0</td><td>2024-12-13T17:31:26.892Z</td><td>2024-12-14T17:02:41.303Z</td></tr><tr><td>1755</td><td>32MB Cache /NM</td><td>hardware4</td><td>1</td><td>orderable</td><td>121.0</td><td>99.0</td><td>2024-12-13T17:31:26.892Z</td><td>2024-12-14T17:02:41.303Z</td></tr><tr><td>2406</td><td>64MB Cache /M</td><td>hardware4</td><td>1</td><td>orderable</td><td>223.0</td><td>178.0</td><td>2024-12-13T17:31:26.892Z</td><td>2024-12-14T17:02:41.303Z</td></tr><tr><td>2404</td><td>64MB Cache /NM</td><td>hardware4</td><td>1</td><td>orderable</td><td>221.0</td><td>180.0</td><td>2024-12-13T17:31:26.892Z</td><td>2024-12-14T17:02:41.303Z</td></tr><tr><td>2243</td><td>Monitor 17/HR/F</td><td>hardware1</td><td>4</td><td>orderable</td><td>350.0</td><td>302.0</td><td>2024-12-13T18:31:58.528Z</td><td>2024-12-14T17:02:41.303Z</td></tr><tr><td>3057</td><td>Monitor 17/SD</td><td>hardware1</td><td>4</td><td>orderable</td><td>369.0</td><td>320.0</td><td>2024-12-13T18:31:58.528Z</td><td>2024-12-14T17:02:41.303Z</td></tr><tr><td>3061</td><td>Monitor 19/SD</td><td>hardware1</td><td>5</td><td>orderable</td><td>499.0</td><td>437.0</td><td>2024-12-13T18:31:58.528Z</td><td>2024-12-14T17:02:41.303Z</td></tr><tr><td>2245</td><td>Monitor 19/SD/M</td><td>hardware1</td><td>5</td><td>orderable</td><td>512.0</td><td>420.0</td><td>2024-12-13T18:31:58.528Z</td><td>2024-12-14T17:02:41.303Z</td></tr><tr><td>3065</td><td>Monitor 21/D</td><td>hardware1</td><td>5</td><td>orderable</td><td>999.0</td><td>875.0</td><td>2024-12-13T18:31:58.528Z</td><td>2024-12-14T17:02:41.303Z</td></tr><tr><td>3331</td><td>Monitor 21/HR</td><td>hardware1</td><td>5</td><td>orderable</td><td>879.0</td><td>785.0</td><td>2024-12-13T18:31:58.528Z</td><td>2024-12-14T17:02:41.303Z</td></tr><tr><td>2252</td><td>Monitor 21/HR/M</td><td>hardware1</td><td>5</td><td>obsolete</td><td>889.0</td><td>717.0</td><td>2024-12-13T18:31:58.528Z</td><td>2024-12-14T17:02:41.303Z</td></tr><tr><td>3064</td><td>Monitor 21/SD</td><td>hardware1</td><td>5</td><td>planned</td><td>1023.0</td><td>909.0</td><td>2024-12-13T18:31:58.528Z</td><td>2024-12-14T17:02:41.303Z</td></tr><tr><td>3155</td><td>Monitor Hinge - HD</td><td>hardware1</td><td>4</td><td>orderable</td><td>49.0</td><td>42.0</td><td>2024-12-13T18:31:58.528Z</td><td>2024-12-14T17:02:41.303Z</td></tr><tr><td>3234</td><td>Monitor Hinge - STD</td><td>hardware1</td><td>3</td><td>orderable</td><td>39.0</td><td>34.0</td><td>2024-12-13T18:31:58.528Z</td><td>2024-12-14T17:02:41.303Z</td></tr><tr><td>3350</td><td>Plasma Monitor 10/LE/VGA</td><td>hardware1</td><td>3</td><td>orderable</td><td>740.0</td><td>630.0</td><td>2024-12-13T18:31:58.528Z</td><td>2024-12-14T17:02:41.303Z</td></tr><tr><td>2236</td><td>Plasma Monitor 10/TFT/XGA</td><td>hardware1</td><td>3</td><td>under development</td><td>964.0</td><td>863.0</td><td>2024-12-13T18:31:58.528Z</td><td>2024-12-14T17:02:41.303Z</td></tr><tr><td>3054</td><td>Plasma Monitor 10/XGA</td><td>hardware1</td><td>3</td><td>orderable</td><td>600.0</td><td>519.0</td><td>2024-12-13T18:31:58.528Z</td><td>2024-12-14T17:02:41.303Z</td></tr><tr><td>1726</td><td>LCD Monitor 11/PM</td><td>hardware1</td><td>3</td><td>under development</td><td>259.0</td><td>208.0</td><td>2024-12-13T18:31:58.528Z</td><td>2024-12-14T17:02:41.303Z</td></tr><tr><td>2359</td><td>LCD Monitor 9/PM</td><td>hardware1</td><td>3</td><td>orderable</td><td>249.0</td><td>206.0</td><td>2024-12-13T18:31:58.528Z</td><td>2024-12-14T17:02:41.303Z</td></tr><tr><td>3060</td><td>Monitor 17/HR</td><td>hardware1</td><td>4</td><td>orderable</td><td>299.0</td><td>250.0</td><td>2024-12-13T18:31:58.528Z</td><td>2024-12-14T17:02:41.303Z</td></tr><tr><td>1797</td><td>Inkjet C/8/HQ</td><td>hardware2</td><td>3</td><td>orderable</td><td>349.0</td><td>288.0</td><td>2024-12-13T18:31:58.528Z</td><td>2024-12-14T17:02:41.303Z</td></tr><tr><td>2459</td><td>LaserPro 1200/8/BW</td><td>hardware2</td><td>5</td><td>under development</td><td>699.0</td><td>568.0</td><td>2024-12-13T18:31:58.528Z</td><td>2024-12-14T17:02:41.303Z</td></tr><tr><td>3127</td><td>LaserPro 600/6/BW</td><td>hardware2</td><td>4</td><td>orderable</td><td>498.0</td><td>444.0</td><td>2024-12-13T18:31:58.528Z</td><td>2024-12-14T17:02:41.303Z</td></tr><tr><td>1782</td><td>Compact 400/DQ</td><td>hardware2</td><td>4</td><td>obsolete</td><td>125.0</td><td>108.0</td><td>2024-12-13T18:31:58.528Z</td><td>2024-12-14T17:02:41.303Z</td></tr><tr><td>2430</td><td>Compact 400/LQ</td><td>hardware2</td><td>4</td><td>orderable</td><td>175.0</td><td>143.0</td><td>2024-12-13T18:31:58.528Z</td><td>2024-12-14T17:02:41.303Z</td></tr><tr><td>1792</td><td>Industrial 600/DQ</td><td>hardware2</td><td>4</td><td>orderable</td><td>225.0</td><td>180.0</td><td>2024-12-13T18:31:58.528Z</td><td>2024-12-14T17:02:41.303Z</td></tr><tr><td>1791</td><td>Industrial 700/HD</td><td>hardware2</td><td>5</td><td>orderable</td><td>275.0</td><td>239.0</td><td>2024-12-13T18:31:58.528Z</td><td>2024-12-14T17:02:41.303Z</td></tr><tr><td>2302</td><td>Inkjet B/6</td><td>hardware2</td><td>3</td><td>orderable</td><td>150.0</td><td>121.0</td><td>2024-12-13T18:31:58.528Z</td><td>2024-12-14T17:02:41.303Z</td></tr><tr><td>2453</td><td>Inkjet C/4</td><td>hardware2</td><td>3</td><td>orderable</td><td>195.0</td><td>174.0</td><td>2024-12-13T18:31:58.528Z</td><td>2024-12-14T17:02:41.303Z</td></tr><tr><td>2254</td><td>HD 10GB /I</td><td>hardware3</td><td>2</td><td>obsolete</td><td>453.0</td><td>371.0</td><td>2024-12-13T18:31:58.528Z</td><td>2024-12-14T17:02:41.303Z</td></tr><tr><td>3353</td><td>HD 10GB /R</td><td>hardware3</td><td>1</td><td>obsolete</td><td>489.0</td><td>413.0</td><td>2024-12-13T18:31:58.528Z</td><td>2024-12-14T17:02:41.303Z</td></tr><tr><td>3069</td><td>HD 10GB /S</td><td>hardware3</td><td>1</td><td>obsolete</td><td>436.0</td><td>350.0</td><td>2024-12-13T18:31:58.528Z</td><td>2024-12-14T17:02:41.303Z</td></tr><tr><td>2253</td><td>HD 10GB @5400 /SE</td><td>hardware3</td><td>2</td><td>obsolete</td><td>399.0</td><td>322.0</td><td>2024-12-13T18:31:58.528Z</td><td>2024-12-14T17:02:41.303Z</td></tr><tr><td>3354</td><td>HD 12GB /I</td><td>hardware3</td><td>2</td><td>orderable</td><td>543.0</td><td>478.0</td><td>2024-12-13T18:31:58.528Z</td><td>2024-12-14T17:02:41.303Z</td></tr><tr><td>3072</td><td>HD 12GB /N</td><td>hardware3</td><td>1</td><td>orderable</td><td>567.0</td><td>507.0</td><td>2024-12-13T18:31:58.528Z</td><td>2024-12-14T17:02:41.303Z</td></tr><tr><td>3334</td><td>HD 12GB /R</td><td>hardware3</td><td>2</td><td>orderable</td><td>612.0</td><td>512.0</td><td>2024-12-13T18:31:58.528Z</td><td>2024-12-14T17:02:41.303Z</td></tr><tr><td>3071</td><td>HD 12GB /S</td><td>hardware3</td><td>1</td><td>orderable</td><td>633.0</td><td>553.0</td><td>2024-12-13T18:31:58.528Z</td><td>2024-12-14T17:02:41.303Z</td></tr><tr><td>2255</td><td>HD 12GB @7200 /SE</td><td>hardware3</td><td>2</td><td>orderable</td><td>775.0</td><td>628.0</td><td>2024-12-13T18:31:58.528Z</td><td>2024-12-14T17:02:41.303Z</td></tr><tr><td>1743</td><td>HD 18.2GB @10000 /E</td><td>hardware3</td><td>3</td><td>planned</td><td>800.0</td><td>661.0</td><td>2024-12-13T18:31:58.528Z</td><td>2024-12-14T17:02:41.303Z</td></tr><tr><td>2382</td><td>HD 18.2GB@10000 /I</td><td>hardware3</td><td>3</td><td>under development</td><td>850.0</td><td>731.0</td><td>2024-12-13T18:31:58.528Z</td><td>2024-12-14T17:02:41.303Z</td></tr><tr><td>3399</td><td>HD 18GB /SE</td><td>hardware3</td><td>3</td><td>under development</td><td>815.0</td><td>706.0</td><td>2024-12-13T18:31:58.528Z</td><td>2024-12-14T17:02:41.303Z</td></tr><tr><td>3073</td><td>HD 6GB /I</td><td>hardware3</td><td>2</td><td>obsolete</td><td>224.0</td><td>197.0</td><td>2024-12-13T18:31:58.528Z</td><td>2024-12-14T17:02:41.303Z</td></tr><tr><td>1768</td><td>HD 8.2GB @5400</td><td>hardware3</td><td>2</td><td>orderable</td><td>345.0</td><td>306.0</td><td>2024-12-13T18:31:58.528Z</td><td>2024-12-14T17:02:41.303Z</td></tr><tr><td>2410</td><td>HD 8.4GB @5400</td><td>hardware3</td><td>2</td><td>orderable</td><td>357.0</td><td>319.0</td><td>2024-12-13T18:31:58.528Z</td><td>2024-12-14T17:02:41.303Z</td></tr><tr><td>2257</td><td>HD 8GB /I</td><td>hardware3</td><td>1</td><td>orderable</td><td>399.0</td><td>338.0</td><td>2024-12-13T18:31:58.528Z</td><td>2024-12-14T17:02:41.303Z</td></tr><tr><td>3400</td><td>HD 8GB /SE</td><td>hardware3</td><td>2</td><td>orderable</td><td>389.0</td><td>337.0</td><td>2024-12-13T18:31:58.528Z</td><td>2024-12-14T17:02:41.303Z</td></tr><tr><td>3355</td><td>HD 8GB /SI</td><td>hardware3</td><td>1</td><td>orderable</td><td>null</td><td>null</td><td>2024-12-13T18:31:58.528Z</td><td>2024-12-14T17:02:41.303Z</td></tr><tr><td>1772</td><td>HD 9.1GB @10000</td><td>hardware3</td><td>3</td><td>orderable</td><td>456.0</td><td>393.0</td><td>2024-12-13T18:31:58.528Z</td><td>2024-12-14T17:02:41.303Z</td></tr><tr><td>2414</td><td>HD 9.1GB @10000 /I</td><td>hardware3</td><td>3</td><td>orderable</td><td>454.0</td><td>399.0</td><td>2024-12-13T18:31:58.528Z</td><td>2024-12-14T17:02:41.303Z</td></tr><tr><td>2415</td><td>HD 9.1GB @7200</td><td>hardware3</td><td>3</td><td>orderable</td><td>359.0</td><td>309.0</td><td>2024-12-13T18:31:58.528Z</td><td>2024-12-14T17:02:41.303Z</td></tr><tr><td>2395</td><td>32MB Cache /M</td><td>hardware4</td><td>1</td><td>orderable</td><td>123.0</td><td>109.0</td><td>2024-12-13T18:31:58.528Z</td><td>2024-12-14T17:02:41.303Z</td></tr><tr><td>1755</td><td>32MB Cache /NM</td><td>hardware4</td><td>1</td><td>orderable</td><td>121.0</td><td>99.0</td><td>2024-12-13T18:31:58.528Z</td><td>2024-12-14T17:02:41.303Z</td></tr><tr><td>2406</td><td>64MB Cache /M</td><td>hardware4</td><td>1</td><td>orderable</td><td>223.0</td><td>178.0</td><td>2024-12-13T18:31:58.528Z</td><td>2024-12-14T17:02:41.303Z</td></tr><tr><td>2404</td><td>64MB Cache /NM</td><td>hardware4</td><td>1</td><td>orderable</td><td>221.0</td><td>180.0</td><td>2024-12-13T18:31:58.528Z</td><td>2024-12-14T17:02:41.303Z</td></tr><tr><td>2243</td><td>Monitor 17/HR/F</td><td>hardware4</td><td>4</td><td>orderable</td><td>260.0</td><td>302.0</td><td>2024-12-14T16:59:25.307Z</td><td>2024-12-14T17:02:41.303Z</td></tr><tr><td>3057</td><td>Monitor 17/SD</td><td>hardware1</td><td>4</td><td>orderable</td><td>164.0</td><td>320.0</td><td>2024-12-14T16:59:25.307Z</td><td>2024-12-14T17:02:41.303Z</td></tr><tr><td>3061</td><td>Monitor 19/SD</td><td>hardware2</td><td>5</td><td>obsolete</td><td>196.0</td><td>437.0</td><td>2024-12-14T16:59:25.307Z</td><td>2024-12-14T17:02:41.303Z</td></tr><tr><td>2245</td><td>Monitor 19/SD/M</td><td>hardware1</td><td>5</td><td>obsolete</td><td>411.0</td><td>420.0</td><td>2024-12-14T16:59:25.307Z</td><td>2024-12-14T17:02:41.303Z</td></tr><tr><td>3065</td><td>Monitor 21/D</td><td>hardware3</td><td>5</td><td>obsolete</td><td>489.0</td><td>875.0</td><td>2024-12-14T16:59:25.307Z</td><td>2024-12-14T17:02:41.303Z</td></tr><tr><td>3331</td><td>Monitor 21/HR</td><td>hardware2</td><td>5</td><td>orderable</td><td>367.0</td><td>785.0</td><td>2024-12-14T16:59:25.307Z</td><td>2024-12-14T17:02:41.303Z</td></tr><tr><td>2252</td><td>Monitor 21/HR/M</td><td>hardware3</td><td>5</td><td>orderable</td><td>235.0</td><td>717.0</td><td>2024-12-14T16:59:25.307Z</td><td>2024-12-14T17:02:41.303Z</td></tr><tr><td>3064</td><td>Monitor 21/SD</td><td>hardware2</td><td>5</td><td>obsolete</td><td>372.0</td><td>909.0</td><td>2024-12-14T16:59:25.307Z</td><td>2024-12-14T17:02:41.303Z</td></tr><tr><td>3155</td><td>Monitor Hinge - HD</td><td>hardware1</td><td>4</td><td>obsolete</td><td>435.0</td><td>42.0</td><td>2024-12-14T16:59:25.307Z</td><td>2024-12-14T17:02:41.303Z</td></tr><tr><td>3234</td><td>Monitor Hinge - STD</td><td>hardware4</td><td>3</td><td>obsolete</td><td>151.0</td><td>34.0</td><td>2024-12-14T16:59:25.307Z</td><td>2024-12-14T17:02:41.303Z</td></tr></tbody></table></div>"
      ]
     },
     "metadata": {
      "application/vnd.databricks.v1+output": {
       "addedWidgets": {},
       "aggData": [],
       "aggError": "",
       "aggOverflow": false,
       "aggSchema": [],
       "aggSeriesLimitReached": false,
       "aggType": "",
       "arguments": {},
       "columnCustomDisplayInfos": {},
       "data": [
        [
         2243,
         "Monitor 17/HR/F",
         "hardware1",
         4,
         "orderable",
         350.0,
         302.0,
         "2024-12-13T17:31:26.892Z",
         "2024-12-14T17:02:41.303Z"
        ],
        [
         3057,
         "Monitor 17/SD",
         "hardware1",
         4,
         "orderable",
         369.0,
         320.0,
         "2024-12-13T17:31:26.892Z",
         "2024-12-14T17:02:41.303Z"
        ],
        [
         3061,
         "Monitor 19/SD",
         "hardware1",
         5,
         "orderable",
         499.0,
         437.0,
         "2024-12-13T17:31:26.892Z",
         "2024-12-14T17:02:41.303Z"
        ],
        [
         2245,
         "Monitor 19/SD/M",
         "hardware1",
         5,
         "orderable",
         512.0,
         420.0,
         "2024-12-13T17:31:26.892Z",
         "2024-12-14T17:02:41.303Z"
        ],
        [
         3065,
         "Monitor 21/D",
         "hardware1",
         5,
         "orderable",
         999.0,
         875.0,
         "2024-12-13T17:31:26.892Z",
         "2024-12-14T17:02:41.303Z"
        ],
        [
         3331,
         "Monitor 21/HR",
         "hardware1",
         5,
         "orderable",
         879.0,
         785.0,
         "2024-12-13T17:31:26.892Z",
         "2024-12-14T17:02:41.303Z"
        ],
        [
         2252,
         "Monitor 21/HR/M",
         "hardware1",
         5,
         "obsolete",
         889.0,
         717.0,
         "2024-12-13T17:31:26.892Z",
         "2024-12-14T17:02:41.303Z"
        ],
        [
         3064,
         "Monitor 21/SD",
         "hardware1",
         5,
         "planned",
         1023.0,
         909.0,
         "2024-12-13T17:31:26.892Z",
         "2024-12-14T17:02:41.303Z"
        ],
        [
         3155,
         "Monitor Hinge - HD",
         "hardware1",
         4,
         "orderable",
         49.0,
         42.0,
         "2024-12-13T17:31:26.892Z",
         "2024-12-14T17:02:41.303Z"
        ],
        [
         3234,
         "Monitor Hinge - STD",
         "hardware1",
         3,
         "orderable",
         39.0,
         34.0,
         "2024-12-13T17:31:26.892Z",
         "2024-12-14T17:02:41.303Z"
        ],
        [
         3350,
         "Plasma Monitor 10/LE/VGA",
         "hardware1",
         3,
         "orderable",
         740.0,
         630.0,
         "2024-12-13T17:31:26.892Z",
         "2024-12-14T17:02:41.303Z"
        ],
        [
         2236,
         "Plasma Monitor 10/TFT/XGA",
         "hardware1",
         3,
         "under development",
         964.0,
         863.0,
         "2024-12-13T17:31:26.892Z",
         "2024-12-14T17:02:41.303Z"
        ],
        [
         3054,
         "Plasma Monitor 10/XGA",
         "hardware1",
         3,
         "orderable",
         600.0,
         519.0,
         "2024-12-13T17:31:26.892Z",
         "2024-12-14T17:02:41.303Z"
        ],
        [
         1726,
         "LCD Monitor 11/PM",
         "hardware1",
         3,
         "under development",
         259.0,
         208.0,
         "2024-12-13T17:31:26.892Z",
         "2024-12-14T17:02:41.303Z"
        ],
        [
         2359,
         "LCD Monitor 9/PM",
         "hardware1",
         3,
         "orderable",
         249.0,
         206.0,
         "2024-12-13T17:31:26.892Z",
         "2024-12-14T17:02:41.303Z"
        ],
        [
         3060,
         "Monitor 17/HR",
         "hardware1",
         4,
         "orderable",
         299.0,
         250.0,
         "2024-12-13T17:31:26.892Z",
         "2024-12-14T17:02:41.303Z"
        ],
        [
         1797,
         "Inkjet C/8/HQ",
         "hardware2",
         3,
         "orderable",
         349.0,
         288.0,
         "2024-12-13T17:31:26.892Z",
         "2024-12-14T17:02:41.303Z"
        ],
        [
         2459,
         "LaserPro 1200/8/BW",
         "hardware2",
         5,
         "under development",
         699.0,
         568.0,
         "2024-12-13T17:31:26.892Z",
         "2024-12-14T17:02:41.303Z"
        ],
        [
         3127,
         "LaserPro 600/6/BW",
         "hardware2",
         4,
         "orderable",
         498.0,
         444.0,
         "2024-12-13T17:31:26.892Z",
         "2024-12-14T17:02:41.303Z"
        ],
        [
         1782,
         "Compact 400/DQ",
         "hardware2",
         4,
         "obsolete",
         125.0,
         108.0,
         "2024-12-13T17:31:26.892Z",
         "2024-12-14T17:02:41.303Z"
        ],
        [
         2430,
         "Compact 400/LQ",
         "hardware2",
         4,
         "orderable",
         175.0,
         143.0,
         "2024-12-13T17:31:26.892Z",
         "2024-12-14T17:02:41.303Z"
        ],
        [
         1792,
         "Industrial 600/DQ",
         "hardware2",
         4,
         "orderable",
         225.0,
         180.0,
         "2024-12-13T17:31:26.892Z",
         "2024-12-14T17:02:41.303Z"
        ],
        [
         1791,
         "Industrial 700/HD",
         "hardware2",
         5,
         "orderable",
         275.0,
         239.0,
         "2024-12-13T17:31:26.892Z",
         "2024-12-14T17:02:41.303Z"
        ],
        [
         2302,
         "Inkjet B/6",
         "hardware2",
         3,
         "orderable",
         150.0,
         121.0,
         "2024-12-13T17:31:26.892Z",
         "2024-12-14T17:02:41.303Z"
        ],
        [
         2453,
         "Inkjet C/4",
         "hardware2",
         3,
         "orderable",
         195.0,
         174.0,
         "2024-12-13T17:31:26.892Z",
         "2024-12-14T17:02:41.303Z"
        ],
        [
         2254,
         "HD 10GB /I",
         "hardware3",
         2,
         "obsolete",
         453.0,
         371.0,
         "2024-12-13T17:31:26.892Z",
         "2024-12-14T17:02:41.303Z"
        ],
        [
         3353,
         "HD 10GB /R",
         "hardware3",
         1,
         "obsolete",
         489.0,
         413.0,
         "2024-12-13T17:31:26.892Z",
         "2024-12-14T17:02:41.303Z"
        ],
        [
         3069,
         "HD 10GB /S",
         "hardware3",
         1,
         "obsolete",
         436.0,
         350.0,
         "2024-12-13T17:31:26.892Z",
         "2024-12-14T17:02:41.303Z"
        ],
        [
         2253,
         "HD 10GB @5400 /SE",
         "hardware3",
         2,
         "obsolete",
         399.0,
         322.0,
         "2024-12-13T17:31:26.892Z",
         "2024-12-14T17:02:41.303Z"
        ],
        [
         3354,
         "HD 12GB /I",
         "hardware3",
         2,
         "orderable",
         543.0,
         478.0,
         "2024-12-13T17:31:26.892Z",
         "2024-12-14T17:02:41.303Z"
        ],
        [
         3072,
         "HD 12GB /N",
         "hardware3",
         1,
         "orderable",
         567.0,
         507.0,
         "2024-12-13T17:31:26.892Z",
         "2024-12-14T17:02:41.303Z"
        ],
        [
         3334,
         "HD 12GB /R",
         "hardware3",
         2,
         "orderable",
         612.0,
         512.0,
         "2024-12-13T17:31:26.892Z",
         "2024-12-14T17:02:41.303Z"
        ],
        [
         3071,
         "HD 12GB /S",
         "hardware3",
         1,
         "orderable",
         633.0,
         553.0,
         "2024-12-13T17:31:26.892Z",
         "2024-12-14T17:02:41.303Z"
        ],
        [
         2255,
         "HD 12GB @7200 /SE",
         "hardware3",
         2,
         "orderable",
         775.0,
         628.0,
         "2024-12-13T17:31:26.892Z",
         "2024-12-14T17:02:41.303Z"
        ],
        [
         1743,
         "HD 18.2GB @10000 /E",
         "hardware3",
         3,
         "planned",
         800.0,
         661.0,
         "2024-12-13T17:31:26.892Z",
         "2024-12-14T17:02:41.303Z"
        ],
        [
         2382,
         "HD 18.2GB@10000 /I",
         "hardware3",
         3,
         "under development",
         850.0,
         731.0,
         "2024-12-13T17:31:26.892Z",
         "2024-12-14T17:02:41.303Z"
        ],
        [
         3399,
         "HD 18GB /SE",
         "hardware3",
         3,
         "under development",
         815.0,
         706.0,
         "2024-12-13T17:31:26.892Z",
         "2024-12-14T17:02:41.303Z"
        ],
        [
         3073,
         "HD 6GB /I",
         "hardware3",
         2,
         "obsolete",
         224.0,
         197.0,
         "2024-12-13T17:31:26.892Z",
         "2024-12-14T17:02:41.303Z"
        ],
        [
         1768,
         "HD 8.2GB @5400",
         "hardware3",
         2,
         "orderable",
         345.0,
         306.0,
         "2024-12-13T17:31:26.892Z",
         "2024-12-14T17:02:41.303Z"
        ],
        [
         2410,
         "HD 8.4GB @5400",
         "hardware3",
         2,
         "orderable",
         357.0,
         319.0,
         "2024-12-13T17:31:26.892Z",
         "2024-12-14T17:02:41.303Z"
        ],
        [
         2257,
         "HD 8GB /I",
         "hardware3",
         1,
         "orderable",
         399.0,
         338.0,
         "2024-12-13T17:31:26.892Z",
         "2024-12-14T17:02:41.303Z"
        ],
        [
         3400,
         "HD 8GB /SE",
         "hardware3",
         2,
         "orderable",
         389.0,
         337.0,
         "2024-12-13T17:31:26.892Z",
         "2024-12-14T17:02:41.303Z"
        ],
        [
         3355,
         "HD 8GB /SI",
         "hardware3",
         1,
         "orderable",
         null,
         null,
         "2024-12-13T17:31:26.892Z",
         "2024-12-14T17:02:41.303Z"
        ],
        [
         1772,
         "HD 9.1GB @10000",
         "hardware3",
         3,
         "orderable",
         456.0,
         393.0,
         "2024-12-13T17:31:26.892Z",
         "2024-12-14T17:02:41.303Z"
        ],
        [
         2414,
         "HD 9.1GB @10000 /I",
         "hardware3",
         3,
         "orderable",
         454.0,
         399.0,
         "2024-12-13T17:31:26.892Z",
         "2024-12-14T17:02:41.303Z"
        ],
        [
         2415,
         "HD 9.1GB @7200",
         "hardware3",
         3,
         "orderable",
         359.0,
         309.0,
         "2024-12-13T17:31:26.892Z",
         "2024-12-14T17:02:41.303Z"
        ],
        [
         2395,
         "32MB Cache /M",
         "hardware4",
         1,
         "orderable",
         123.0,
         109.0,
         "2024-12-13T17:31:26.892Z",
         "2024-12-14T17:02:41.303Z"
        ],
        [
         1755,
         "32MB Cache /NM",
         "hardware4",
         1,
         "orderable",
         121.0,
         99.0,
         "2024-12-13T17:31:26.892Z",
         "2024-12-14T17:02:41.303Z"
        ],
        [
         2406,
         "64MB Cache /M",
         "hardware4",
         1,
         "orderable",
         223.0,
         178.0,
         "2024-12-13T17:31:26.892Z",
         "2024-12-14T17:02:41.303Z"
        ],
        [
         2404,
         "64MB Cache /NM",
         "hardware4",
         1,
         "orderable",
         221.0,
         180.0,
         "2024-12-13T17:31:26.892Z",
         "2024-12-14T17:02:41.303Z"
        ],
        [
         2243,
         "Monitor 17/HR/F",
         "hardware1",
         4,
         "orderable",
         350.0,
         302.0,
         "2024-12-13T18:31:58.528Z",
         "2024-12-14T17:02:41.303Z"
        ],
        [
         3057,
         "Monitor 17/SD",
         "hardware1",
         4,
         "orderable",
         369.0,
         320.0,
         "2024-12-13T18:31:58.528Z",
         "2024-12-14T17:02:41.303Z"
        ],
        [
         3061,
         "Monitor 19/SD",
         "hardware1",
         5,
         "orderable",
         499.0,
         437.0,
         "2024-12-13T18:31:58.528Z",
         "2024-12-14T17:02:41.303Z"
        ],
        [
         2245,
         "Monitor 19/SD/M",
         "hardware1",
         5,
         "orderable",
         512.0,
         420.0,
         "2024-12-13T18:31:58.528Z",
         "2024-12-14T17:02:41.303Z"
        ],
        [
         3065,
         "Monitor 21/D",
         "hardware1",
         5,
         "orderable",
         999.0,
         875.0,
         "2024-12-13T18:31:58.528Z",
         "2024-12-14T17:02:41.303Z"
        ],
        [
         3331,
         "Monitor 21/HR",
         "hardware1",
         5,
         "orderable",
         879.0,
         785.0,
         "2024-12-13T18:31:58.528Z",
         "2024-12-14T17:02:41.303Z"
        ],
        [
         2252,
         "Monitor 21/HR/M",
         "hardware1",
         5,
         "obsolete",
         889.0,
         717.0,
         "2024-12-13T18:31:58.528Z",
         "2024-12-14T17:02:41.303Z"
        ],
        [
         3064,
         "Monitor 21/SD",
         "hardware1",
         5,
         "planned",
         1023.0,
         909.0,
         "2024-12-13T18:31:58.528Z",
         "2024-12-14T17:02:41.303Z"
        ],
        [
         3155,
         "Monitor Hinge - HD",
         "hardware1",
         4,
         "orderable",
         49.0,
         42.0,
         "2024-12-13T18:31:58.528Z",
         "2024-12-14T17:02:41.303Z"
        ],
        [
         3234,
         "Monitor Hinge - STD",
         "hardware1",
         3,
         "orderable",
         39.0,
         34.0,
         "2024-12-13T18:31:58.528Z",
         "2024-12-14T17:02:41.303Z"
        ],
        [
         3350,
         "Plasma Monitor 10/LE/VGA",
         "hardware1",
         3,
         "orderable",
         740.0,
         630.0,
         "2024-12-13T18:31:58.528Z",
         "2024-12-14T17:02:41.303Z"
        ],
        [
         2236,
         "Plasma Monitor 10/TFT/XGA",
         "hardware1",
         3,
         "under development",
         964.0,
         863.0,
         "2024-12-13T18:31:58.528Z",
         "2024-12-14T17:02:41.303Z"
        ],
        [
         3054,
         "Plasma Monitor 10/XGA",
         "hardware1",
         3,
         "orderable",
         600.0,
         519.0,
         "2024-12-13T18:31:58.528Z",
         "2024-12-14T17:02:41.303Z"
        ],
        [
         1726,
         "LCD Monitor 11/PM",
         "hardware1",
         3,
         "under development",
         259.0,
         208.0,
         "2024-12-13T18:31:58.528Z",
         "2024-12-14T17:02:41.303Z"
        ],
        [
         2359,
         "LCD Monitor 9/PM",
         "hardware1",
         3,
         "orderable",
         249.0,
         206.0,
         "2024-12-13T18:31:58.528Z",
         "2024-12-14T17:02:41.303Z"
        ],
        [
         3060,
         "Monitor 17/HR",
         "hardware1",
         4,
         "orderable",
         299.0,
         250.0,
         "2024-12-13T18:31:58.528Z",
         "2024-12-14T17:02:41.303Z"
        ],
        [
         1797,
         "Inkjet C/8/HQ",
         "hardware2",
         3,
         "orderable",
         349.0,
         288.0,
         "2024-12-13T18:31:58.528Z",
         "2024-12-14T17:02:41.303Z"
        ],
        [
         2459,
         "LaserPro 1200/8/BW",
         "hardware2",
         5,
         "under development",
         699.0,
         568.0,
         "2024-12-13T18:31:58.528Z",
         "2024-12-14T17:02:41.303Z"
        ],
        [
         3127,
         "LaserPro 600/6/BW",
         "hardware2",
         4,
         "orderable",
         498.0,
         444.0,
         "2024-12-13T18:31:58.528Z",
         "2024-12-14T17:02:41.303Z"
        ],
        [
         1782,
         "Compact 400/DQ",
         "hardware2",
         4,
         "obsolete",
         125.0,
         108.0,
         "2024-12-13T18:31:58.528Z",
         "2024-12-14T17:02:41.303Z"
        ],
        [
         2430,
         "Compact 400/LQ",
         "hardware2",
         4,
         "orderable",
         175.0,
         143.0,
         "2024-12-13T18:31:58.528Z",
         "2024-12-14T17:02:41.303Z"
        ],
        [
         1792,
         "Industrial 600/DQ",
         "hardware2",
         4,
         "orderable",
         225.0,
         180.0,
         "2024-12-13T18:31:58.528Z",
         "2024-12-14T17:02:41.303Z"
        ],
        [
         1791,
         "Industrial 700/HD",
         "hardware2",
         5,
         "orderable",
         275.0,
         239.0,
         "2024-12-13T18:31:58.528Z",
         "2024-12-14T17:02:41.303Z"
        ],
        [
         2302,
         "Inkjet B/6",
         "hardware2",
         3,
         "orderable",
         150.0,
         121.0,
         "2024-12-13T18:31:58.528Z",
         "2024-12-14T17:02:41.303Z"
        ],
        [
         2453,
         "Inkjet C/4",
         "hardware2",
         3,
         "orderable",
         195.0,
         174.0,
         "2024-12-13T18:31:58.528Z",
         "2024-12-14T17:02:41.303Z"
        ],
        [
         2254,
         "HD 10GB /I",
         "hardware3",
         2,
         "obsolete",
         453.0,
         371.0,
         "2024-12-13T18:31:58.528Z",
         "2024-12-14T17:02:41.303Z"
        ],
        [
         3353,
         "HD 10GB /R",
         "hardware3",
         1,
         "obsolete",
         489.0,
         413.0,
         "2024-12-13T18:31:58.528Z",
         "2024-12-14T17:02:41.303Z"
        ],
        [
         3069,
         "HD 10GB /S",
         "hardware3",
         1,
         "obsolete",
         436.0,
         350.0,
         "2024-12-13T18:31:58.528Z",
         "2024-12-14T17:02:41.303Z"
        ],
        [
         2253,
         "HD 10GB @5400 /SE",
         "hardware3",
         2,
         "obsolete",
         399.0,
         322.0,
         "2024-12-13T18:31:58.528Z",
         "2024-12-14T17:02:41.303Z"
        ],
        [
         3354,
         "HD 12GB /I",
         "hardware3",
         2,
         "orderable",
         543.0,
         478.0,
         "2024-12-13T18:31:58.528Z",
         "2024-12-14T17:02:41.303Z"
        ],
        [
         3072,
         "HD 12GB /N",
         "hardware3",
         1,
         "orderable",
         567.0,
         507.0,
         "2024-12-13T18:31:58.528Z",
         "2024-12-14T17:02:41.303Z"
        ],
        [
         3334,
         "HD 12GB /R",
         "hardware3",
         2,
         "orderable",
         612.0,
         512.0,
         "2024-12-13T18:31:58.528Z",
         "2024-12-14T17:02:41.303Z"
        ],
        [
         3071,
         "HD 12GB /S",
         "hardware3",
         1,
         "orderable",
         633.0,
         553.0,
         "2024-12-13T18:31:58.528Z",
         "2024-12-14T17:02:41.303Z"
        ],
        [
         2255,
         "HD 12GB @7200 /SE",
         "hardware3",
         2,
         "orderable",
         775.0,
         628.0,
         "2024-12-13T18:31:58.528Z",
         "2024-12-14T17:02:41.303Z"
        ],
        [
         1743,
         "HD 18.2GB @10000 /E",
         "hardware3",
         3,
         "planned",
         800.0,
         661.0,
         "2024-12-13T18:31:58.528Z",
         "2024-12-14T17:02:41.303Z"
        ],
        [
         2382,
         "HD 18.2GB@10000 /I",
         "hardware3",
         3,
         "under development",
         850.0,
         731.0,
         "2024-12-13T18:31:58.528Z",
         "2024-12-14T17:02:41.303Z"
        ],
        [
         3399,
         "HD 18GB /SE",
         "hardware3",
         3,
         "under development",
         815.0,
         706.0,
         "2024-12-13T18:31:58.528Z",
         "2024-12-14T17:02:41.303Z"
        ],
        [
         3073,
         "HD 6GB /I",
         "hardware3",
         2,
         "obsolete",
         224.0,
         197.0,
         "2024-12-13T18:31:58.528Z",
         "2024-12-14T17:02:41.303Z"
        ],
        [
         1768,
         "HD 8.2GB @5400",
         "hardware3",
         2,
         "orderable",
         345.0,
         306.0,
         "2024-12-13T18:31:58.528Z",
         "2024-12-14T17:02:41.303Z"
        ],
        [
         2410,
         "HD 8.4GB @5400",
         "hardware3",
         2,
         "orderable",
         357.0,
         319.0,
         "2024-12-13T18:31:58.528Z",
         "2024-12-14T17:02:41.303Z"
        ],
        [
         2257,
         "HD 8GB /I",
         "hardware3",
         1,
         "orderable",
         399.0,
         338.0,
         "2024-12-13T18:31:58.528Z",
         "2024-12-14T17:02:41.303Z"
        ],
        [
         3400,
         "HD 8GB /SE",
         "hardware3",
         2,
         "orderable",
         389.0,
         337.0,
         "2024-12-13T18:31:58.528Z",
         "2024-12-14T17:02:41.303Z"
        ],
        [
         3355,
         "HD 8GB /SI",
         "hardware3",
         1,
         "orderable",
         null,
         null,
         "2024-12-13T18:31:58.528Z",
         "2024-12-14T17:02:41.303Z"
        ],
        [
         1772,
         "HD 9.1GB @10000",
         "hardware3",
         3,
         "orderable",
         456.0,
         393.0,
         "2024-12-13T18:31:58.528Z",
         "2024-12-14T17:02:41.303Z"
        ],
        [
         2414,
         "HD 9.1GB @10000 /I",
         "hardware3",
         3,
         "orderable",
         454.0,
         399.0,
         "2024-12-13T18:31:58.528Z",
         "2024-12-14T17:02:41.303Z"
        ],
        [
         2415,
         "HD 9.1GB @7200",
         "hardware3",
         3,
         "orderable",
         359.0,
         309.0,
         "2024-12-13T18:31:58.528Z",
         "2024-12-14T17:02:41.303Z"
        ],
        [
         2395,
         "32MB Cache /M",
         "hardware4",
         1,
         "orderable",
         123.0,
         109.0,
         "2024-12-13T18:31:58.528Z",
         "2024-12-14T17:02:41.303Z"
        ],
        [
         1755,
         "32MB Cache /NM",
         "hardware4",
         1,
         "orderable",
         121.0,
         99.0,
         "2024-12-13T18:31:58.528Z",
         "2024-12-14T17:02:41.303Z"
        ],
        [
         2406,
         "64MB Cache /M",
         "hardware4",
         1,
         "orderable",
         223.0,
         178.0,
         "2024-12-13T18:31:58.528Z",
         "2024-12-14T17:02:41.303Z"
        ],
        [
         2404,
         "64MB Cache /NM",
         "hardware4",
         1,
         "orderable",
         221.0,
         180.0,
         "2024-12-13T18:31:58.528Z",
         "2024-12-14T17:02:41.303Z"
        ],
        [
         2243,
         "Monitor 17/HR/F",
         "hardware4",
         4,
         "orderable",
         260.0,
         302.0,
         "2024-12-14T16:59:25.307Z",
         "2024-12-14T17:02:41.303Z"
        ],
        [
         3057,
         "Monitor 17/SD",
         "hardware1",
         4,
         "orderable",
         164.0,
         320.0,
         "2024-12-14T16:59:25.307Z",
         "2024-12-14T17:02:41.303Z"
        ],
        [
         3061,
         "Monitor 19/SD",
         "hardware2",
         5,
         "obsolete",
         196.0,
         437.0,
         "2024-12-14T16:59:25.307Z",
         "2024-12-14T17:02:41.303Z"
        ],
        [
         2245,
         "Monitor 19/SD/M",
         "hardware1",
         5,
         "obsolete",
         411.0,
         420.0,
         "2024-12-14T16:59:25.307Z",
         "2024-12-14T17:02:41.303Z"
        ],
        [
         3065,
         "Monitor 21/D",
         "hardware3",
         5,
         "obsolete",
         489.0,
         875.0,
         "2024-12-14T16:59:25.307Z",
         "2024-12-14T17:02:41.303Z"
        ],
        [
         3331,
         "Monitor 21/HR",
         "hardware2",
         5,
         "orderable",
         367.0,
         785.0,
         "2024-12-14T16:59:25.307Z",
         "2024-12-14T17:02:41.303Z"
        ],
        [
         2252,
         "Monitor 21/HR/M",
         "hardware3",
         5,
         "orderable",
         235.0,
         717.0,
         "2024-12-14T16:59:25.307Z",
         "2024-12-14T17:02:41.303Z"
        ],
        [
         3064,
         "Monitor 21/SD",
         "hardware2",
         5,
         "obsolete",
         372.0,
         909.0,
         "2024-12-14T16:59:25.307Z",
         "2024-12-14T17:02:41.303Z"
        ],
        [
         3155,
         "Monitor Hinge - HD",
         "hardware1",
         4,
         "obsolete",
         435.0,
         42.0,
         "2024-12-14T16:59:25.307Z",
         "2024-12-14T17:02:41.303Z"
        ],
        [
         3234,
         "Monitor Hinge - STD",
         "hardware4",
         3,
         "obsolete",
         151.0,
         34.0,
         "2024-12-14T16:59:25.307Z",
         "2024-12-14T17:02:41.303Z"
        ]
       ],
       "datasetInfos": [],
       "dbfsResultPath": null,
       "isJsonSchema": true,
       "metadata": {},
       "overflow": false,
       "plotOptions": {
        "customPlotOptions": {},
        "displayType": "table",
        "pivotAggregation": null,
        "pivotColumns": null,
        "xColumns": null,
        "yColumns": null
       },
       "removedWidgets": [],
       "schema": [
        {
         "metadata": "{}",
         "name": "product_id",
         "type": "\"integer\""
        },
        {
         "metadata": "{}",
         "name": "product_name",
         "type": "\"string\""
        },
        {
         "metadata": "{}",
         "name": "category_name",
         "type": "\"string\""
        },
        {
         "metadata": "{}",
         "name": "weight_class",
         "type": "\"integer\""
        },
        {
         "metadata": "{}",
         "name": "product_status",
         "type": "\"string\""
        },
        {
         "metadata": "{}",
         "name": "list_price",
         "type": "\"double\""
        },
        {
         "metadata": "{}",
         "name": "min_price",
         "type": "\"double\""
        },
        {
         "metadata": "{}",
         "name": "consume_timestamp",
         "type": "\"timestamp\""
        },
        {
         "metadata": "{}",
         "name": "load_tsp",
         "type": "\"timestamp\""
        }
       ],
       "type": "table"
      }
     },
     "output_type": "display_data"
    }
   ],
   "source": [
    "products = spark.read.format('delta').table(\"stoyan.silver__products\")\n",
    "products.display()"
   ]
  },
  {
   "cell_type": "code",
   "execution_count": 0,
   "metadata": {
    "application/vnd.databricks.v1+cell": {
     "cellMetadata": {
      "byteLimit": 2048000,
      "rowLimit": 10000
     },
     "inputWidgets": {},
     "nuid": "9786a844-171f-40c3-8ef9-87504131da34",
     "showTitle": false,
     "tableResultSettingsMap": {},
     "title": ""
    }
   },
   "outputs": [
    {
     "output_type": "display_data",
     "data": {
      "text/html": [
       "<style scoped>\n",
       "  .table-result-container {\n",
       "    max-height: 300px;\n",
       "    overflow: auto;\n",
       "  }\n",
       "  table, th, td {\n",
       "    border: 1px solid black;\n",
       "    border-collapse: collapse;\n",
       "  }\n",
       "  th, td {\n",
       "    padding: 5px;\n",
       "  }\n",
       "  th {\n",
       "    text-align: left;\n",
       "  }\n",
       "</style><div class='table-result-container'><table class='table-result'><thead style='background-color: white'><tr><th>product_id</th><th>product_name</th><th>category_name</th><th>weight_class</th><th>product_status</th><th>list_price</th><th>min_price</th><th>consume_timestamp</th><th>load_tsp</th></tr></thead><tbody><tr><td>2243</td><td>Monitor 17/HR/F</td><td>hardware1</td><td>4</td><td>orderable</td><td>350.0</td><td>302.0</td><td>2024-12-13T17:31:26.892Z</td><td>2024-12-14T17:02:41.303Z</td></tr><tr><td>3057</td><td>Monitor 17/SD</td><td>hardware1</td><td>4</td><td>orderable</td><td>369.0</td><td>320.0</td><td>2024-12-13T17:31:26.892Z</td><td>2024-12-14T17:02:41.303Z</td></tr><tr><td>3061</td><td>Monitor 19/SD</td><td>hardware1</td><td>5</td><td>orderable</td><td>499.0</td><td>437.0</td><td>2024-12-13T17:31:26.892Z</td><td>2024-12-14T17:02:41.303Z</td></tr><tr><td>2245</td><td>Monitor 19/SD/M</td><td>hardware1</td><td>5</td><td>orderable</td><td>512.0</td><td>420.0</td><td>2024-12-13T17:31:26.892Z</td><td>2024-12-14T17:02:41.303Z</td></tr><tr><td>3065</td><td>Monitor 21/D</td><td>hardware1</td><td>5</td><td>orderable</td><td>999.0</td><td>875.0</td><td>2024-12-13T17:31:26.892Z</td><td>2024-12-14T17:02:41.303Z</td></tr><tr><td>3331</td><td>Monitor 21/HR</td><td>hardware1</td><td>5</td><td>orderable</td><td>879.0</td><td>785.0</td><td>2024-12-13T17:31:26.892Z</td><td>2024-12-14T17:02:41.303Z</td></tr><tr><td>2252</td><td>Monitor 21/HR/M</td><td>hardware1</td><td>5</td><td>obsolete</td><td>889.0</td><td>717.0</td><td>2024-12-13T17:31:26.892Z</td><td>2024-12-14T17:02:41.303Z</td></tr><tr><td>3064</td><td>Monitor 21/SD</td><td>hardware1</td><td>5</td><td>planned</td><td>1023.0</td><td>909.0</td><td>2024-12-13T17:31:26.892Z</td><td>2024-12-14T17:02:41.303Z</td></tr><tr><td>3155</td><td>Monitor Hinge - HD</td><td>hardware1</td><td>4</td><td>orderable</td><td>49.0</td><td>42.0</td><td>2024-12-13T17:31:26.892Z</td><td>2024-12-14T17:02:41.303Z</td></tr><tr><td>3234</td><td>Monitor Hinge - STD</td><td>hardware1</td><td>3</td><td>orderable</td><td>39.0</td><td>34.0</td><td>2024-12-13T17:31:26.892Z</td><td>2024-12-14T17:02:41.303Z</td></tr><tr><td>3350</td><td>Plasma Monitor 10/LE/VGA</td><td>hardware1</td><td>3</td><td>orderable</td><td>740.0</td><td>630.0</td><td>2024-12-13T17:31:26.892Z</td><td>2024-12-14T17:02:41.303Z</td></tr><tr><td>2236</td><td>Plasma Monitor 10/TFT/XGA</td><td>hardware1</td><td>3</td><td>under development</td><td>964.0</td><td>863.0</td><td>2024-12-13T17:31:26.892Z</td><td>2024-12-14T17:02:41.303Z</td></tr><tr><td>3054</td><td>Plasma Monitor 10/XGA</td><td>hardware1</td><td>3</td><td>orderable</td><td>600.0</td><td>519.0</td><td>2024-12-13T17:31:26.892Z</td><td>2024-12-14T17:02:41.303Z</td></tr><tr><td>1726</td><td>LCD Monitor 11/PM</td><td>hardware1</td><td>3</td><td>under development</td><td>259.0</td><td>208.0</td><td>2024-12-13T17:31:26.892Z</td><td>2024-12-14T17:02:41.303Z</td></tr><tr><td>2359</td><td>LCD Monitor 9/PM</td><td>hardware1</td><td>3</td><td>orderable</td><td>249.0</td><td>206.0</td><td>2024-12-13T17:31:26.892Z</td><td>2024-12-14T17:02:41.303Z</td></tr><tr><td>3060</td><td>Monitor 17/HR</td><td>hardware1</td><td>4</td><td>orderable</td><td>299.0</td><td>250.0</td><td>2024-12-13T17:31:26.892Z</td><td>2024-12-14T17:02:41.303Z</td></tr><tr><td>1797</td><td>Inkjet C/8/HQ</td><td>hardware2</td><td>3</td><td>orderable</td><td>349.0</td><td>288.0</td><td>2024-12-13T17:31:26.892Z</td><td>2024-12-14T17:02:41.303Z</td></tr><tr><td>2459</td><td>LaserPro 1200/8/BW</td><td>hardware2</td><td>5</td><td>under development</td><td>699.0</td><td>568.0</td><td>2024-12-13T17:31:26.892Z</td><td>2024-12-14T17:02:41.303Z</td></tr><tr><td>3127</td><td>LaserPro 600/6/BW</td><td>hardware2</td><td>4</td><td>orderable</td><td>498.0</td><td>444.0</td><td>2024-12-13T17:31:26.892Z</td><td>2024-12-14T17:02:41.303Z</td></tr><tr><td>1782</td><td>Compact 400/DQ</td><td>hardware2</td><td>4</td><td>obsolete</td><td>125.0</td><td>108.0</td><td>2024-12-13T17:31:26.892Z</td><td>2024-12-14T17:02:41.303Z</td></tr><tr><td>2430</td><td>Compact 400/LQ</td><td>hardware2</td><td>4</td><td>orderable</td><td>175.0</td><td>143.0</td><td>2024-12-13T17:31:26.892Z</td><td>2024-12-14T17:02:41.303Z</td></tr><tr><td>1792</td><td>Industrial 600/DQ</td><td>hardware2</td><td>4</td><td>orderable</td><td>225.0</td><td>180.0</td><td>2024-12-13T17:31:26.892Z</td><td>2024-12-14T17:02:41.303Z</td></tr><tr><td>1791</td><td>Industrial 700/HD</td><td>hardware2</td><td>5</td><td>orderable</td><td>275.0</td><td>239.0</td><td>2024-12-13T17:31:26.892Z</td><td>2024-12-14T17:02:41.303Z</td></tr><tr><td>2302</td><td>Inkjet B/6</td><td>hardware2</td><td>3</td><td>orderable</td><td>150.0</td><td>121.0</td><td>2024-12-13T17:31:26.892Z</td><td>2024-12-14T17:02:41.303Z</td></tr><tr><td>2453</td><td>Inkjet C/4</td><td>hardware2</td><td>3</td><td>orderable</td><td>195.0</td><td>174.0</td><td>2024-12-13T17:31:26.892Z</td><td>2024-12-14T17:02:41.303Z</td></tr><tr><td>2254</td><td>HD 10GB /I</td><td>hardware3</td><td>2</td><td>obsolete</td><td>453.0</td><td>371.0</td><td>2024-12-13T17:31:26.892Z</td><td>2024-12-14T17:02:41.303Z</td></tr><tr><td>3353</td><td>HD 10GB /R</td><td>hardware3</td><td>1</td><td>obsolete</td><td>489.0</td><td>413.0</td><td>2024-12-13T17:31:26.892Z</td><td>2024-12-14T17:02:41.303Z</td></tr><tr><td>3069</td><td>HD 10GB /S</td><td>hardware3</td><td>1</td><td>obsolete</td><td>436.0</td><td>350.0</td><td>2024-12-13T17:31:26.892Z</td><td>2024-12-14T17:02:41.303Z</td></tr><tr><td>2253</td><td>HD 10GB @5400 /SE</td><td>hardware3</td><td>2</td><td>obsolete</td><td>399.0</td><td>322.0</td><td>2024-12-13T17:31:26.892Z</td><td>2024-12-14T17:02:41.303Z</td></tr><tr><td>3354</td><td>HD 12GB /I</td><td>hardware3</td><td>2</td><td>orderable</td><td>543.0</td><td>478.0</td><td>2024-12-13T17:31:26.892Z</td><td>2024-12-14T17:02:41.303Z</td></tr><tr><td>3072</td><td>HD 12GB /N</td><td>hardware3</td><td>1</td><td>orderable</td><td>567.0</td><td>507.0</td><td>2024-12-13T17:31:26.892Z</td><td>2024-12-14T17:02:41.303Z</td></tr><tr><td>3334</td><td>HD 12GB /R</td><td>hardware3</td><td>2</td><td>orderable</td><td>612.0</td><td>512.0</td><td>2024-12-13T17:31:26.892Z</td><td>2024-12-14T17:02:41.303Z</td></tr><tr><td>3071</td><td>HD 12GB /S</td><td>hardware3</td><td>1</td><td>orderable</td><td>633.0</td><td>553.0</td><td>2024-12-13T17:31:26.892Z</td><td>2024-12-14T17:02:41.303Z</td></tr><tr><td>2255</td><td>HD 12GB @7200 /SE</td><td>hardware3</td><td>2</td><td>orderable</td><td>775.0</td><td>628.0</td><td>2024-12-13T17:31:26.892Z</td><td>2024-12-14T17:02:41.303Z</td></tr><tr><td>1743</td><td>HD 18.2GB @10000 /E</td><td>hardware3</td><td>3</td><td>planned</td><td>800.0</td><td>661.0</td><td>2024-12-13T17:31:26.892Z</td><td>2024-12-14T17:02:41.303Z</td></tr><tr><td>2382</td><td>HD 18.2GB@10000 /I</td><td>hardware3</td><td>3</td><td>under development</td><td>850.0</td><td>731.0</td><td>2024-12-13T17:31:26.892Z</td><td>2024-12-14T17:02:41.303Z</td></tr><tr><td>3399</td><td>HD 18GB /SE</td><td>hardware3</td><td>3</td><td>under development</td><td>815.0</td><td>706.0</td><td>2024-12-13T17:31:26.892Z</td><td>2024-12-14T17:02:41.303Z</td></tr><tr><td>3073</td><td>HD 6GB /I</td><td>hardware3</td><td>2</td><td>obsolete</td><td>224.0</td><td>197.0</td><td>2024-12-13T17:31:26.892Z</td><td>2024-12-14T17:02:41.303Z</td></tr><tr><td>1768</td><td>HD 8.2GB @5400</td><td>hardware3</td><td>2</td><td>orderable</td><td>345.0</td><td>306.0</td><td>2024-12-13T17:31:26.892Z</td><td>2024-12-14T17:02:41.303Z</td></tr><tr><td>2410</td><td>HD 8.4GB @5400</td><td>hardware3</td><td>2</td><td>orderable</td><td>357.0</td><td>319.0</td><td>2024-12-13T17:31:26.892Z</td><td>2024-12-14T17:02:41.303Z</td></tr><tr><td>2257</td><td>HD 8GB /I</td><td>hardware3</td><td>1</td><td>orderable</td><td>399.0</td><td>338.0</td><td>2024-12-13T17:31:26.892Z</td><td>2024-12-14T17:02:41.303Z</td></tr><tr><td>3400</td><td>HD 8GB /SE</td><td>hardware3</td><td>2</td><td>orderable</td><td>389.0</td><td>337.0</td><td>2024-12-13T17:31:26.892Z</td><td>2024-12-14T17:02:41.303Z</td></tr><tr><td>3355</td><td>HD 8GB /SI</td><td>hardware3</td><td>1</td><td>orderable</td><td>null</td><td>null</td><td>2024-12-13T17:31:26.892Z</td><td>2024-12-14T17:02:41.303Z</td></tr><tr><td>1772</td><td>HD 9.1GB @10000</td><td>hardware3</td><td>3</td><td>orderable</td><td>456.0</td><td>393.0</td><td>2024-12-13T17:31:26.892Z</td><td>2024-12-14T17:02:41.303Z</td></tr><tr><td>2414</td><td>HD 9.1GB @10000 /I</td><td>hardware3</td><td>3</td><td>orderable</td><td>454.0</td><td>399.0</td><td>2024-12-13T17:31:26.892Z</td><td>2024-12-14T17:02:41.303Z</td></tr><tr><td>2415</td><td>HD 9.1GB @7200</td><td>hardware3</td><td>3</td><td>orderable</td><td>359.0</td><td>309.0</td><td>2024-12-13T17:31:26.892Z</td><td>2024-12-14T17:02:41.303Z</td></tr><tr><td>2395</td><td>32MB Cache /M</td><td>hardware4</td><td>1</td><td>orderable</td><td>123.0</td><td>109.0</td><td>2024-12-13T17:31:26.892Z</td><td>2024-12-14T17:02:41.303Z</td></tr><tr><td>1755</td><td>32MB Cache /NM</td><td>hardware4</td><td>1</td><td>orderable</td><td>121.0</td><td>99.0</td><td>2024-12-13T17:31:26.892Z</td><td>2024-12-14T17:02:41.303Z</td></tr><tr><td>2406</td><td>64MB Cache /M</td><td>hardware4</td><td>1</td><td>orderable</td><td>223.0</td><td>178.0</td><td>2024-12-13T17:31:26.892Z</td><td>2024-12-14T17:02:41.303Z</td></tr><tr><td>2404</td><td>64MB Cache /NM</td><td>hardware4</td><td>1</td><td>orderable</td><td>221.0</td><td>180.0</td><td>2024-12-13T17:31:26.892Z</td><td>2024-12-14T17:02:41.303Z</td></tr><tr><td>2243</td><td>Monitor 17/HR/F</td><td>hardware1</td><td>4</td><td>orderable</td><td>350.0</td><td>302.0</td><td>2024-12-13T18:31:58.528Z</td><td>2024-12-14T17:02:41.303Z</td></tr><tr><td>3057</td><td>Monitor 17/SD</td><td>hardware1</td><td>4</td><td>orderable</td><td>369.0</td><td>320.0</td><td>2024-12-13T18:31:58.528Z</td><td>2024-12-14T17:02:41.303Z</td></tr><tr><td>3061</td><td>Monitor 19/SD</td><td>hardware1</td><td>5</td><td>orderable</td><td>499.0</td><td>437.0</td><td>2024-12-13T18:31:58.528Z</td><td>2024-12-14T17:02:41.303Z</td></tr><tr><td>2245</td><td>Monitor 19/SD/M</td><td>hardware1</td><td>5</td><td>orderable</td><td>512.0</td><td>420.0</td><td>2024-12-13T18:31:58.528Z</td><td>2024-12-14T17:02:41.303Z</td></tr><tr><td>3065</td><td>Monitor 21/D</td><td>hardware1</td><td>5</td><td>orderable</td><td>999.0</td><td>875.0</td><td>2024-12-13T18:31:58.528Z</td><td>2024-12-14T17:02:41.303Z</td></tr><tr><td>3331</td><td>Monitor 21/HR</td><td>hardware1</td><td>5</td><td>orderable</td><td>879.0</td><td>785.0</td><td>2024-12-13T18:31:58.528Z</td><td>2024-12-14T17:02:41.303Z</td></tr><tr><td>2252</td><td>Monitor 21/HR/M</td><td>hardware1</td><td>5</td><td>obsolete</td><td>889.0</td><td>717.0</td><td>2024-12-13T18:31:58.528Z</td><td>2024-12-14T17:02:41.303Z</td></tr><tr><td>3064</td><td>Monitor 21/SD</td><td>hardware1</td><td>5</td><td>planned</td><td>1023.0</td><td>909.0</td><td>2024-12-13T18:31:58.528Z</td><td>2024-12-14T17:02:41.303Z</td></tr><tr><td>3155</td><td>Monitor Hinge - HD</td><td>hardware1</td><td>4</td><td>orderable</td><td>49.0</td><td>42.0</td><td>2024-12-13T18:31:58.528Z</td><td>2024-12-14T17:02:41.303Z</td></tr><tr><td>3234</td><td>Monitor Hinge - STD</td><td>hardware1</td><td>3</td><td>orderable</td><td>39.0</td><td>34.0</td><td>2024-12-13T18:31:58.528Z</td><td>2024-12-14T17:02:41.303Z</td></tr><tr><td>3350</td><td>Plasma Monitor 10/LE/VGA</td><td>hardware1</td><td>3</td><td>orderable</td><td>740.0</td><td>630.0</td><td>2024-12-13T18:31:58.528Z</td><td>2024-12-14T17:02:41.303Z</td></tr><tr><td>2236</td><td>Plasma Monitor 10/TFT/XGA</td><td>hardware1</td><td>3</td><td>under development</td><td>964.0</td><td>863.0</td><td>2024-12-13T18:31:58.528Z</td><td>2024-12-14T17:02:41.303Z</td></tr><tr><td>3054</td><td>Plasma Monitor 10/XGA</td><td>hardware1</td><td>3</td><td>orderable</td><td>600.0</td><td>519.0</td><td>2024-12-13T18:31:58.528Z</td><td>2024-12-14T17:02:41.303Z</td></tr><tr><td>1726</td><td>LCD Monitor 11/PM</td><td>hardware1</td><td>3</td><td>under development</td><td>259.0</td><td>208.0</td><td>2024-12-13T18:31:58.528Z</td><td>2024-12-14T17:02:41.303Z</td></tr><tr><td>2359</td><td>LCD Monitor 9/PM</td><td>hardware1</td><td>3</td><td>orderable</td><td>249.0</td><td>206.0</td><td>2024-12-13T18:31:58.528Z</td><td>2024-12-14T17:02:41.303Z</td></tr><tr><td>3060</td><td>Monitor 17/HR</td><td>hardware1</td><td>4</td><td>orderable</td><td>299.0</td><td>250.0</td><td>2024-12-13T18:31:58.528Z</td><td>2024-12-14T17:02:41.303Z</td></tr><tr><td>1797</td><td>Inkjet C/8/HQ</td><td>hardware2</td><td>3</td><td>orderable</td><td>349.0</td><td>288.0</td><td>2024-12-13T18:31:58.528Z</td><td>2024-12-14T17:02:41.303Z</td></tr><tr><td>2459</td><td>LaserPro 1200/8/BW</td><td>hardware2</td><td>5</td><td>under development</td><td>699.0</td><td>568.0</td><td>2024-12-13T18:31:58.528Z</td><td>2024-12-14T17:02:41.303Z</td></tr><tr><td>3127</td><td>LaserPro 600/6/BW</td><td>hardware2</td><td>4</td><td>orderable</td><td>498.0</td><td>444.0</td><td>2024-12-13T18:31:58.528Z</td><td>2024-12-14T17:02:41.303Z</td></tr><tr><td>1782</td><td>Compact 400/DQ</td><td>hardware2</td><td>4</td><td>obsolete</td><td>125.0</td><td>108.0</td><td>2024-12-13T18:31:58.528Z</td><td>2024-12-14T17:02:41.303Z</td></tr><tr><td>2430</td><td>Compact 400/LQ</td><td>hardware2</td><td>4</td><td>orderable</td><td>175.0</td><td>143.0</td><td>2024-12-13T18:31:58.528Z</td><td>2024-12-14T17:02:41.303Z</td></tr><tr><td>1792</td><td>Industrial 600/DQ</td><td>hardware2</td><td>4</td><td>orderable</td><td>225.0</td><td>180.0</td><td>2024-12-13T18:31:58.528Z</td><td>2024-12-14T17:02:41.303Z</td></tr><tr><td>1791</td><td>Industrial 700/HD</td><td>hardware2</td><td>5</td><td>orderable</td><td>275.0</td><td>239.0</td><td>2024-12-13T18:31:58.528Z</td><td>2024-12-14T17:02:41.303Z</td></tr><tr><td>2302</td><td>Inkjet B/6</td><td>hardware2</td><td>3</td><td>orderable</td><td>150.0</td><td>121.0</td><td>2024-12-13T18:31:58.528Z</td><td>2024-12-14T17:02:41.303Z</td></tr><tr><td>2453</td><td>Inkjet C/4</td><td>hardware2</td><td>3</td><td>orderable</td><td>195.0</td><td>174.0</td><td>2024-12-13T18:31:58.528Z</td><td>2024-12-14T17:02:41.303Z</td></tr><tr><td>2254</td><td>HD 10GB /I</td><td>hardware3</td><td>2</td><td>obsolete</td><td>453.0</td><td>371.0</td><td>2024-12-13T18:31:58.528Z</td><td>2024-12-14T17:02:41.303Z</td></tr><tr><td>3353</td><td>HD 10GB /R</td><td>hardware3</td><td>1</td><td>obsolete</td><td>489.0</td><td>413.0</td><td>2024-12-13T18:31:58.528Z</td><td>2024-12-14T17:02:41.303Z</td></tr><tr><td>3069</td><td>HD 10GB /S</td><td>hardware3</td><td>1</td><td>obsolete</td><td>436.0</td><td>350.0</td><td>2024-12-13T18:31:58.528Z</td><td>2024-12-14T17:02:41.303Z</td></tr><tr><td>2253</td><td>HD 10GB @5400 /SE</td><td>hardware3</td><td>2</td><td>obsolete</td><td>399.0</td><td>322.0</td><td>2024-12-13T18:31:58.528Z</td><td>2024-12-14T17:02:41.303Z</td></tr><tr><td>3354</td><td>HD 12GB /I</td><td>hardware3</td><td>2</td><td>orderable</td><td>543.0</td><td>478.0</td><td>2024-12-13T18:31:58.528Z</td><td>2024-12-14T17:02:41.303Z</td></tr><tr><td>3072</td><td>HD 12GB /N</td><td>hardware3</td><td>1</td><td>orderable</td><td>567.0</td><td>507.0</td><td>2024-12-13T18:31:58.528Z</td><td>2024-12-14T17:02:41.303Z</td></tr><tr><td>3334</td><td>HD 12GB /R</td><td>hardware3</td><td>2</td><td>orderable</td><td>612.0</td><td>512.0</td><td>2024-12-13T18:31:58.528Z</td><td>2024-12-14T17:02:41.303Z</td></tr><tr><td>3071</td><td>HD 12GB /S</td><td>hardware3</td><td>1</td><td>orderable</td><td>633.0</td><td>553.0</td><td>2024-12-13T18:31:58.528Z</td><td>2024-12-14T17:02:41.303Z</td></tr><tr><td>2255</td><td>HD 12GB @7200 /SE</td><td>hardware3</td><td>2</td><td>orderable</td><td>775.0</td><td>628.0</td><td>2024-12-13T18:31:58.528Z</td><td>2024-12-14T17:02:41.303Z</td></tr><tr><td>1743</td><td>HD 18.2GB @10000 /E</td><td>hardware3</td><td>3</td><td>planned</td><td>800.0</td><td>661.0</td><td>2024-12-13T18:31:58.528Z</td><td>2024-12-14T17:02:41.303Z</td></tr><tr><td>2382</td><td>HD 18.2GB@10000 /I</td><td>hardware3</td><td>3</td><td>under development</td><td>850.0</td><td>731.0</td><td>2024-12-13T18:31:58.528Z</td><td>2024-12-14T17:02:41.303Z</td></tr><tr><td>3399</td><td>HD 18GB /SE</td><td>hardware3</td><td>3</td><td>under development</td><td>815.0</td><td>706.0</td><td>2024-12-13T18:31:58.528Z</td><td>2024-12-14T17:02:41.303Z</td></tr><tr><td>3073</td><td>HD 6GB /I</td><td>hardware3</td><td>2</td><td>obsolete</td><td>224.0</td><td>197.0</td><td>2024-12-13T18:31:58.528Z</td><td>2024-12-14T17:02:41.303Z</td></tr><tr><td>1768</td><td>HD 8.2GB @5400</td><td>hardware3</td><td>2</td><td>orderable</td><td>345.0</td><td>306.0</td><td>2024-12-13T18:31:58.528Z</td><td>2024-12-14T17:02:41.303Z</td></tr><tr><td>2410</td><td>HD 8.4GB @5400</td><td>hardware3</td><td>2</td><td>orderable</td><td>357.0</td><td>319.0</td><td>2024-12-13T18:31:58.528Z</td><td>2024-12-14T17:02:41.303Z</td></tr><tr><td>2257</td><td>HD 8GB /I</td><td>hardware3</td><td>1</td><td>orderable</td><td>399.0</td><td>338.0</td><td>2024-12-13T18:31:58.528Z</td><td>2024-12-14T17:02:41.303Z</td></tr><tr><td>3400</td><td>HD 8GB /SE</td><td>hardware3</td><td>2</td><td>orderable</td><td>389.0</td><td>337.0</td><td>2024-12-13T18:31:58.528Z</td><td>2024-12-14T17:02:41.303Z</td></tr><tr><td>3355</td><td>HD 8GB /SI</td><td>hardware3</td><td>1</td><td>orderable</td><td>null</td><td>null</td><td>2024-12-13T18:31:58.528Z</td><td>2024-12-14T17:02:41.303Z</td></tr><tr><td>1772</td><td>HD 9.1GB @10000</td><td>hardware3</td><td>3</td><td>orderable</td><td>456.0</td><td>393.0</td><td>2024-12-13T18:31:58.528Z</td><td>2024-12-14T17:02:41.303Z</td></tr><tr><td>2414</td><td>HD 9.1GB @10000 /I</td><td>hardware3</td><td>3</td><td>orderable</td><td>454.0</td><td>399.0</td><td>2024-12-13T18:31:58.528Z</td><td>2024-12-14T17:02:41.303Z</td></tr><tr><td>2415</td><td>HD 9.1GB @7200</td><td>hardware3</td><td>3</td><td>orderable</td><td>359.0</td><td>309.0</td><td>2024-12-13T18:31:58.528Z</td><td>2024-12-14T17:02:41.303Z</td></tr><tr><td>2395</td><td>32MB Cache /M</td><td>hardware4</td><td>1</td><td>orderable</td><td>123.0</td><td>109.0</td><td>2024-12-13T18:31:58.528Z</td><td>2024-12-14T17:02:41.303Z</td></tr><tr><td>1755</td><td>32MB Cache /NM</td><td>hardware4</td><td>1</td><td>orderable</td><td>121.0</td><td>99.0</td><td>2024-12-13T18:31:58.528Z</td><td>2024-12-14T17:02:41.303Z</td></tr><tr><td>2406</td><td>64MB Cache /M</td><td>hardware4</td><td>1</td><td>orderable</td><td>223.0</td><td>178.0</td><td>2024-12-13T18:31:58.528Z</td><td>2024-12-14T17:02:41.303Z</td></tr><tr><td>2404</td><td>64MB Cache /NM</td><td>hardware4</td><td>1</td><td>orderable</td><td>221.0</td><td>180.0</td><td>2024-12-13T18:31:58.528Z</td><td>2024-12-14T17:02:41.303Z</td></tr><tr><td>2243</td><td>Monitor 17/HR/F</td><td>hardware4</td><td>4</td><td>orderable</td><td>260.0</td><td>302.0</td><td>2024-12-14T16:59:25.307Z</td><td>2024-12-14T17:02:41.303Z</td></tr><tr><td>3057</td><td>Monitor 17/SD</td><td>hardware1</td><td>4</td><td>orderable</td><td>164.0</td><td>320.0</td><td>2024-12-14T16:59:25.307Z</td><td>2024-12-14T17:02:41.303Z</td></tr><tr><td>3061</td><td>Monitor 19/SD</td><td>hardware2</td><td>5</td><td>obsolete</td><td>196.0</td><td>437.0</td><td>2024-12-14T16:59:25.307Z</td><td>2024-12-14T17:02:41.303Z</td></tr><tr><td>2245</td><td>Monitor 19/SD/M</td><td>hardware1</td><td>5</td><td>obsolete</td><td>411.0</td><td>420.0</td><td>2024-12-14T16:59:25.307Z</td><td>2024-12-14T17:02:41.303Z</td></tr><tr><td>3065</td><td>Monitor 21/D</td><td>hardware3</td><td>5</td><td>obsolete</td><td>489.0</td><td>875.0</td><td>2024-12-14T16:59:25.307Z</td><td>2024-12-14T17:02:41.303Z</td></tr><tr><td>3331</td><td>Monitor 21/HR</td><td>hardware2</td><td>5</td><td>orderable</td><td>367.0</td><td>785.0</td><td>2024-12-14T16:59:25.307Z</td><td>2024-12-14T17:02:41.303Z</td></tr><tr><td>2252</td><td>Monitor 21/HR/M</td><td>hardware3</td><td>5</td><td>orderable</td><td>235.0</td><td>717.0</td><td>2024-12-14T16:59:25.307Z</td><td>2024-12-14T17:02:41.303Z</td></tr><tr><td>3064</td><td>Monitor 21/SD</td><td>hardware2</td><td>5</td><td>obsolete</td><td>372.0</td><td>909.0</td><td>2024-12-14T16:59:25.307Z</td><td>2024-12-14T17:02:41.303Z</td></tr><tr><td>3155</td><td>Monitor Hinge - HD</td><td>hardware1</td><td>4</td><td>obsolete</td><td>435.0</td><td>42.0</td><td>2024-12-14T16:59:25.307Z</td><td>2024-12-14T17:02:41.303Z</td></tr><tr><td>3234</td><td>Monitor Hinge - STD</td><td>hardware4</td><td>3</td><td>obsolete</td><td>151.0</td><td>34.0</td><td>2024-12-14T16:59:25.307Z</td><td>2024-12-14T17:02:41.303Z</td></tr></tbody></table></div>"
      ]
     },
     "metadata": {
      "application/vnd.databricks.v1+output": {
       "addedWidgets": {},
       "aggData": [],
       "aggError": "",
       "aggOverflow": false,
       "aggSchema": [],
       "aggSeriesLimitReached": false,
       "aggType": "",
       "arguments": {},
       "columnCustomDisplayInfos": {},
       "data": [
        [
         2243,
         "Monitor 17/HR/F",
         "hardware1",
         4,
         "orderable",
         350.0,
         302.0,
         "2024-12-13T17:31:26.892Z",
         "2024-12-14T17:02:41.303Z"
        ],
        [
         3057,
         "Monitor 17/SD",
         "hardware1",
         4,
         "orderable",
         369.0,
         320.0,
         "2024-12-13T17:31:26.892Z",
         "2024-12-14T17:02:41.303Z"
        ],
        [
         3061,
         "Monitor 19/SD",
         "hardware1",
         5,
         "orderable",
         499.0,
         437.0,
         "2024-12-13T17:31:26.892Z",
         "2024-12-14T17:02:41.303Z"
        ],
        [
         2245,
         "Monitor 19/SD/M",
         "hardware1",
         5,
         "orderable",
         512.0,
         420.0,
         "2024-12-13T17:31:26.892Z",
         "2024-12-14T17:02:41.303Z"
        ],
        [
         3065,
         "Monitor 21/D",
         "hardware1",
         5,
         "orderable",
         999.0,
         875.0,
         "2024-12-13T17:31:26.892Z",
         "2024-12-14T17:02:41.303Z"
        ],
        [
         3331,
         "Monitor 21/HR",
         "hardware1",
         5,
         "orderable",
         879.0,
         785.0,
         "2024-12-13T17:31:26.892Z",
         "2024-12-14T17:02:41.303Z"
        ],
        [
         2252,
         "Monitor 21/HR/M",
         "hardware1",
         5,
         "obsolete",
         889.0,
         717.0,
         "2024-12-13T17:31:26.892Z",
         "2024-12-14T17:02:41.303Z"
        ],
        [
         3064,
         "Monitor 21/SD",
         "hardware1",
         5,
         "planned",
         1023.0,
         909.0,
         "2024-12-13T17:31:26.892Z",
         "2024-12-14T17:02:41.303Z"
        ],
        [
         3155,
         "Monitor Hinge - HD",
         "hardware1",
         4,
         "orderable",
         49.0,
         42.0,
         "2024-12-13T17:31:26.892Z",
         "2024-12-14T17:02:41.303Z"
        ],
        [
         3234,
         "Monitor Hinge - STD",
         "hardware1",
         3,
         "orderable",
         39.0,
         34.0,
         "2024-12-13T17:31:26.892Z",
         "2024-12-14T17:02:41.303Z"
        ],
        [
         3350,
         "Plasma Monitor 10/LE/VGA",
         "hardware1",
         3,
         "orderable",
         740.0,
         630.0,
         "2024-12-13T17:31:26.892Z",
         "2024-12-14T17:02:41.303Z"
        ],
        [
         2236,
         "Plasma Monitor 10/TFT/XGA",
         "hardware1",
         3,
         "under development",
         964.0,
         863.0,
         "2024-12-13T17:31:26.892Z",
         "2024-12-14T17:02:41.303Z"
        ],
        [
         3054,
         "Plasma Monitor 10/XGA",
         "hardware1",
         3,
         "orderable",
         600.0,
         519.0,
         "2024-12-13T17:31:26.892Z",
         "2024-12-14T17:02:41.303Z"
        ],
        [
         1726,
         "LCD Monitor 11/PM",
         "hardware1",
         3,
         "under development",
         259.0,
         208.0,
         "2024-12-13T17:31:26.892Z",
         "2024-12-14T17:02:41.303Z"
        ],
        [
         2359,
         "LCD Monitor 9/PM",
         "hardware1",
         3,
         "orderable",
         249.0,
         206.0,
         "2024-12-13T17:31:26.892Z",
         "2024-12-14T17:02:41.303Z"
        ],
        [
         3060,
         "Monitor 17/HR",
         "hardware1",
         4,
         "orderable",
         299.0,
         250.0,
         "2024-12-13T17:31:26.892Z",
         "2024-12-14T17:02:41.303Z"
        ],
        [
         1797,
         "Inkjet C/8/HQ",
         "hardware2",
         3,
         "orderable",
         349.0,
         288.0,
         "2024-12-13T17:31:26.892Z",
         "2024-12-14T17:02:41.303Z"
        ],
        [
         2459,
         "LaserPro 1200/8/BW",
         "hardware2",
         5,
         "under development",
         699.0,
         568.0,
         "2024-12-13T17:31:26.892Z",
         "2024-12-14T17:02:41.303Z"
        ],
        [
         3127,
         "LaserPro 600/6/BW",
         "hardware2",
         4,
         "orderable",
         498.0,
         444.0,
         "2024-12-13T17:31:26.892Z",
         "2024-12-14T17:02:41.303Z"
        ],
        [
         1782,
         "Compact 400/DQ",
         "hardware2",
         4,
         "obsolete",
         125.0,
         108.0,
         "2024-12-13T17:31:26.892Z",
         "2024-12-14T17:02:41.303Z"
        ],
        [
         2430,
         "Compact 400/LQ",
         "hardware2",
         4,
         "orderable",
         175.0,
         143.0,
         "2024-12-13T17:31:26.892Z",
         "2024-12-14T17:02:41.303Z"
        ],
        [
         1792,
         "Industrial 600/DQ",
         "hardware2",
         4,
         "orderable",
         225.0,
         180.0,
         "2024-12-13T17:31:26.892Z",
         "2024-12-14T17:02:41.303Z"
        ],
        [
         1791,
         "Industrial 700/HD",
         "hardware2",
         5,
         "orderable",
         275.0,
         239.0,
         "2024-12-13T17:31:26.892Z",
         "2024-12-14T17:02:41.303Z"
        ],
        [
         2302,
         "Inkjet B/6",
         "hardware2",
         3,
         "orderable",
         150.0,
         121.0,
         "2024-12-13T17:31:26.892Z",
         "2024-12-14T17:02:41.303Z"
        ],
        [
         2453,
         "Inkjet C/4",
         "hardware2",
         3,
         "orderable",
         195.0,
         174.0,
         "2024-12-13T17:31:26.892Z",
         "2024-12-14T17:02:41.303Z"
        ],
        [
         2254,
         "HD 10GB /I",
         "hardware3",
         2,
         "obsolete",
         453.0,
         371.0,
         "2024-12-13T17:31:26.892Z",
         "2024-12-14T17:02:41.303Z"
        ],
        [
         3353,
         "HD 10GB /R",
         "hardware3",
         1,
         "obsolete",
         489.0,
         413.0,
         "2024-12-13T17:31:26.892Z",
         "2024-12-14T17:02:41.303Z"
        ],
        [
         3069,
         "HD 10GB /S",
         "hardware3",
         1,
         "obsolete",
         436.0,
         350.0,
         "2024-12-13T17:31:26.892Z",
         "2024-12-14T17:02:41.303Z"
        ],
        [
         2253,
         "HD 10GB @5400 /SE",
         "hardware3",
         2,
         "obsolete",
         399.0,
         322.0,
         "2024-12-13T17:31:26.892Z",
         "2024-12-14T17:02:41.303Z"
        ],
        [
         3354,
         "HD 12GB /I",
         "hardware3",
         2,
         "orderable",
         543.0,
         478.0,
         "2024-12-13T17:31:26.892Z",
         "2024-12-14T17:02:41.303Z"
        ],
        [
         3072,
         "HD 12GB /N",
         "hardware3",
         1,
         "orderable",
         567.0,
         507.0,
         "2024-12-13T17:31:26.892Z",
         "2024-12-14T17:02:41.303Z"
        ],
        [
         3334,
         "HD 12GB /R",
         "hardware3",
         2,
         "orderable",
         612.0,
         512.0,
         "2024-12-13T17:31:26.892Z",
         "2024-12-14T17:02:41.303Z"
        ],
        [
         3071,
         "HD 12GB /S",
         "hardware3",
         1,
         "orderable",
         633.0,
         553.0,
         "2024-12-13T17:31:26.892Z",
         "2024-12-14T17:02:41.303Z"
        ],
        [
         2255,
         "HD 12GB @7200 /SE",
         "hardware3",
         2,
         "orderable",
         775.0,
         628.0,
         "2024-12-13T17:31:26.892Z",
         "2024-12-14T17:02:41.303Z"
        ],
        [
         1743,
         "HD 18.2GB @10000 /E",
         "hardware3",
         3,
         "planned",
         800.0,
         661.0,
         "2024-12-13T17:31:26.892Z",
         "2024-12-14T17:02:41.303Z"
        ],
        [
         2382,
         "HD 18.2GB@10000 /I",
         "hardware3",
         3,
         "under development",
         850.0,
         731.0,
         "2024-12-13T17:31:26.892Z",
         "2024-12-14T17:02:41.303Z"
        ],
        [
         3399,
         "HD 18GB /SE",
         "hardware3",
         3,
         "under development",
         815.0,
         706.0,
         "2024-12-13T17:31:26.892Z",
         "2024-12-14T17:02:41.303Z"
        ],
        [
         3073,
         "HD 6GB /I",
         "hardware3",
         2,
         "obsolete",
         224.0,
         197.0,
         "2024-12-13T17:31:26.892Z",
         "2024-12-14T17:02:41.303Z"
        ],
        [
         1768,
         "HD 8.2GB @5400",
         "hardware3",
         2,
         "orderable",
         345.0,
         306.0,
         "2024-12-13T17:31:26.892Z",
         "2024-12-14T17:02:41.303Z"
        ],
        [
         2410,
         "HD 8.4GB @5400",
         "hardware3",
         2,
         "orderable",
         357.0,
         319.0,
         "2024-12-13T17:31:26.892Z",
         "2024-12-14T17:02:41.303Z"
        ],
        [
         2257,
         "HD 8GB /I",
         "hardware3",
         1,
         "orderable",
         399.0,
         338.0,
         "2024-12-13T17:31:26.892Z",
         "2024-12-14T17:02:41.303Z"
        ],
        [
         3400,
         "HD 8GB /SE",
         "hardware3",
         2,
         "orderable",
         389.0,
         337.0,
         "2024-12-13T17:31:26.892Z",
         "2024-12-14T17:02:41.303Z"
        ],
        [
         3355,
         "HD 8GB /SI",
         "hardware3",
         1,
         "orderable",
         null,
         null,
         "2024-12-13T17:31:26.892Z",
         "2024-12-14T17:02:41.303Z"
        ],
        [
         1772,
         "HD 9.1GB @10000",
         "hardware3",
         3,
         "orderable",
         456.0,
         393.0,
         "2024-12-13T17:31:26.892Z",
         "2024-12-14T17:02:41.303Z"
        ],
        [
         2414,
         "HD 9.1GB @10000 /I",
         "hardware3",
         3,
         "orderable",
         454.0,
         399.0,
         "2024-12-13T17:31:26.892Z",
         "2024-12-14T17:02:41.303Z"
        ],
        [
         2415,
         "HD 9.1GB @7200",
         "hardware3",
         3,
         "orderable",
         359.0,
         309.0,
         "2024-12-13T17:31:26.892Z",
         "2024-12-14T17:02:41.303Z"
        ],
        [
         2395,
         "32MB Cache /M",
         "hardware4",
         1,
         "orderable",
         123.0,
         109.0,
         "2024-12-13T17:31:26.892Z",
         "2024-12-14T17:02:41.303Z"
        ],
        [
         1755,
         "32MB Cache /NM",
         "hardware4",
         1,
         "orderable",
         121.0,
         99.0,
         "2024-12-13T17:31:26.892Z",
         "2024-12-14T17:02:41.303Z"
        ],
        [
         2406,
         "64MB Cache /M",
         "hardware4",
         1,
         "orderable",
         223.0,
         178.0,
         "2024-12-13T17:31:26.892Z",
         "2024-12-14T17:02:41.303Z"
        ],
        [
         2404,
         "64MB Cache /NM",
         "hardware4",
         1,
         "orderable",
         221.0,
         180.0,
         "2024-12-13T17:31:26.892Z",
         "2024-12-14T17:02:41.303Z"
        ],
        [
         2243,
         "Monitor 17/HR/F",
         "hardware1",
         4,
         "orderable",
         350.0,
         302.0,
         "2024-12-13T18:31:58.528Z",
         "2024-12-14T17:02:41.303Z"
        ],
        [
         3057,
         "Monitor 17/SD",
         "hardware1",
         4,
         "orderable",
         369.0,
         320.0,
         "2024-12-13T18:31:58.528Z",
         "2024-12-14T17:02:41.303Z"
        ],
        [
         3061,
         "Monitor 19/SD",
         "hardware1",
         5,
         "orderable",
         499.0,
         437.0,
         "2024-12-13T18:31:58.528Z",
         "2024-12-14T17:02:41.303Z"
        ],
        [
         2245,
         "Monitor 19/SD/M",
         "hardware1",
         5,
         "orderable",
         512.0,
         420.0,
         "2024-12-13T18:31:58.528Z",
         "2024-12-14T17:02:41.303Z"
        ],
        [
         3065,
         "Monitor 21/D",
         "hardware1",
         5,
         "orderable",
         999.0,
         875.0,
         "2024-12-13T18:31:58.528Z",
         "2024-12-14T17:02:41.303Z"
        ],
        [
         3331,
         "Monitor 21/HR",
         "hardware1",
         5,
         "orderable",
         879.0,
         785.0,
         "2024-12-13T18:31:58.528Z",
         "2024-12-14T17:02:41.303Z"
        ],
        [
         2252,
         "Monitor 21/HR/M",
         "hardware1",
         5,
         "obsolete",
         889.0,
         717.0,
         "2024-12-13T18:31:58.528Z",
         "2024-12-14T17:02:41.303Z"
        ],
        [
         3064,
         "Monitor 21/SD",
         "hardware1",
         5,
         "planned",
         1023.0,
         909.0,
         "2024-12-13T18:31:58.528Z",
         "2024-12-14T17:02:41.303Z"
        ],
        [
         3155,
         "Monitor Hinge - HD",
         "hardware1",
         4,
         "orderable",
         49.0,
         42.0,
         "2024-12-13T18:31:58.528Z",
         "2024-12-14T17:02:41.303Z"
        ],
        [
         3234,
         "Monitor Hinge - STD",
         "hardware1",
         3,
         "orderable",
         39.0,
         34.0,
         "2024-12-13T18:31:58.528Z",
         "2024-12-14T17:02:41.303Z"
        ],
        [
         3350,
         "Plasma Monitor 10/LE/VGA",
         "hardware1",
         3,
         "orderable",
         740.0,
         630.0,
         "2024-12-13T18:31:58.528Z",
         "2024-12-14T17:02:41.303Z"
        ],
        [
         2236,
         "Plasma Monitor 10/TFT/XGA",
         "hardware1",
         3,
         "under development",
         964.0,
         863.0,
         "2024-12-13T18:31:58.528Z",
         "2024-12-14T17:02:41.303Z"
        ],
        [
         3054,
         "Plasma Monitor 10/XGA",
         "hardware1",
         3,
         "orderable",
         600.0,
         519.0,
         "2024-12-13T18:31:58.528Z",
         "2024-12-14T17:02:41.303Z"
        ],
        [
         1726,
         "LCD Monitor 11/PM",
         "hardware1",
         3,
         "under development",
         259.0,
         208.0,
         "2024-12-13T18:31:58.528Z",
         "2024-12-14T17:02:41.303Z"
        ],
        [
         2359,
         "LCD Monitor 9/PM",
         "hardware1",
         3,
         "orderable",
         249.0,
         206.0,
         "2024-12-13T18:31:58.528Z",
         "2024-12-14T17:02:41.303Z"
        ],
        [
         3060,
         "Monitor 17/HR",
         "hardware1",
         4,
         "orderable",
         299.0,
         250.0,
         "2024-12-13T18:31:58.528Z",
         "2024-12-14T17:02:41.303Z"
        ],
        [
         1797,
         "Inkjet C/8/HQ",
         "hardware2",
         3,
         "orderable",
         349.0,
         288.0,
         "2024-12-13T18:31:58.528Z",
         "2024-12-14T17:02:41.303Z"
        ],
        [
         2459,
         "LaserPro 1200/8/BW",
         "hardware2",
         5,
         "under development",
         699.0,
         568.0,
         "2024-12-13T18:31:58.528Z",
         "2024-12-14T17:02:41.303Z"
        ],
        [
         3127,
         "LaserPro 600/6/BW",
         "hardware2",
         4,
         "orderable",
         498.0,
         444.0,
         "2024-12-13T18:31:58.528Z",
         "2024-12-14T17:02:41.303Z"
        ],
        [
         1782,
         "Compact 400/DQ",
         "hardware2",
         4,
         "obsolete",
         125.0,
         108.0,
         "2024-12-13T18:31:58.528Z",
         "2024-12-14T17:02:41.303Z"
        ],
        [
         2430,
         "Compact 400/LQ",
         "hardware2",
         4,
         "orderable",
         175.0,
         143.0,
         "2024-12-13T18:31:58.528Z",
         "2024-12-14T17:02:41.303Z"
        ],
        [
         1792,
         "Industrial 600/DQ",
         "hardware2",
         4,
         "orderable",
         225.0,
         180.0,
         "2024-12-13T18:31:58.528Z",
         "2024-12-14T17:02:41.303Z"
        ],
        [
         1791,
         "Industrial 700/HD",
         "hardware2",
         5,
         "orderable",
         275.0,
         239.0,
         "2024-12-13T18:31:58.528Z",
         "2024-12-14T17:02:41.303Z"
        ],
        [
         2302,
         "Inkjet B/6",
         "hardware2",
         3,
         "orderable",
         150.0,
         121.0,
         "2024-12-13T18:31:58.528Z",
         "2024-12-14T17:02:41.303Z"
        ],
        [
         2453,
         "Inkjet C/4",
         "hardware2",
         3,
         "orderable",
         195.0,
         174.0,
         "2024-12-13T18:31:58.528Z",
         "2024-12-14T17:02:41.303Z"
        ],
        [
         2254,
         "HD 10GB /I",
         "hardware3",
         2,
         "obsolete",
         453.0,
         371.0,
         "2024-12-13T18:31:58.528Z",
         "2024-12-14T17:02:41.303Z"
        ],
        [
         3353,
         "HD 10GB /R",
         "hardware3",
         1,
         "obsolete",
         489.0,
         413.0,
         "2024-12-13T18:31:58.528Z",
         "2024-12-14T17:02:41.303Z"
        ],
        [
         3069,
         "HD 10GB /S",
         "hardware3",
         1,
         "obsolete",
         436.0,
         350.0,
         "2024-12-13T18:31:58.528Z",
         "2024-12-14T17:02:41.303Z"
        ],
        [
         2253,
         "HD 10GB @5400 /SE",
         "hardware3",
         2,
         "obsolete",
         399.0,
         322.0,
         "2024-12-13T18:31:58.528Z",
         "2024-12-14T17:02:41.303Z"
        ],
        [
         3354,
         "HD 12GB /I",
         "hardware3",
         2,
         "orderable",
         543.0,
         478.0,
         "2024-12-13T18:31:58.528Z",
         "2024-12-14T17:02:41.303Z"
        ],
        [
         3072,
         "HD 12GB /N",
         "hardware3",
         1,
         "orderable",
         567.0,
         507.0,
         "2024-12-13T18:31:58.528Z",
         "2024-12-14T17:02:41.303Z"
        ],
        [
         3334,
         "HD 12GB /R",
         "hardware3",
         2,
         "orderable",
         612.0,
         512.0,
         "2024-12-13T18:31:58.528Z",
         "2024-12-14T17:02:41.303Z"
        ],
        [
         3071,
         "HD 12GB /S",
         "hardware3",
         1,
         "orderable",
         633.0,
         553.0,
         "2024-12-13T18:31:58.528Z",
         "2024-12-14T17:02:41.303Z"
        ],
        [
         2255,
         "HD 12GB @7200 /SE",
         "hardware3",
         2,
         "orderable",
         775.0,
         628.0,
         "2024-12-13T18:31:58.528Z",
         "2024-12-14T17:02:41.303Z"
        ],
        [
         1743,
         "HD 18.2GB @10000 /E",
         "hardware3",
         3,
         "planned",
         800.0,
         661.0,
         "2024-12-13T18:31:58.528Z",
         "2024-12-14T17:02:41.303Z"
        ],
        [
         2382,
         "HD 18.2GB@10000 /I",
         "hardware3",
         3,
         "under development",
         850.0,
         731.0,
         "2024-12-13T18:31:58.528Z",
         "2024-12-14T17:02:41.303Z"
        ],
        [
         3399,
         "HD 18GB /SE",
         "hardware3",
         3,
         "under development",
         815.0,
         706.0,
         "2024-12-13T18:31:58.528Z",
         "2024-12-14T17:02:41.303Z"
        ],
        [
         3073,
         "HD 6GB /I",
         "hardware3",
         2,
         "obsolete",
         224.0,
         197.0,
         "2024-12-13T18:31:58.528Z",
         "2024-12-14T17:02:41.303Z"
        ],
        [
         1768,
         "HD 8.2GB @5400",
         "hardware3",
         2,
         "orderable",
         345.0,
         306.0,
         "2024-12-13T18:31:58.528Z",
         "2024-12-14T17:02:41.303Z"
        ],
        [
         2410,
         "HD 8.4GB @5400",
         "hardware3",
         2,
         "orderable",
         357.0,
         319.0,
         "2024-12-13T18:31:58.528Z",
         "2024-12-14T17:02:41.303Z"
        ],
        [
         2257,
         "HD 8GB /I",
         "hardware3",
         1,
         "orderable",
         399.0,
         338.0,
         "2024-12-13T18:31:58.528Z",
         "2024-12-14T17:02:41.303Z"
        ],
        [
         3400,
         "HD 8GB /SE",
         "hardware3",
         2,
         "orderable",
         389.0,
         337.0,
         "2024-12-13T18:31:58.528Z",
         "2024-12-14T17:02:41.303Z"
        ],
        [
         3355,
         "HD 8GB /SI",
         "hardware3",
         1,
         "orderable",
         null,
         null,
         "2024-12-13T18:31:58.528Z",
         "2024-12-14T17:02:41.303Z"
        ],
        [
         1772,
         "HD 9.1GB @10000",
         "hardware3",
         3,
         "orderable",
         456.0,
         393.0,
         "2024-12-13T18:31:58.528Z",
         "2024-12-14T17:02:41.303Z"
        ],
        [
         2414,
         "HD 9.1GB @10000 /I",
         "hardware3",
         3,
         "orderable",
         454.0,
         399.0,
         "2024-12-13T18:31:58.528Z",
         "2024-12-14T17:02:41.303Z"
        ],
        [
         2415,
         "HD 9.1GB @7200",
         "hardware3",
         3,
         "orderable",
         359.0,
         309.0,
         "2024-12-13T18:31:58.528Z",
         "2024-12-14T17:02:41.303Z"
        ],
        [
         2395,
         "32MB Cache /M",
         "hardware4",
         1,
         "orderable",
         123.0,
         109.0,
         "2024-12-13T18:31:58.528Z",
         "2024-12-14T17:02:41.303Z"
        ],
        [
         1755,
         "32MB Cache /NM",
         "hardware4",
         1,
         "orderable",
         121.0,
         99.0,
         "2024-12-13T18:31:58.528Z",
         "2024-12-14T17:02:41.303Z"
        ],
        [
         2406,
         "64MB Cache /M",
         "hardware4",
         1,
         "orderable",
         223.0,
         178.0,
         "2024-12-13T18:31:58.528Z",
         "2024-12-14T17:02:41.303Z"
        ],
        [
         2404,
         "64MB Cache /NM",
         "hardware4",
         1,
         "orderable",
         221.0,
         180.0,
         "2024-12-13T18:31:58.528Z",
         "2024-12-14T17:02:41.303Z"
        ],
        [
         2243,
         "Monitor 17/HR/F",
         "hardware4",
         4,
         "orderable",
         260.0,
         302.0,
         "2024-12-14T16:59:25.307Z",
         "2024-12-14T17:02:41.303Z"
        ],
        [
         3057,
         "Monitor 17/SD",
         "hardware1",
         4,
         "orderable",
         164.0,
         320.0,
         "2024-12-14T16:59:25.307Z",
         "2024-12-14T17:02:41.303Z"
        ],
        [
         3061,
         "Monitor 19/SD",
         "hardware2",
         5,
         "obsolete",
         196.0,
         437.0,
         "2024-12-14T16:59:25.307Z",
         "2024-12-14T17:02:41.303Z"
        ],
        [
         2245,
         "Monitor 19/SD/M",
         "hardware1",
         5,
         "obsolete",
         411.0,
         420.0,
         "2024-12-14T16:59:25.307Z",
         "2024-12-14T17:02:41.303Z"
        ],
        [
         3065,
         "Monitor 21/D",
         "hardware3",
         5,
         "obsolete",
         489.0,
         875.0,
         "2024-12-14T16:59:25.307Z",
         "2024-12-14T17:02:41.303Z"
        ],
        [
         3331,
         "Monitor 21/HR",
         "hardware2",
         5,
         "orderable",
         367.0,
         785.0,
         "2024-12-14T16:59:25.307Z",
         "2024-12-14T17:02:41.303Z"
        ],
        [
         2252,
         "Monitor 21/HR/M",
         "hardware3",
         5,
         "orderable",
         235.0,
         717.0,
         "2024-12-14T16:59:25.307Z",
         "2024-12-14T17:02:41.303Z"
        ],
        [
         3064,
         "Monitor 21/SD",
         "hardware2",
         5,
         "obsolete",
         372.0,
         909.0,
         "2024-12-14T16:59:25.307Z",
         "2024-12-14T17:02:41.303Z"
        ],
        [
         3155,
         "Monitor Hinge - HD",
         "hardware1",
         4,
         "obsolete",
         435.0,
         42.0,
         "2024-12-14T16:59:25.307Z",
         "2024-12-14T17:02:41.303Z"
        ],
        [
         3234,
         "Monitor Hinge - STD",
         "hardware4",
         3,
         "obsolete",
         151.0,
         34.0,
         "2024-12-14T16:59:25.307Z",
         "2024-12-14T17:02:41.303Z"
        ]
       ],
       "datasetInfos": [],
       "dbfsResultPath": null,
       "isJsonSchema": true,
       "metadata": {},
       "overflow": false,
       "plotOptions": {
        "customPlotOptions": {},
        "displayType": "table",
        "pivotAggregation": null,
        "pivotColumns": null,
        "xColumns": null,
        "yColumns": null
       },
       "removedWidgets": [],
       "schema": [
        {
         "metadata": "{}",
         "name": "product_id",
         "type": "\"integer\""
        },
        {
         "metadata": "{}",
         "name": "product_name",
         "type": "\"string\""
        },
        {
         "metadata": "{}",
         "name": "category_name",
         "type": "\"string\""
        },
        {
         "metadata": "{}",
         "name": "weight_class",
         "type": "\"integer\""
        },
        {
         "metadata": "{}",
         "name": "product_status",
         "type": "\"string\""
        },
        {
         "metadata": "{}",
         "name": "list_price",
         "type": "\"double\""
        },
        {
         "metadata": "{}",
         "name": "min_price",
         "type": "\"double\""
        },
        {
         "metadata": "{}",
         "name": "consume_timestamp",
         "type": "\"timestamp\""
        },
        {
         "metadata": "{}",
         "name": "load_tsp",
         "type": "\"timestamp\""
        }
       ],
       "type": "table"
      }
     },
     "output_type": "display_data"
    }
   ],
   "source": [
    "products.createOrReplaceTempView('products')\n",
    "spark.sql('select * from products').display()"
   ]
  },
  {
   "cell_type": "code",
   "execution_count": 0,
   "metadata": {
    "application/vnd.databricks.v1+cell": {
     "cellMetadata": {
      "byteLimit": 2048000,
      "implicitDf": true,
      "rowLimit": 10000
     },
     "inputWidgets": {},
     "nuid": "ab26a0ba-3344-4295-b478-fef2af1b0db4",
     "showTitle": false,
     "tableResultSettingsMap": {},
     "title": ""
    }
   },
   "outputs": [
    {
     "output_type": "display_data",
     "data": {
      "text/html": [
       "<style scoped>\n",
       "  .table-result-container {\n",
       "    max-height: 300px;\n",
       "    overflow: auto;\n",
       "  }\n",
       "  table, th, td {\n",
       "    border: 1px solid black;\n",
       "    border-collapse: collapse;\n",
       "  }\n",
       "  th, td {\n",
       "    padding: 5px;\n",
       "  }\n",
       "  th {\n",
       "    text-align: left;\n",
       "  }\n",
       "</style><div class='table-result-container'><table class='table-result'><thead style='background-color: white'><tr><th>num_affected_rows</th><th>num_inserted_rows</th></tr></thead><tbody></tbody></table></div>"
      ]
     },
     "metadata": {
      "application/vnd.databricks.v1+output": {
       "addedWidgets": {},
       "aggData": [],
       "aggError": "",
       "aggOverflow": false,
       "aggSchema": [],
       "aggSeriesLimitReached": false,
       "aggType": "",
       "arguments": {},
       "columnCustomDisplayInfos": {},
       "data": [],
       "datasetInfos": [
        {
         "name": "_sqldf",
         "schema": {
          "fields": [
           {
            "metadata": {},
            "name": "num_affected_rows",
            "nullable": true,
            "type": "long"
           },
           {
            "metadata": {},
            "name": "num_inserted_rows",
            "nullable": true,
            "type": "long"
           }
          ],
          "type": "struct"
         },
         "tableIdentifier": null,
         "typeStr": "pyspark.sql.connect.dataframe.DataFrame"
        }
       ],
       "dbfsResultPath": null,
       "isJsonSchema": true,
       "metadata": {
        "createTempViewForImplicitDf": true,
        "dataframeName": "_sqldf",
        "executionCount": 8
       },
       "overflow": false,
       "plotOptions": {
        "customPlotOptions": {},
        "displayType": "table",
        "pivotAggregation": null,
        "pivotColumns": null,
        "xColumns": null,
        "yColumns": null
       },
       "removedWidgets": [],
       "schema": [
        {
         "metadata": "{}",
         "name": "num_affected_rows",
         "type": "\"long\""
        },
        {
         "metadata": "{}",
         "name": "num_inserted_rows",
         "type": "\"long\""
        }
       ],
       "type": "table"
      }
     },
     "output_type": "display_data"
    }
   ],
   "source": [
    "spark.sql(\"\"\"\n",
    "CREATE OR REPLACE TABLE stoyan.dim_products AS\n",
    "-- Step 1: Rank the product data by their consumption timestamps to determine the most recent record\n",
    "\n",
    "WITH ranked_products AS (\n",
    "    SELECT\n",
    "        product_id AS prod_nk,                  -- The natural key for the product (product_id)\n",
    "        product_name,                           -- Name of the product\n",
    "        category_name,                          -- Category to which the product belongs\n",
    "        weight_class,                           -- Weight class of the product\n",
    "        product_status,                         -- Current status of the product\n",
    "        list_price,                             -- List price of the product\n",
    "        min_price,                              -- Minimum price of the product\n",
    "        consume_timestamp,                      -- Timestamp for when the product data was ingested or updated\n",
    "        -- Create a row number for each product by partitioning by the product_id\n",
    "        ROW_NUMBER() OVER (PARTITION BY product_id ORDER BY consume_timestamp DESC) AS row_num,\n",
    "        -- Use the LEAD window function to get the next record values for comparison in SCD2\n",
    "        LEAD(category_name) OVER (PARTITION BY product_id ORDER BY consume_timestamp) AS next_category_name,\n",
    "        LEAD(product_status) OVER (PARTITION BY product_id ORDER BY consume_timestamp) AS next_product_status,\n",
    "        LEAD(list_price) OVER (PARTITION BY product_id ORDER BY consume_timestamp) AS next_list_price,\n",
    "        LEAD(consume_timestamp) OVER (PARTITION BY product_id ORDER BY consume_timestamp) AS next_consume_timestamp\n",
    "    FROM stoyan.silver__products                 -- The source table containing the raw product data\n",
    "),\n",
    "-- Step 2: Create the effective products table by calculating effective dates and detecting changes\n",
    "effective_products AS (\n",
    "    SELECT\n",
    "        prod_nk,                                -- Natural key for the product\n",
    "        product_name,                           -- Product name\n",
    "        category_name,                          -- Category of the product\n",
    "        weight_class,                           -- Weight class of the product\n",
    "        product_status,                         -- Current product status\n",
    "        list_price,                             -- List price\n",
    "        min_price,                              -- Minimum price\n",
    "        consume_timestamp AS effective_from,    -- The timestamp the row becomes effective\n",
    "        COALESCE(next_consume_timestamp, '9999-12-31') AS effective_to,-- The end date for the validity of this row, defaulting to '9999-12-31' (active record)\n",
    "        consume_timestamp AS insert_timestamp,  -- Timestamp for when the record was inserted\n",
    "        consume_timestamp AS update_timestamp,  -- Timestamp for when the record was last updated\n",
    "        row_num,                                -- Row number for ordering\n",
    "        \n",
    "        -- Step 3: Check for changes in the product data to determine if the row is changed (SCD Type 2 logic)\n",
    "        CASE\n",
    "            WHEN category_name != next_category_name OR product_status != next_product_status OR list_price != next_list_price THEN 1              -- If any of these columns changed, mark this as a change\n",
    "            ELSE 0                              -- No change\n",
    "        END AS is_changed\n",
    "    FROM ranked_products                        -- Use the ranked data with LEAD function\n",
    ")\n",
    "SELECT\n",
    "    MD5(CAST(prod_nk AS STRING)) AS prod_sk,    -- Surrogate key created from the product's natural key\n",
    "    prod_nk,                                    -- The natural key (product_id)\n",
    "    product_name,                               -- Product name\n",
    "    category_name,                              -- Category of the product\n",
    "    weight_class,                               -- Weight class of the product\n",
    "    product_status,                             -- Status of the produc\n",
    "    list_price,                                 -- List price\n",
    "    min_price,                                  -- Minimum price\n",
    "    effective_from,                             -- Timestamp when this record is effective\n",
    "    effective_to,                               -- Timestamp when this record is no longer effective (9999-12-31 for active records)\n",
    "    insert_timestamp,                           -- Timestamp of when this record was inserted\n",
    "    update_timestamp,                           -- Timestamp of the last update for this record\n",
    "    row_num                                     -- The row number (latest record for each product)\n",
    "FROM effective_products\n",
    "-- Step 5: Filter the data to include only the rows that have changed or the first record for the product\n",
    "WHERE is_changed = 1 OR row_num = 1\n",
    "\"\"\")"
   ]
  }
 ],
 "metadata": {
  "application/vnd.databricks.v1+notebook": {
   "computePreferences": null,
   "dashboards": [],
   "environmentMetadata": {
    "base_environment": "",
    "client": "1"
   },
   "language": "python",
   "notebookMetadata": {
    "mostRecentlyExecutedCommandWithImplicitDF": {
     "commandId": 2811882429821884,
     "dataframes": [
      "_sqldf"
     ]
    },
    "pythonIndentUnit": 4
   },
   "notebookName": "dim_products",
   "widgets": {}
  },
  "language_info": {
   "name": "python"
  }
 },
 "nbformat": 4,
 "nbformat_minor": 0
}