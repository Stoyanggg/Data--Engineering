{
 "cells": [
  {
   "cell_type": "markdown",
   "metadata": {
    "application/vnd.databricks.v1+cell": {
     "cellMetadata": {},
     "inputWidgets": {},
     "nuid": "e8eb50fa-2dbd-4d2c-8846-7e166134f1f4",
     "showTitle": false,
     "tableResultSettingsMap": {},
     "title": ""
    }
   },
   "source": [
    "Create a report that shows summarized number of sales and revenue for each state "
   ]
  },
  {
   "cell_type": "code",
   "execution_count": 0,
   "metadata": {
    "application/vnd.databricks.v1+cell": {
     "cellMetadata": {
      "byteLimit": 2048000,
      "rowLimit": 10000
     },
     "inputWidgets": {},
     "nuid": "9101b002-55cf-43fc-acbc-c5738953d9a2",
     "showTitle": false,
     "tableResultSettingsMap": {},
     "title": ""
    }
   },
   "outputs": [
    {
     "output_type": "display_data",
     "data": {
      "text/html": [
       "<style scoped>\n",
       "  .table-result-container {\n",
       "    max-height: 300px;\n",
       "    overflow: auto;\n",
       "  }\n",
       "  table, th, td {\n",
       "    border: 1px solid black;\n",
       "    border-collapse: collapse;\n",
       "  }\n",
       "  th, td {\n",
       "    padding: 5px;\n",
       "  }\n",
       "  th {\n",
       "    text-align: left;\n",
       "  }\n",
       "</style><div class='table-result-container'><table class='table-result'><thead style='background-color: white'><tr><th>states</th><th>total_amount_of_sales</th><th>total_revenue</th></tr></thead><tbody><tr><td>WI</td><td>16</td><td>110529.4</td></tr><tr><td>Indiana</td><td>3</td><td>89409.2</td></tr><tr><td>null</td><td>28</td><td>27530.7</td></tr><tr><td>IN</td><td>4</td><td>14080.0</td></tr><tr><td>Colorado</td><td>3</td><td>13443.2</td></tr><tr><td>Kansas</td><td>3</td><td>6237.0</td></tr><tr><td>IA</td><td>3</td><td>5252.0</td></tr><tr><td>South Carolina</td><td>3</td><td>5252.0</td></tr><tr><td>Michigan</td><td>3</td><td>1440.0</td></tr><tr><td>North Dakota</td><td>1</td><td>null</td></tr><tr><td>Virginia</td><td>3</td><td>null</td></tr></tbody></table></div>"
      ]
     },
     "metadata": {
      "application/vnd.databricks.v1+output": {
       "addedWidgets": {},
       "aggData": [],
       "aggError": "",
       "aggOverflow": false,
       "aggSchema": [],
       "aggSeriesLimitReached": false,
       "aggType": "",
       "arguments": {},
       "columnCustomDisplayInfos": {},
       "data": [
        [
         "WI",
         16,
         110529.4
        ],
        [
         "Indiana",
         3,
         89409.2
        ],
        [
         null,
         28,
         27530.7
        ],
        [
         "IN",
         4,
         14080.0
        ],
        [
         "Colorado",
         3,
         13443.2
        ],
        [
         "Kansas",
         3,
         6237.0
        ],
        [
         "IA",
         3,
         5252.0
        ],
        [
         "South Carolina",
         3,
         5252.0
        ],
        [
         "Michigan",
         3,
         1440.0
        ],
        [
         "North Dakota",
         1,
         null
        ],
        [
         "Virginia",
         3,
         null
        ]
       ],
       "datasetInfos": [],
       "dbfsResultPath": null,
       "isJsonSchema": true,
       "metadata": {},
       "overflow": false,
       "plotOptions": {
        "customPlotOptions": {},
        "displayType": "table",
        "pivotAggregation": null,
        "pivotColumns": null,
        "xColumns": null,
        "yColumns": null
       },
       "removedWidgets": [],
       "schema": [
        {
         "metadata": "{}",
         "name": "states",
         "type": "\"string\""
        },
        {
         "metadata": "{}",
         "name": "total_amount_of_sales",
         "type": "\"long\""
        },
        {
         "metadata": "{}",
         "name": "total_revenue",
         "type": "\"double\""
        }
       ],
       "type": "table"
      }
     },
     "output_type": "display_data"
    }
   ],
   "source": [
    "spark.sql(\"\"\"      \n",
    "SELECT\n",
    "    -- Column 1: Select the state or province from the customer dimension table\n",
    "    c.cust_address_state_province AS states,\n",
    "    -- Column 2: Count of order IDs (Total Amount of Sales)\n",
    "    COUNT(f.order_id) AS total_amount_of_sales,\n",
    "    -- Column 3: Sum of revenue (Unit Price * Quantity) rounded to two decimal places (Total Revenue)\n",
    "    ROUND(SUM(f.unit_price * f.quantity),2) AS total_revenue\n",
    "FROM\n",
    "-- Fact table: stoyan.fact_orders (contains order data)\n",
    "    stoyan.fact_orders f\n",
    "-- Join the fact table with the customer dimension table\n",
    "LEFT JOIN    \n",
    "    -- Dimension table: stoyan.dim_customers (contains customer data)\n",
    "    stoyan.dim_customers c \n",
    "-- Join condition: match the natural key for customer (cust_nk)\n",
    "ON \n",
    "    f.cust_nk = c.cust_nk\n",
    "-- Group the result by the customer state/province (cust_address_state_province)\n",
    "GROUP BY\n",
    "    c.cust_address_state_province\n",
    "-- Order the results by total revenue in descending order\n",
    "ORDER BY\n",
    "    total_revenue DESC          \n",
    "\n",
    "\"\"\").display()"
   ]
  }
 ],
 "metadata": {
  "application/vnd.databricks.v1+notebook": {
   "computePreferences": null,
   "dashboards": [],
   "environmentMetadata": {
    "base_environment": "",
    "client": "1"
   },
   "language": "python",
   "notebookMetadata": {
    "pythonIndentUnit": 4
   },
   "notebookName": "report 1",
   "widgets": {}
  },
  "language_info": {
   "name": "python"
  }
 },
 "nbformat": 4,
 "nbformat_minor": 0
}