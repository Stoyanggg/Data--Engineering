{
 "cells": [
  {
   "cell_type": "markdown",
   "metadata": {
    "application/vnd.databricks.v1+cell": {
     "cellMetadata": {},
     "inputWidgets": {},
     "nuid": "4c7898a7-0c82-4e58-bde4-5a76d460706e",
     "showTitle": false,
     "tableResultSettingsMap": {},
     "title": ""
    }
   },
   "source": [
    "\n",
    "Create a report that shows top 3 customers for each state based on the  \n",
    "spent amount and their most expensive item bought \n"
   ]
  },
  {
   "cell_type": "code",
   "execution_count": 0,
   "metadata": {
    "application/vnd.databricks.v1+cell": {
     "cellMetadata": {
      "byteLimit": 2048000,
      "implicitDf": true,
      "rowLimit": 10000
     },
     "inputWidgets": {},
     "nuid": "6281e618-0f26-4a74-b17f-a12c6f2fd4cf",
     "showTitle": false,
     "tableResultSettingsMap": {},
     "title": ""
    }
   },
   "outputs": [
    {
     "output_type": "display_data",
     "data": {
      "text/html": [
       "<style scoped>\n",
       "  .table-result-container {\n",
       "    max-height: 300px;\n",
       "    overflow: auto;\n",
       "  }\n",
       "  table, th, td {\n",
       "    border: 1px solid black;\n",
       "    border-collapse: collapse;\n",
       "  }\n",
       "  th, td {\n",
       "    padding: 5px;\n",
       "  }\n",
       "  th {\n",
       "    text-align: left;\n",
       "  }\n",
       "</style><div class='table-result-container'><table class='table-result'><thead style='background-color: white'><tr><th>state</th><th>cust_nk</th><th>cust_first_name</th><th>cust_last_name</th><th>total_spent</th><th>most_exp_item</th></tr></thead><tbody><tr><td>IA</td><td>144</td><td>Sivaji</td><td>Landis</td><td>5252.0</td><td>74.0</td></tr><tr><td>IN</td><td>102</td><td>Harrison</td><td>Pacino</td><td>14080.0</td><td>880.0</td></tr><tr><td>IN</td><td>101</td><td>Constantin</td><td>Welles</td><td>null</td><td>null</td></tr><tr><td>WI</td><td>149</td><td>Markus</td><td>Rampling</td><td>89409.2</td><td>949.3</td></tr><tr><td>WI</td><td>146</td><td>Elia</td><td>Fawcett</td><td>13443.2</td><td>488.4</td></tr><tr><td>WI</td><td>145</td><td>Mammutti</td><td>Pacino</td><td>6237.0</td><td>115.5</td></tr></tbody></table></div>"
      ]
     },
     "metadata": {
      "application/vnd.databricks.v1+output": {
       "addedWidgets": {},
       "aggData": [],
       "aggError": "",
       "aggOverflow": false,
       "aggSchema": [],
       "aggSeriesLimitReached": false,
       "aggType": "",
       "arguments": {},
       "columnCustomDisplayInfos": {},
       "data": [
        [
         "IA",
         144,
         "Sivaji",
         "Landis",
         5252.0,
         74.0
        ],
        [
         "IN",
         102,
         "Harrison",
         "Pacino",
         14080.0,
         880.0
        ],
        [
         "IN",
         101,
         "Constantin",
         "Welles",
         null,
         null
        ],
        [
         "WI",
         149,
         "Markus",
         "Rampling",
         89409.2,
         949.3
        ],
        [
         "WI",
         146,
         "Elia",
         "Fawcett",
         13443.2,
         488.4
        ],
        [
         "WI",
         145,
         "Mammutti",
         "Pacino",
         6237.0,
         115.5
        ]
       ],
       "datasetInfos": [],
       "dbfsResultPath": null,
       "isJsonSchema": true,
       "metadata": {},
       "overflow": false,
       "plotOptions": {
        "customPlotOptions": {},
        "displayType": "table",
        "pivotAggregation": null,
        "pivotColumns": null,
        "xColumns": null,
        "yColumns": null
       },
       "removedWidgets": [],
       "schema": [
        {
         "metadata": "{}",
         "name": "state",
         "type": "\"string\""
        },
        {
         "metadata": "{}",
         "name": "cust_nk",
         "type": "\"integer\""
        },
        {
         "metadata": "{}",
         "name": "cust_first_name",
         "type": "\"string\""
        },
        {
         "metadata": "{}",
         "name": "cust_last_name",
         "type": "\"string\""
        },
        {
         "metadata": "{}",
         "name": "total_spent",
         "type": "\"double\""
        },
        {
         "metadata": "{}",
         "name": "most_exp_item",
         "type": "\"double\""
        }
       ],
       "type": "table"
      }
     },
     "output_type": "display_data"
    }
   ],
   "source": [
    "spark.sql(\"\"\"\n",
    "WITH cust_spend AS (\n",
    "    SELECT\n",
    "        c.cust_address_state_province AS state,                 -- Customer's state or province\n",
    "        f.cust_nk,                                              -- Customer's natural key (unique identifier)\n",
    "        c.cust_first_name,                                      -- Customer's first name\n",
    "        c.cust_last_name,                                       -- Customer's last name\n",
    "        ROUND(SUM(f.unit_price * f.quantity),2) AS total_spent, -- Total spending calculation\n",
    "        MAX(f.unit_price) AS most_exp_item                      -- Most expensive item purchased\n",
    "    FROM\n",
    "        stoyan.fact_orders f                                    -- Fact table containing order details\n",
    "    JOIN\n",
    "        stoyan.dim_customers c ON f.cust_sk = c.cust_sk AND row_num = 1 -- Joining with the latest customer information\n",
    "    GROUP BY 1,2,3,4                                            -- Grouping by state and customer\n",
    "    ORDER BY total_spent DESC                                   -- Ordering by total spending (descending order)\n",
    "),\n",
    "customers_rank AS (\n",
    "    SELECT\n",
    "        state,\n",
    "        cust_nk,\n",
    "        cust_first_name,\n",
    "        cust_last_name,\n",
    "        total_spent,\n",
    "        most_exp_item,\n",
    "        ROW_NUMBER() OVER (PARTITION BY state ORDER BY total_spent DESC) AS rank -- Ranking customers within each state by total_spent\n",
    "    FROM\n",
    "        cust_spend                                              -- Data from the cust_spend CTE\n",
    ")\n",
    "SELECT\n",
    "    state,\n",
    "    cust_nk,\n",
    "    cust_first_name,\n",
    "    cust_last_name,\n",
    "    total_spent,\n",
    "    most_exp_item\n",
    "FROM\n",
    "    customers_rank                                              -- Data from the customers_rank CTE\n",
    "WHERE\n",
    "    rank <= 3                                                   -- Only select the top 3 customers from each state\n",
    "ORDER BY\n",
    "    state,                                                      -- Order by state\n",
    "    rank,                                                       -- Order by rank within the state\n",
    "    most_exp_item                                               -- Order by most expensive item within the same rank\n",
    "    \n",
    "\"\"\").display()"
   ]
  }
 ],
 "metadata": {
  "application/vnd.databricks.v1+notebook": {
   "computePreferences": null,
   "dashboards": [],
   "environmentMetadata": {
    "base_environment": "",
    "client": "1"
   },
   "language": "python",
   "notebookMetadata": {
    "mostRecentlyExecutedCommandWithImplicitDF": {
     "commandId": -1,
     "dataframes": [
      "_sqldf"
     ]
    },
    "pythonIndentUnit": 4
   },
   "notebookName": "report 2",
   "widgets": {}
  },
  "language_info": {
   "name": "python"
  }
 },
 "nbformat": 4,
 "nbformat_minor": 0
}