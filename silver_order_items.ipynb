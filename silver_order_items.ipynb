{
 "cells": [
  {
   "cell_type": "code",
   "execution_count": 0,
   "metadata": {
    "application/vnd.databricks.v1+cell": {
     "cellMetadata": {
      "byteLimit": 2048000,
      "rowLimit": 10000
     },
     "inputWidgets": {},
     "nuid": "387380b5-83b7-441c-bd37-904feb782a8a",
     "showTitle": false,
     "tableResultSettingsMap": {},
     "title": ""
    }
   },
   "outputs": [],
   "source": [
    "from pyspark.sql.functions import *"
   ]
  },
  {
   "cell_type": "code",
   "execution_count": 0,
   "metadata": {
    "application/vnd.databricks.v1+cell": {
     "cellMetadata": {
      "byteLimit": 2048000,
      "rowLimit": 10000
     },
     "inputWidgets": {},
     "nuid": "501a5295-0344-4df3-afd7-833e1c8a35af",
     "showTitle": false,
     "tableResultSettingsMap": {},
     "title": ""
    }
   },
   "outputs": [
    {
     "output_type": "display_data",
     "data": {
      "text/html": [
       "<style scoped>\n",
       "  .table-result-container {\n",
       "    max-height: 300px;\n",
       "    overflow: auto;\n",
       "  }\n",
       "  table, th, td {\n",
       "    border: 1px solid black;\n",
       "    border-collapse: collapse;\n",
       "  }\n",
       "  th, td {\n",
       "    padding: 5px;\n",
       "  }\n",
       "  th {\n",
       "    text-align: left;\n",
       "  }\n",
       "</style><div class='table-result-container'><table class='table-result'><thead style='background-color: white'><tr><th>ORDER_ID</th><th>LINE_ITEM_ID</th><th>PRODUCT_ID</th><th>UNIT_PRICE</th><th>QUANTITY</th><th>batch_id</th><th>ingest_datetime</th></tr></thead><tbody><tr><td>2392</td><td>4</td><td>3124</td><td>77.0</td><td>63</td><td>0</td><td>2024-12-13T17:48:09.096Z</td></tr><tr><td>2393</td><td>6</td><td>3082</td><td>78.0</td><td>10</td><td>0</td><td>2024-12-13T17:48:09.096Z</td></tr><tr><td>2394</td><td>6</td><td>3134</td><td>18.0</td><td>45</td><td>0</td><td>2024-12-13T17:48:09.096Z</td></tr><tr><td>2399</td><td>6</td><td>2311</td><td>86.9</td><td>20</td><td>0</td><td>2024-12-13T17:48:09.096Z</td></tr><tr><td>2400</td><td>4</td><td>2999</td><td>880.0</td><td>16</td><td>0</td><td>2024-12-13T17:48:09.096Z</td></tr><tr><td>2411</td><td>6</td><td>3106</td><td>45.0</td><td>11</td><td>0</td><td>2024-12-13T17:48:09.096Z</td></tr><tr><td>2412</td><td>6</td><td>3139</td><td>20.0</td><td>79</td><td>0</td><td>2024-12-13T17:48:09.096Z</td></tr><tr><td>2418</td><td>4</td><td>3110</td><td>45.0</td><td>20</td><td>0</td><td>2024-12-13T17:48:09.096Z</td></tr><tr><td>2419</td><td>4</td><td>3129</td><td>43.0</td><td>57</td><td>0</td><td>2024-12-13T17:48:09.096Z</td></tr><tr><td>2421</td><td>6</td><td>3129</td><td>43.0</td><td>172</td><td>0</td><td>2024-12-13T17:48:09.096Z</td></tr><tr><td>2422</td><td>5</td><td>3133</td><td>46.0</td><td>11</td><td>0</td><td>2024-12-13T17:48:09.096Z</td></tr><tr><td>2423</td><td>3</td><td>3245</td><td>214.5</td><td>13</td><td>0</td><td>2024-12-13T17:48:09.096Z</td></tr><tr><td>2427</td><td>4</td><td>2464</td><td>66.0</td><td>6</td><td>0</td><td>2024-12-13T17:48:09.096Z</td></tr><tr><td>2428</td><td>6</td><td>3127</td><td>498.0</td><td>12</td><td>0</td><td>2024-12-13T17:48:09.096Z</td></tr><tr><td>2429</td><td>6</td><td>3133</td><td>46.0</td><td>52</td><td>0</td><td>2024-12-13T17:48:09.096Z</td></tr><tr><td>2431</td><td>6</td><td>3129</td><td>44.0</td><td>11</td><td>0</td><td>2024-12-13T17:48:09.096Z</td></tr><tr><td>2434</td><td>2</td><td>2236</td><td>949.3</td><td>84</td><td>0</td><td>2024-12-13T17:48:09.096Z</td></tr><tr><td>2435</td><td>4</td><td>2316</td><td>21.0</td><td>10</td><td>0</td><td>2024-12-13T17:48:09.096Z</td></tr><tr><td>2440</td><td>4</td><td>2311</td><td>86.9</td><td>7</td><td>0</td><td>2024-12-13T17:48:09.096Z</td></tr><tr><td>2442</td><td>6</td><td>2439</td><td>115.5</td><td>30</td><td>0</td><td>2024-12-13T17:48:09.096Z</td></tr><tr><td>2444</td><td>6</td><td>3143</td><td>15.0</td><td>97</td><td>0</td><td>2024-12-13T17:48:09.096Z</td></tr><tr><td>2445</td><td>3</td><td>2293</td><td>97.0</td><td>11</td><td>0</td><td>2024-12-13T17:48:09.096Z</td></tr><tr><td>2448</td><td>3</td><td>3133</td><td>42.0</td><td>11</td><td>0</td><td>2024-12-13T17:48:09.096Z</td></tr><tr><td>2452</td><td>2</td><td>3139</td><td>20.0</td><td>10</td><td>0</td><td>2024-12-13T17:48:09.096Z</td></tr><tr><td>2354</td><td>7</td><td>3150</td><td>17.0</td><td>58</td><td>0</td><td>2024-12-13T17:48:09.096Z</td></tr><tr><td>2355</td><td>4</td><td>2322</td><td>19.0</td><td>188</td><td>0</td><td>2024-12-13T17:48:09.096Z</td></tr><tr><td>2356</td><td>5</td><td>2308</td><td>58.0</td><td>47</td><td>0</td><td>2024-12-13T17:48:09.096Z</td></tr><tr><td>2357</td><td>2</td><td>2245</td><td>462.0</td><td>26</td><td>0</td><td>2024-12-13T17:48:09.096Z</td></tr><tr><td>2358</td><td>5</td><td>1808</td><td>55.0</td><td>14</td><td>0</td><td>2024-12-13T17:48:09.096Z</td></tr><tr><td>2362</td><td>5</td><td>2326</td><td>1.1</td><td>173</td><td>0</td><td>2024-12-13T17:48:09.096Z</td></tr><tr><td>2363</td><td>3</td><td>2299</td><td>74.0</td><td>25</td><td>0</td><td>2024-12-13T17:48:09.096Z</td></tr><tr><td>2365</td><td>7</td><td>2319</td><td>24.0</td><td>38</td><td>0</td><td>2024-12-13T17:48:09.096Z</td></tr><tr><td>2366</td><td>5</td><td>2395</td><td>120.0</td><td>12</td><td>0</td><td>2024-12-13T17:48:09.096Z</td></tr><tr><td>2368</td><td>6</td><td>3129</td><td>42.0</td><td>72</td><td>0</td><td>2024-12-13T17:48:09.096Z</td></tr><tr><td>2372</td><td>6</td><td>3134</td><td>17.0</td><td>17</td><td>0</td><td>2024-12-13T17:48:09.096Z</td></tr><tr><td>2375</td><td>7</td><td>3143</td><td>15.0</td><td>93</td><td>0</td><td>2024-12-13T17:48:09.096Z</td></tr><tr><td>2376</td><td>5</td><td>2302</td><td>133.1</td><td>21</td><td>0</td><td>2024-12-13T17:48:09.096Z</td></tr><tr><td>2379</td><td>3</td><td>3127</td><td>488.4</td><td>23</td><td>0</td><td>2024-12-13T17:48:09.096Z</td></tr><tr><td>2380</td><td>7</td><td>3143</td><td>15.0</td><td>31</td><td>0</td><td>2024-12-13T17:48:09.096Z</td></tr><tr><td>2382</td><td>7</td><td>3129</td><td>42.0</td><td>76</td><td>0</td><td>2024-12-13T17:48:09.096Z</td></tr><tr><td>2383</td><td>5</td><td>2439</td><td>115.5</td><td>54</td><td>0</td><td>2024-12-13T17:48:09.096Z</td></tr><tr><td>2384</td><td>4</td><td>2322</td><td>22.0</td><td>59</td><td>0</td><td>2024-12-13T17:48:09.096Z</td></tr><tr><td>2387</td><td>2</td><td>2243</td><td>332.2</td><td>20</td><td>0</td><td>2024-12-13T17:48:09.096Z</td></tr><tr><td>2391</td><td>7</td><td>1822</td><td>1433.3</td><td>23</td><td>0</td><td>2024-12-13T17:48:09.096Z</td></tr><tr><td>2392</td><td>5</td><td>3133</td><td>45.0</td><td>66</td><td>0</td><td>2024-12-13T17:48:09.096Z</td></tr><tr><td>2393</td><td>7</td><td>3086</td><td>211.0</td><td>13</td><td>0</td><td>2024-12-13T17:48:09.096Z</td></tr><tr><td>2394</td><td>7</td><td>3140</td><td>19.0</td><td>48</td><td>0</td><td>2024-12-13T17:48:09.096Z</td></tr><tr><td>2395</td><td>2</td><td>2243</td><td>332.2</td><td>27</td><td>0</td><td>2024-12-13T17:48:09.096Z</td></tr><tr><td>2397</td><td>3</td><td>2999</td><td>880.0</td><td>16</td><td>0</td><td>2024-12-13T17:48:09.096Z</td></tr><tr><td>2399</td><td>7</td><td>2316</td><td>22.0</td><td>24</td><td>0</td><td>2024-12-13T17:48:09.096Z</td></tr></tbody></table></div>"
      ]
     },
     "metadata": {
      "application/vnd.databricks.v1+output": {
       "addedWidgets": {},
       "aggData": [],
       "aggError": "",
       "aggOverflow": false,
       "aggSchema": [],
       "aggSeriesLimitReached": false,
       "aggType": "",
       "arguments": {},
       "columnCustomDisplayInfos": {},
       "data": [
        [
         2392,
         4,
         3124,
         77.0,
         63,
         0,
         "2024-12-13T17:48:09.096Z"
        ],
        [
         2393,
         6,
         3082,
         78.0,
         10,
         0,
         "2024-12-13T17:48:09.096Z"
        ],
        [
         2394,
         6,
         3134,
         18.0,
         45,
         0,
         "2024-12-13T17:48:09.096Z"
        ],
        [
         2399,
         6,
         2311,
         86.9,
         20,
         0,
         "2024-12-13T17:48:09.096Z"
        ],
        [
         2400,
         4,
         2999,
         880.0,
         16,
         0,
         "2024-12-13T17:48:09.096Z"
        ],
        [
         2411,
         6,
         3106,
         45.0,
         11,
         0,
         "2024-12-13T17:48:09.096Z"
        ],
        [
         2412,
         6,
         3139,
         20.0,
         79,
         0,
         "2024-12-13T17:48:09.096Z"
        ],
        [
         2418,
         4,
         3110,
         45.0,
         20,
         0,
         "2024-12-13T17:48:09.096Z"
        ],
        [
         2419,
         4,
         3129,
         43.0,
         57,
         0,
         "2024-12-13T17:48:09.096Z"
        ],
        [
         2421,
         6,
         3129,
         43.0,
         172,
         0,
         "2024-12-13T17:48:09.096Z"
        ],
        [
         2422,
         5,
         3133,
         46.0,
         11,
         0,
         "2024-12-13T17:48:09.096Z"
        ],
        [
         2423,
         3,
         3245,
         214.5,
         13,
         0,
         "2024-12-13T17:48:09.096Z"
        ],
        [
         2427,
         4,
         2464,
         66.0,
         6,
         0,
         "2024-12-13T17:48:09.096Z"
        ],
        [
         2428,
         6,
         3127,
         498.0,
         12,
         0,
         "2024-12-13T17:48:09.096Z"
        ],
        [
         2429,
         6,
         3133,
         46.0,
         52,
         0,
         "2024-12-13T17:48:09.096Z"
        ],
        [
         2431,
         6,
         3129,
         44.0,
         11,
         0,
         "2024-12-13T17:48:09.096Z"
        ],
        [
         2434,
         2,
         2236,
         949.3,
         84,
         0,
         "2024-12-13T17:48:09.096Z"
        ],
        [
         2435,
         4,
         2316,
         21.0,
         10,
         0,
         "2024-12-13T17:48:09.096Z"
        ],
        [
         2440,
         4,
         2311,
         86.9,
         7,
         0,
         "2024-12-13T17:48:09.096Z"
        ],
        [
         2442,
         6,
         2439,
         115.5,
         30,
         0,
         "2024-12-13T17:48:09.096Z"
        ],
        [
         2444,
         6,
         3143,
         15.0,
         97,
         0,
         "2024-12-13T17:48:09.096Z"
        ],
        [
         2445,
         3,
         2293,
         97.0,
         11,
         0,
         "2024-12-13T17:48:09.096Z"
        ],
        [
         2448,
         3,
         3133,
         42.0,
         11,
         0,
         "2024-12-13T17:48:09.096Z"
        ],
        [
         2452,
         2,
         3139,
         20.0,
         10,
         0,
         "2024-12-13T17:48:09.096Z"
        ],
        [
         2354,
         7,
         3150,
         17.0,
         58,
         0,
         "2024-12-13T17:48:09.096Z"
        ],
        [
         2355,
         4,
         2322,
         19.0,
         188,
         0,
         "2024-12-13T17:48:09.096Z"
        ],
        [
         2356,
         5,
         2308,
         58.0,
         47,
         0,
         "2024-12-13T17:48:09.096Z"
        ],
        [
         2357,
         2,
         2245,
         462.0,
         26,
         0,
         "2024-12-13T17:48:09.096Z"
        ],
        [
         2358,
         5,
         1808,
         55.0,
         14,
         0,
         "2024-12-13T17:48:09.096Z"
        ],
        [
         2362,
         5,
         2326,
         1.1,
         173,
         0,
         "2024-12-13T17:48:09.096Z"
        ],
        [
         2363,
         3,
         2299,
         74.0,
         25,
         0,
         "2024-12-13T17:48:09.096Z"
        ],
        [
         2365,
         7,
         2319,
         24.0,
         38,
         0,
         "2024-12-13T17:48:09.096Z"
        ],
        [
         2366,
         5,
         2395,
         120.0,
         12,
         0,
         "2024-12-13T17:48:09.096Z"
        ],
        [
         2368,
         6,
         3129,
         42.0,
         72,
         0,
         "2024-12-13T17:48:09.096Z"
        ],
        [
         2372,
         6,
         3134,
         17.0,
         17,
         0,
         "2024-12-13T17:48:09.096Z"
        ],
        [
         2375,
         7,
         3143,
         15.0,
         93,
         0,
         "2024-12-13T17:48:09.096Z"
        ],
        [
         2376,
         5,
         2302,
         133.1,
         21,
         0,
         "2024-12-13T17:48:09.096Z"
        ],
        [
         2379,
         3,
         3127,
         488.4,
         23,
         0,
         "2024-12-13T17:48:09.096Z"
        ],
        [
         2380,
         7,
         3143,
         15.0,
         31,
         0,
         "2024-12-13T17:48:09.096Z"
        ],
        [
         2382,
         7,
         3129,
         42.0,
         76,
         0,
         "2024-12-13T17:48:09.096Z"
        ],
        [
         2383,
         5,
         2439,
         115.5,
         54,
         0,
         "2024-12-13T17:48:09.096Z"
        ],
        [
         2384,
         4,
         2322,
         22.0,
         59,
         0,
         "2024-12-13T17:48:09.096Z"
        ],
        [
         2387,
         2,
         2243,
         332.2,
         20,
         0,
         "2024-12-13T17:48:09.096Z"
        ],
        [
         2391,
         7,
         1822,
         1433.3,
         23,
         0,
         "2024-12-13T17:48:09.096Z"
        ],
        [
         2392,
         5,
         3133,
         45.0,
         66,
         0,
         "2024-12-13T17:48:09.096Z"
        ],
        [
         2393,
         7,
         3086,
         211.0,
         13,
         0,
         "2024-12-13T17:48:09.096Z"
        ],
        [
         2394,
         7,
         3140,
         19.0,
         48,
         0,
         "2024-12-13T17:48:09.096Z"
        ],
        [
         2395,
         2,
         2243,
         332.2,
         27,
         0,
         "2024-12-13T17:48:09.096Z"
        ],
        [
         2397,
         3,
         2999,
         880.0,
         16,
         0,
         "2024-12-13T17:48:09.096Z"
        ],
        [
         2399,
         7,
         2316,
         22.0,
         24,
         0,
         "2024-12-13T17:48:09.096Z"
        ]
       ],
       "datasetInfos": [],
       "dbfsResultPath": null,
       "isJsonSchema": true,
       "metadata": {},
       "overflow": false,
       "plotOptions": {
        "customPlotOptions": {},
        "displayType": "table",
        "pivotAggregation": null,
        "pivotColumns": null,
        "xColumns": null,
        "yColumns": null
       },
       "removedWidgets": [],
       "schema": [
        {
         "metadata": "{}",
         "name": "ORDER_ID",
         "type": "\"integer\""
        },
        {
         "metadata": "{}",
         "name": "LINE_ITEM_ID",
         "type": "\"integer\""
        },
        {
         "metadata": "{}",
         "name": "PRODUCT_ID",
         "type": "\"integer\""
        },
        {
         "metadata": "{}",
         "name": "UNIT_PRICE",
         "type": "\"double\""
        },
        {
         "metadata": "{}",
         "name": "QUANTITY",
         "type": "\"integer\""
        },
        {
         "metadata": "{}",
         "name": "batch_id",
         "type": "\"integer\""
        },
        {
         "metadata": "{}",
         "name": "ingest_datetime",
         "type": "\"timestamp\""
        }
       ],
       "type": "table"
      }
     },
     "output_type": "display_data"
    }
   ],
   "source": [
    "# Load the \"order_items\" Delta table into a Spark DataFrame\n",
    "order_items =spark.read.format('delta').table('stoyan.bronze_order_items')\n",
    "order_items.display()"
   ]
  },
  {
   "cell_type": "code",
   "execution_count": 0,
   "metadata": {
    "application/vnd.databricks.v1+cell": {
     "cellMetadata": {
      "byteLimit": 2048000,
      "rowLimit": 10000
     },
     "inputWidgets": {},
     "nuid": "47bb7f69-9244-4826-af8b-634aced6170e",
     "showTitle": false,
     "tableResultSettingsMap": {},
     "title": ""
    }
   },
   "outputs": [
    {
     "output_type": "display_data",
     "data": {
      "text/html": [
       "<style scoped>\n",
       "  .table-result-container {\n",
       "    max-height: 300px;\n",
       "    overflow: auto;\n",
       "  }\n",
       "  table, th, td {\n",
       "    border: 1px solid black;\n",
       "    border-collapse: collapse;\n",
       "  }\n",
       "  th, td {\n",
       "    padding: 5px;\n",
       "  }\n",
       "  th {\n",
       "    text-align: left;\n",
       "  }\n",
       "</style><div class='table-result-container'><table class='table-result'><thead style='background-color: white'><tr><th>order_id</th><th>line_item_id</th><th>product_id</th><th>unit_price</th><th>quantity</th><th>batch_id</th><th>ingest_datetime</th></tr></thead><tbody><tr><td>2392</td><td>4</td><td>3124</td><td>77.0</td><td>63</td><td>0</td><td>2024-12-13T17:48:09.096Z</td></tr><tr><td>2393</td><td>6</td><td>3082</td><td>78.0</td><td>10</td><td>0</td><td>2024-12-13T17:48:09.096Z</td></tr><tr><td>2394</td><td>6</td><td>3134</td><td>18.0</td><td>45</td><td>0</td><td>2024-12-13T17:48:09.096Z</td></tr><tr><td>2399</td><td>6</td><td>2311</td><td>86.9</td><td>20</td><td>0</td><td>2024-12-13T17:48:09.096Z</td></tr><tr><td>2400</td><td>4</td><td>2999</td><td>880.0</td><td>16</td><td>0</td><td>2024-12-13T17:48:09.096Z</td></tr><tr><td>2411</td><td>6</td><td>3106</td><td>45.0</td><td>11</td><td>0</td><td>2024-12-13T17:48:09.096Z</td></tr><tr><td>2412</td><td>6</td><td>3139</td><td>20.0</td><td>79</td><td>0</td><td>2024-12-13T17:48:09.096Z</td></tr><tr><td>2418</td><td>4</td><td>3110</td><td>45.0</td><td>20</td><td>0</td><td>2024-12-13T17:48:09.096Z</td></tr><tr><td>2419</td><td>4</td><td>3129</td><td>43.0</td><td>57</td><td>0</td><td>2024-12-13T17:48:09.096Z</td></tr><tr><td>2421</td><td>6</td><td>3129</td><td>43.0</td><td>172</td><td>0</td><td>2024-12-13T17:48:09.096Z</td></tr><tr><td>2422</td><td>5</td><td>3133</td><td>46.0</td><td>11</td><td>0</td><td>2024-12-13T17:48:09.096Z</td></tr><tr><td>2423</td><td>3</td><td>3245</td><td>214.5</td><td>13</td><td>0</td><td>2024-12-13T17:48:09.096Z</td></tr><tr><td>2427</td><td>4</td><td>2464</td><td>66.0</td><td>6</td><td>0</td><td>2024-12-13T17:48:09.096Z</td></tr><tr><td>2428</td><td>6</td><td>3127</td><td>498.0</td><td>12</td><td>0</td><td>2024-12-13T17:48:09.096Z</td></tr><tr><td>2429</td><td>6</td><td>3133</td><td>46.0</td><td>52</td><td>0</td><td>2024-12-13T17:48:09.096Z</td></tr><tr><td>2431</td><td>6</td><td>3129</td><td>44.0</td><td>11</td><td>0</td><td>2024-12-13T17:48:09.096Z</td></tr><tr><td>2434</td><td>2</td><td>2236</td><td>949.3</td><td>84</td><td>0</td><td>2024-12-13T17:48:09.096Z</td></tr><tr><td>2435</td><td>4</td><td>2316</td><td>21.0</td><td>10</td><td>0</td><td>2024-12-13T17:48:09.096Z</td></tr><tr><td>2440</td><td>4</td><td>2311</td><td>86.9</td><td>7</td><td>0</td><td>2024-12-13T17:48:09.096Z</td></tr><tr><td>2442</td><td>6</td><td>2439</td><td>115.5</td><td>30</td><td>0</td><td>2024-12-13T17:48:09.096Z</td></tr><tr><td>2444</td><td>6</td><td>3143</td><td>15.0</td><td>97</td><td>0</td><td>2024-12-13T17:48:09.096Z</td></tr><tr><td>2445</td><td>3</td><td>2293</td><td>97.0</td><td>11</td><td>0</td><td>2024-12-13T17:48:09.096Z</td></tr><tr><td>2448</td><td>3</td><td>3133</td><td>42.0</td><td>11</td><td>0</td><td>2024-12-13T17:48:09.096Z</td></tr><tr><td>2452</td><td>2</td><td>3139</td><td>20.0</td><td>10</td><td>0</td><td>2024-12-13T17:48:09.096Z</td></tr><tr><td>2354</td><td>7</td><td>3150</td><td>17.0</td><td>58</td><td>0</td><td>2024-12-13T17:48:09.096Z</td></tr><tr><td>2355</td><td>4</td><td>2322</td><td>19.0</td><td>188</td><td>0</td><td>2024-12-13T17:48:09.096Z</td></tr><tr><td>2356</td><td>5</td><td>2308</td><td>58.0</td><td>47</td><td>0</td><td>2024-12-13T17:48:09.096Z</td></tr><tr><td>2357</td><td>2</td><td>2245</td><td>462.0</td><td>26</td><td>0</td><td>2024-12-13T17:48:09.096Z</td></tr><tr><td>2358</td><td>5</td><td>1808</td><td>55.0</td><td>14</td><td>0</td><td>2024-12-13T17:48:09.096Z</td></tr><tr><td>2362</td><td>5</td><td>2326</td><td>1.1</td><td>173</td><td>0</td><td>2024-12-13T17:48:09.096Z</td></tr><tr><td>2363</td><td>3</td><td>2299</td><td>74.0</td><td>25</td><td>0</td><td>2024-12-13T17:48:09.096Z</td></tr><tr><td>2365</td><td>7</td><td>2319</td><td>24.0</td><td>38</td><td>0</td><td>2024-12-13T17:48:09.096Z</td></tr><tr><td>2366</td><td>5</td><td>2395</td><td>120.0</td><td>12</td><td>0</td><td>2024-12-13T17:48:09.096Z</td></tr><tr><td>2368</td><td>6</td><td>3129</td><td>42.0</td><td>72</td><td>0</td><td>2024-12-13T17:48:09.096Z</td></tr><tr><td>2372</td><td>6</td><td>3134</td><td>17.0</td><td>17</td><td>0</td><td>2024-12-13T17:48:09.096Z</td></tr><tr><td>2375</td><td>7</td><td>3143</td><td>15.0</td><td>93</td><td>0</td><td>2024-12-13T17:48:09.096Z</td></tr><tr><td>2376</td><td>5</td><td>2302</td><td>133.1</td><td>21</td><td>0</td><td>2024-12-13T17:48:09.096Z</td></tr><tr><td>2379</td><td>3</td><td>3127</td><td>488.4</td><td>23</td><td>0</td><td>2024-12-13T17:48:09.096Z</td></tr><tr><td>2380</td><td>7</td><td>3143</td><td>15.0</td><td>31</td><td>0</td><td>2024-12-13T17:48:09.096Z</td></tr><tr><td>2382</td><td>7</td><td>3129</td><td>42.0</td><td>76</td><td>0</td><td>2024-12-13T17:48:09.096Z</td></tr><tr><td>2383</td><td>5</td><td>2439</td><td>115.5</td><td>54</td><td>0</td><td>2024-12-13T17:48:09.096Z</td></tr><tr><td>2384</td><td>4</td><td>2322</td><td>22.0</td><td>59</td><td>0</td><td>2024-12-13T17:48:09.096Z</td></tr><tr><td>2387</td><td>2</td><td>2243</td><td>332.2</td><td>20</td><td>0</td><td>2024-12-13T17:48:09.096Z</td></tr><tr><td>2391</td><td>7</td><td>1822</td><td>1433.3</td><td>23</td><td>0</td><td>2024-12-13T17:48:09.096Z</td></tr><tr><td>2392</td><td>5</td><td>3133</td><td>45.0</td><td>66</td><td>0</td><td>2024-12-13T17:48:09.096Z</td></tr><tr><td>2393</td><td>7</td><td>3086</td><td>211.0</td><td>13</td><td>0</td><td>2024-12-13T17:48:09.096Z</td></tr><tr><td>2394</td><td>7</td><td>3140</td><td>19.0</td><td>48</td><td>0</td><td>2024-12-13T17:48:09.096Z</td></tr><tr><td>2395</td><td>2</td><td>2243</td><td>332.2</td><td>27</td><td>0</td><td>2024-12-13T17:48:09.096Z</td></tr><tr><td>2397</td><td>3</td><td>2999</td><td>880.0</td><td>16</td><td>0</td><td>2024-12-13T17:48:09.096Z</td></tr><tr><td>2399</td><td>7</td><td>2316</td><td>22.0</td><td>24</td><td>0</td><td>2024-12-13T17:48:09.096Z</td></tr></tbody></table></div>"
      ]
     },
     "metadata": {
      "application/vnd.databricks.v1+output": {
       "addedWidgets": {},
       "aggData": [],
       "aggError": "",
       "aggOverflow": false,
       "aggSchema": [],
       "aggSeriesLimitReached": false,
       "aggType": "",
       "arguments": {},
       "columnCustomDisplayInfos": {},
       "data": [
        [
         2392,
         4,
         3124,
         77.0,
         63,
         0,
         "2024-12-13T17:48:09.096Z"
        ],
        [
         2393,
         6,
         3082,
         78.0,
         10,
         0,
         "2024-12-13T17:48:09.096Z"
        ],
        [
         2394,
         6,
         3134,
         18.0,
         45,
         0,
         "2024-12-13T17:48:09.096Z"
        ],
        [
         2399,
         6,
         2311,
         86.9,
         20,
         0,
         "2024-12-13T17:48:09.096Z"
        ],
        [
         2400,
         4,
         2999,
         880.0,
         16,
         0,
         "2024-12-13T17:48:09.096Z"
        ],
        [
         2411,
         6,
         3106,
         45.0,
         11,
         0,
         "2024-12-13T17:48:09.096Z"
        ],
        [
         2412,
         6,
         3139,
         20.0,
         79,
         0,
         "2024-12-13T17:48:09.096Z"
        ],
        [
         2418,
         4,
         3110,
         45.0,
         20,
         0,
         "2024-12-13T17:48:09.096Z"
        ],
        [
         2419,
         4,
         3129,
         43.0,
         57,
         0,
         "2024-12-13T17:48:09.096Z"
        ],
        [
         2421,
         6,
         3129,
         43.0,
         172,
         0,
         "2024-12-13T17:48:09.096Z"
        ],
        [
         2422,
         5,
         3133,
         46.0,
         11,
         0,
         "2024-12-13T17:48:09.096Z"
        ],
        [
         2423,
         3,
         3245,
         214.5,
         13,
         0,
         "2024-12-13T17:48:09.096Z"
        ],
        [
         2427,
         4,
         2464,
         66.0,
         6,
         0,
         "2024-12-13T17:48:09.096Z"
        ],
        [
         2428,
         6,
         3127,
         498.0,
         12,
         0,
         "2024-12-13T17:48:09.096Z"
        ],
        [
         2429,
         6,
         3133,
         46.0,
         52,
         0,
         "2024-12-13T17:48:09.096Z"
        ],
        [
         2431,
         6,
         3129,
         44.0,
         11,
         0,
         "2024-12-13T17:48:09.096Z"
        ],
        [
         2434,
         2,
         2236,
         949.3,
         84,
         0,
         "2024-12-13T17:48:09.096Z"
        ],
        [
         2435,
         4,
         2316,
         21.0,
         10,
         0,
         "2024-12-13T17:48:09.096Z"
        ],
        [
         2440,
         4,
         2311,
         86.9,
         7,
         0,
         "2024-12-13T17:48:09.096Z"
        ],
        [
         2442,
         6,
         2439,
         115.5,
         30,
         0,
         "2024-12-13T17:48:09.096Z"
        ],
        [
         2444,
         6,
         3143,
         15.0,
         97,
         0,
         "2024-12-13T17:48:09.096Z"
        ],
        [
         2445,
         3,
         2293,
         97.0,
         11,
         0,
         "2024-12-13T17:48:09.096Z"
        ],
        [
         2448,
         3,
         3133,
         42.0,
         11,
         0,
         "2024-12-13T17:48:09.096Z"
        ],
        [
         2452,
         2,
         3139,
         20.0,
         10,
         0,
         "2024-12-13T17:48:09.096Z"
        ],
        [
         2354,
         7,
         3150,
         17.0,
         58,
         0,
         "2024-12-13T17:48:09.096Z"
        ],
        [
         2355,
         4,
         2322,
         19.0,
         188,
         0,
         "2024-12-13T17:48:09.096Z"
        ],
        [
         2356,
         5,
         2308,
         58.0,
         47,
         0,
         "2024-12-13T17:48:09.096Z"
        ],
        [
         2357,
         2,
         2245,
         462.0,
         26,
         0,
         "2024-12-13T17:48:09.096Z"
        ],
        [
         2358,
         5,
         1808,
         55.0,
         14,
         0,
         "2024-12-13T17:48:09.096Z"
        ],
        [
         2362,
         5,
         2326,
         1.1,
         173,
         0,
         "2024-12-13T17:48:09.096Z"
        ],
        [
         2363,
         3,
         2299,
         74.0,
         25,
         0,
         "2024-12-13T17:48:09.096Z"
        ],
        [
         2365,
         7,
         2319,
         24.0,
         38,
         0,
         "2024-12-13T17:48:09.096Z"
        ],
        [
         2366,
         5,
         2395,
         120.0,
         12,
         0,
         "2024-12-13T17:48:09.096Z"
        ],
        [
         2368,
         6,
         3129,
         42.0,
         72,
         0,
         "2024-12-13T17:48:09.096Z"
        ],
        [
         2372,
         6,
         3134,
         17.0,
         17,
         0,
         "2024-12-13T17:48:09.096Z"
        ],
        [
         2375,
         7,
         3143,
         15.0,
         93,
         0,
         "2024-12-13T17:48:09.096Z"
        ],
        [
         2376,
         5,
         2302,
         133.1,
         21,
         0,
         "2024-12-13T17:48:09.096Z"
        ],
        [
         2379,
         3,
         3127,
         488.4,
         23,
         0,
         "2024-12-13T17:48:09.096Z"
        ],
        [
         2380,
         7,
         3143,
         15.0,
         31,
         0,
         "2024-12-13T17:48:09.096Z"
        ],
        [
         2382,
         7,
         3129,
         42.0,
         76,
         0,
         "2024-12-13T17:48:09.096Z"
        ],
        [
         2383,
         5,
         2439,
         115.5,
         54,
         0,
         "2024-12-13T17:48:09.096Z"
        ],
        [
         2384,
         4,
         2322,
         22.0,
         59,
         0,
         "2024-12-13T17:48:09.096Z"
        ],
        [
         2387,
         2,
         2243,
         332.2,
         20,
         0,
         "2024-12-13T17:48:09.096Z"
        ],
        [
         2391,
         7,
         1822,
         1433.3,
         23,
         0,
         "2024-12-13T17:48:09.096Z"
        ],
        [
         2392,
         5,
         3133,
         45.0,
         66,
         0,
         "2024-12-13T17:48:09.096Z"
        ],
        [
         2393,
         7,
         3086,
         211.0,
         13,
         0,
         "2024-12-13T17:48:09.096Z"
        ],
        [
         2394,
         7,
         3140,
         19.0,
         48,
         0,
         "2024-12-13T17:48:09.096Z"
        ],
        [
         2395,
         2,
         2243,
         332.2,
         27,
         0,
         "2024-12-13T17:48:09.096Z"
        ],
        [
         2397,
         3,
         2999,
         880.0,
         16,
         0,
         "2024-12-13T17:48:09.096Z"
        ],
        [
         2399,
         7,
         2316,
         22.0,
         24,
         0,
         "2024-12-13T17:48:09.096Z"
        ]
       ],
       "datasetInfos": [],
       "dbfsResultPath": null,
       "isJsonSchema": true,
       "metadata": {},
       "overflow": false,
       "plotOptions": {
        "customPlotOptions": {},
        "displayType": "table",
        "pivotAggregation": null,
        "pivotColumns": null,
        "xColumns": null,
        "yColumns": null
       },
       "removedWidgets": [],
       "schema": [
        {
         "metadata": "{}",
         "name": "order_id",
         "type": "\"integer\""
        },
        {
         "metadata": "{}",
         "name": "line_item_id",
         "type": "\"integer\""
        },
        {
         "metadata": "{}",
         "name": "product_id",
         "type": "\"integer\""
        },
        {
         "metadata": "{}",
         "name": "unit_price",
         "type": "\"double\""
        },
        {
         "metadata": "{}",
         "name": "quantity",
         "type": "\"integer\""
        },
        {
         "metadata": "{}",
         "name": "batch_id",
         "type": "\"integer\""
        },
        {
         "metadata": "{}",
         "name": "ingest_datetime",
         "type": "\"timestamp\""
        }
       ],
       "type": "table"
      }
     },
     "output_type": "display_data"
    }
   ],
   "source": [
    "# Convert column names to lowercase and replace '.' with '_' for standardization\n",
    "new_col = []\n",
    "for column in order_items.columns:\n",
    "    new_col.append(column.lower())                      # Convert to lowercase\n",
    "order_items = order_items.toDF(*new_col)                # Rename columns in the DataFrame\n",
    "order_items.display()"
   ]
  },
  {
   "cell_type": "code",
   "execution_count": 0,
   "metadata": {
    "application/vnd.databricks.v1+cell": {
     "cellMetadata": {
      "byteLimit": 2048000,
      "rowLimit": 10000
     },
     "inputWidgets": {},
     "nuid": "c4feab4d-a718-4b8a-9e41-b5c83c888188",
     "showTitle": false,
     "tableResultSettingsMap": {},
     "title": ""
    }
   },
   "outputs": [
    {
     "output_type": "display_data",
     "data": {
      "text/html": [
       "<style scoped>\n",
       "  .table-result-container {\n",
       "    max-height: 300px;\n",
       "    overflow: auto;\n",
       "  }\n",
       "  table, th, td {\n",
       "    border: 1px solid black;\n",
       "    border-collapse: collapse;\n",
       "  }\n",
       "  th, td {\n",
       "    padding: 5px;\n",
       "  }\n",
       "  th {\n",
       "    text-align: left;\n",
       "  }\n",
       "</style><div class='table-result-container'><table class='table-result'><thead style='background-color: white'><tr><th>order_id</th><th>line_item_id</th><th>product_id</th><th>unit_price</th><th>quantity</th><th>consume_timestamp</th><th>load_tsp</th></tr></thead><tbody><tr><td>2392</td><td>4</td><td>3124</td><td>77.0</td><td>63</td><td>2024-12-13T17:48:09.096Z</td><td>2024-12-13T21:51:00.369Z</td></tr><tr><td>2393</td><td>6</td><td>3082</td><td>78.0</td><td>10</td><td>2024-12-13T17:48:09.096Z</td><td>2024-12-13T21:51:00.369Z</td></tr><tr><td>2394</td><td>6</td><td>3134</td><td>18.0</td><td>45</td><td>2024-12-13T17:48:09.096Z</td><td>2024-12-13T21:51:00.369Z</td></tr><tr><td>2399</td><td>6</td><td>2311</td><td>86.9</td><td>20</td><td>2024-12-13T17:48:09.096Z</td><td>2024-12-13T21:51:00.369Z</td></tr><tr><td>2400</td><td>4</td><td>2999</td><td>880.0</td><td>16</td><td>2024-12-13T17:48:09.096Z</td><td>2024-12-13T21:51:00.369Z</td></tr><tr><td>2411</td><td>6</td><td>3106</td><td>45.0</td><td>11</td><td>2024-12-13T17:48:09.096Z</td><td>2024-12-13T21:51:00.369Z</td></tr><tr><td>2412</td><td>6</td><td>3139</td><td>20.0</td><td>79</td><td>2024-12-13T17:48:09.096Z</td><td>2024-12-13T21:51:00.369Z</td></tr><tr><td>2418</td><td>4</td><td>3110</td><td>45.0</td><td>20</td><td>2024-12-13T17:48:09.096Z</td><td>2024-12-13T21:51:00.369Z</td></tr><tr><td>2419</td><td>4</td><td>3129</td><td>43.0</td><td>57</td><td>2024-12-13T17:48:09.096Z</td><td>2024-12-13T21:51:00.369Z</td></tr><tr><td>2421</td><td>6</td><td>3129</td><td>43.0</td><td>172</td><td>2024-12-13T17:48:09.096Z</td><td>2024-12-13T21:51:00.369Z</td></tr><tr><td>2422</td><td>5</td><td>3133</td><td>46.0</td><td>11</td><td>2024-12-13T17:48:09.096Z</td><td>2024-12-13T21:51:00.369Z</td></tr><tr><td>2423</td><td>3</td><td>3245</td><td>214.5</td><td>13</td><td>2024-12-13T17:48:09.096Z</td><td>2024-12-13T21:51:00.369Z</td></tr><tr><td>2427</td><td>4</td><td>2464</td><td>66.0</td><td>6</td><td>2024-12-13T17:48:09.096Z</td><td>2024-12-13T21:51:00.369Z</td></tr><tr><td>2428</td><td>6</td><td>3127</td><td>498.0</td><td>12</td><td>2024-12-13T17:48:09.096Z</td><td>2024-12-13T21:51:00.369Z</td></tr><tr><td>2429</td><td>6</td><td>3133</td><td>46.0</td><td>52</td><td>2024-12-13T17:48:09.096Z</td><td>2024-12-13T21:51:00.369Z</td></tr><tr><td>2431</td><td>6</td><td>3129</td><td>44.0</td><td>11</td><td>2024-12-13T17:48:09.096Z</td><td>2024-12-13T21:51:00.369Z</td></tr><tr><td>2434</td><td>2</td><td>2236</td><td>949.3</td><td>84</td><td>2024-12-13T17:48:09.096Z</td><td>2024-12-13T21:51:00.369Z</td></tr><tr><td>2435</td><td>4</td><td>2316</td><td>21.0</td><td>10</td><td>2024-12-13T17:48:09.096Z</td><td>2024-12-13T21:51:00.369Z</td></tr><tr><td>2440</td><td>4</td><td>2311</td><td>86.9</td><td>7</td><td>2024-12-13T17:48:09.096Z</td><td>2024-12-13T21:51:00.369Z</td></tr><tr><td>2442</td><td>6</td><td>2439</td><td>115.5</td><td>30</td><td>2024-12-13T17:48:09.096Z</td><td>2024-12-13T21:51:00.369Z</td></tr><tr><td>2444</td><td>6</td><td>3143</td><td>15.0</td><td>97</td><td>2024-12-13T17:48:09.096Z</td><td>2024-12-13T21:51:00.369Z</td></tr><tr><td>2445</td><td>3</td><td>2293</td><td>97.0</td><td>11</td><td>2024-12-13T17:48:09.096Z</td><td>2024-12-13T21:51:00.369Z</td></tr><tr><td>2448</td><td>3</td><td>3133</td><td>42.0</td><td>11</td><td>2024-12-13T17:48:09.096Z</td><td>2024-12-13T21:51:00.369Z</td></tr><tr><td>2452</td><td>2</td><td>3139</td><td>20.0</td><td>10</td><td>2024-12-13T17:48:09.096Z</td><td>2024-12-13T21:51:00.369Z</td></tr><tr><td>2354</td><td>7</td><td>3150</td><td>17.0</td><td>58</td><td>2024-12-13T17:48:09.096Z</td><td>2024-12-13T21:51:00.369Z</td></tr><tr><td>2355</td><td>4</td><td>2322</td><td>19.0</td><td>188</td><td>2024-12-13T17:48:09.096Z</td><td>2024-12-13T21:51:00.369Z</td></tr><tr><td>2356</td><td>5</td><td>2308</td><td>58.0</td><td>47</td><td>2024-12-13T17:48:09.096Z</td><td>2024-12-13T21:51:00.369Z</td></tr><tr><td>2357</td><td>2</td><td>2245</td><td>462.0</td><td>26</td><td>2024-12-13T17:48:09.096Z</td><td>2024-12-13T21:51:00.369Z</td></tr><tr><td>2358</td><td>5</td><td>1808</td><td>55.0</td><td>14</td><td>2024-12-13T17:48:09.096Z</td><td>2024-12-13T21:51:00.369Z</td></tr><tr><td>2362</td><td>5</td><td>2326</td><td>1.1</td><td>173</td><td>2024-12-13T17:48:09.096Z</td><td>2024-12-13T21:51:00.369Z</td></tr><tr><td>2363</td><td>3</td><td>2299</td><td>74.0</td><td>25</td><td>2024-12-13T17:48:09.096Z</td><td>2024-12-13T21:51:00.369Z</td></tr><tr><td>2365</td><td>7</td><td>2319</td><td>24.0</td><td>38</td><td>2024-12-13T17:48:09.096Z</td><td>2024-12-13T21:51:00.369Z</td></tr><tr><td>2366</td><td>5</td><td>2395</td><td>120.0</td><td>12</td><td>2024-12-13T17:48:09.096Z</td><td>2024-12-13T21:51:00.369Z</td></tr><tr><td>2368</td><td>6</td><td>3129</td><td>42.0</td><td>72</td><td>2024-12-13T17:48:09.096Z</td><td>2024-12-13T21:51:00.369Z</td></tr><tr><td>2372</td><td>6</td><td>3134</td><td>17.0</td><td>17</td><td>2024-12-13T17:48:09.096Z</td><td>2024-12-13T21:51:00.369Z</td></tr><tr><td>2375</td><td>7</td><td>3143</td><td>15.0</td><td>93</td><td>2024-12-13T17:48:09.096Z</td><td>2024-12-13T21:51:00.369Z</td></tr><tr><td>2376</td><td>5</td><td>2302</td><td>133.1</td><td>21</td><td>2024-12-13T17:48:09.096Z</td><td>2024-12-13T21:51:00.369Z</td></tr><tr><td>2379</td><td>3</td><td>3127</td><td>488.4</td><td>23</td><td>2024-12-13T17:48:09.096Z</td><td>2024-12-13T21:51:00.369Z</td></tr><tr><td>2380</td><td>7</td><td>3143</td><td>15.0</td><td>31</td><td>2024-12-13T17:48:09.096Z</td><td>2024-12-13T21:51:00.369Z</td></tr><tr><td>2382</td><td>7</td><td>3129</td><td>42.0</td><td>76</td><td>2024-12-13T17:48:09.096Z</td><td>2024-12-13T21:51:00.369Z</td></tr><tr><td>2383</td><td>5</td><td>2439</td><td>115.5</td><td>54</td><td>2024-12-13T17:48:09.096Z</td><td>2024-12-13T21:51:00.369Z</td></tr><tr><td>2384</td><td>4</td><td>2322</td><td>22.0</td><td>59</td><td>2024-12-13T17:48:09.096Z</td><td>2024-12-13T21:51:00.369Z</td></tr><tr><td>2387</td><td>2</td><td>2243</td><td>332.2</td><td>20</td><td>2024-12-13T17:48:09.096Z</td><td>2024-12-13T21:51:00.369Z</td></tr><tr><td>2391</td><td>7</td><td>1822</td><td>1433.3</td><td>23</td><td>2024-12-13T17:48:09.096Z</td><td>2024-12-13T21:51:00.369Z</td></tr><tr><td>2392</td><td>5</td><td>3133</td><td>45.0</td><td>66</td><td>2024-12-13T17:48:09.096Z</td><td>2024-12-13T21:51:00.369Z</td></tr><tr><td>2393</td><td>7</td><td>3086</td><td>211.0</td><td>13</td><td>2024-12-13T17:48:09.096Z</td><td>2024-12-13T21:51:00.369Z</td></tr><tr><td>2394</td><td>7</td><td>3140</td><td>19.0</td><td>48</td><td>2024-12-13T17:48:09.096Z</td><td>2024-12-13T21:51:00.369Z</td></tr><tr><td>2395</td><td>2</td><td>2243</td><td>332.2</td><td>27</td><td>2024-12-13T17:48:09.096Z</td><td>2024-12-13T21:51:00.369Z</td></tr><tr><td>2397</td><td>3</td><td>2999</td><td>880.0</td><td>16</td><td>2024-12-13T17:48:09.096Z</td><td>2024-12-13T21:51:00.369Z</td></tr><tr><td>2399</td><td>7</td><td>2316</td><td>22.0</td><td>24</td><td>2024-12-13T17:48:09.096Z</td><td>2024-12-13T21:51:00.369Z</td></tr></tbody></table></div>"
      ]
     },
     "metadata": {
      "application/vnd.databricks.v1+output": {
       "addedWidgets": {},
       "aggData": [],
       "aggError": "",
       "aggOverflow": false,
       "aggSchema": [],
       "aggSeriesLimitReached": false,
       "aggType": "",
       "arguments": {},
       "columnCustomDisplayInfos": {},
       "data": [
        [
         2392,
         4,
         3124,
         77.0,
         63,
         "2024-12-13T17:48:09.096Z",
         "2024-12-13T21:51:00.369Z"
        ],
        [
         2393,
         6,
         3082,
         78.0,
         10,
         "2024-12-13T17:48:09.096Z",
         "2024-12-13T21:51:00.369Z"
        ],
        [
         2394,
         6,
         3134,
         18.0,
         45,
         "2024-12-13T17:48:09.096Z",
         "2024-12-13T21:51:00.369Z"
        ],
        [
         2399,
         6,
         2311,
         86.9,
         20,
         "2024-12-13T17:48:09.096Z",
         "2024-12-13T21:51:00.369Z"
        ],
        [
         2400,
         4,
         2999,
         880.0,
         16,
         "2024-12-13T17:48:09.096Z",
         "2024-12-13T21:51:00.369Z"
        ],
        [
         2411,
         6,
         3106,
         45.0,
         11,
         "2024-12-13T17:48:09.096Z",
         "2024-12-13T21:51:00.369Z"
        ],
        [
         2412,
         6,
         3139,
         20.0,
         79,
         "2024-12-13T17:48:09.096Z",
         "2024-12-13T21:51:00.369Z"
        ],
        [
         2418,
         4,
         3110,
         45.0,
         20,
         "2024-12-13T17:48:09.096Z",
         "2024-12-13T21:51:00.369Z"
        ],
        [
         2419,
         4,
         3129,
         43.0,
         57,
         "2024-12-13T17:48:09.096Z",
         "2024-12-13T21:51:00.369Z"
        ],
        [
         2421,
         6,
         3129,
         43.0,
         172,
         "2024-12-13T17:48:09.096Z",
         "2024-12-13T21:51:00.369Z"
        ],
        [
         2422,
         5,
         3133,
         46.0,
         11,
         "2024-12-13T17:48:09.096Z",
         "2024-12-13T21:51:00.369Z"
        ],
        [
         2423,
         3,
         3245,
         214.5,
         13,
         "2024-12-13T17:48:09.096Z",
         "2024-12-13T21:51:00.369Z"
        ],
        [
         2427,
         4,
         2464,
         66.0,
         6,
         "2024-12-13T17:48:09.096Z",
         "2024-12-13T21:51:00.369Z"
        ],
        [
         2428,
         6,
         3127,
         498.0,
         12,
         "2024-12-13T17:48:09.096Z",
         "2024-12-13T21:51:00.369Z"
        ],
        [
         2429,
         6,
         3133,
         46.0,
         52,
         "2024-12-13T17:48:09.096Z",
         "2024-12-13T21:51:00.369Z"
        ],
        [
         2431,
         6,
         3129,
         44.0,
         11,
         "2024-12-13T17:48:09.096Z",
         "2024-12-13T21:51:00.369Z"
        ],
        [
         2434,
         2,
         2236,
         949.3,
         84,
         "2024-12-13T17:48:09.096Z",
         "2024-12-13T21:51:00.369Z"
        ],
        [
         2435,
         4,
         2316,
         21.0,
         10,
         "2024-12-13T17:48:09.096Z",
         "2024-12-13T21:51:00.369Z"
        ],
        [
         2440,
         4,
         2311,
         86.9,
         7,
         "2024-12-13T17:48:09.096Z",
         "2024-12-13T21:51:00.369Z"
        ],
        [
         2442,
         6,
         2439,
         115.5,
         30,
         "2024-12-13T17:48:09.096Z",
         "2024-12-13T21:51:00.369Z"
        ],
        [
         2444,
         6,
         3143,
         15.0,
         97,
         "2024-12-13T17:48:09.096Z",
         "2024-12-13T21:51:00.369Z"
        ],
        [
         2445,
         3,
         2293,
         97.0,
         11,
         "2024-12-13T17:48:09.096Z",
         "2024-12-13T21:51:00.369Z"
        ],
        [
         2448,
         3,
         3133,
         42.0,
         11,
         "2024-12-13T17:48:09.096Z",
         "2024-12-13T21:51:00.369Z"
        ],
        [
         2452,
         2,
         3139,
         20.0,
         10,
         "2024-12-13T17:48:09.096Z",
         "2024-12-13T21:51:00.369Z"
        ],
        [
         2354,
         7,
         3150,
         17.0,
         58,
         "2024-12-13T17:48:09.096Z",
         "2024-12-13T21:51:00.369Z"
        ],
        [
         2355,
         4,
         2322,
         19.0,
         188,
         "2024-12-13T17:48:09.096Z",
         "2024-12-13T21:51:00.369Z"
        ],
        [
         2356,
         5,
         2308,
         58.0,
         47,
         "2024-12-13T17:48:09.096Z",
         "2024-12-13T21:51:00.369Z"
        ],
        [
         2357,
         2,
         2245,
         462.0,
         26,
         "2024-12-13T17:48:09.096Z",
         "2024-12-13T21:51:00.369Z"
        ],
        [
         2358,
         5,
         1808,
         55.0,
         14,
         "2024-12-13T17:48:09.096Z",
         "2024-12-13T21:51:00.369Z"
        ],
        [
         2362,
         5,
         2326,
         1.1,
         173,
         "2024-12-13T17:48:09.096Z",
         "2024-12-13T21:51:00.369Z"
        ],
        [
         2363,
         3,
         2299,
         74.0,
         25,
         "2024-12-13T17:48:09.096Z",
         "2024-12-13T21:51:00.369Z"
        ],
        [
         2365,
         7,
         2319,
         24.0,
         38,
         "2024-12-13T17:48:09.096Z",
         "2024-12-13T21:51:00.369Z"
        ],
        [
         2366,
         5,
         2395,
         120.0,
         12,
         "2024-12-13T17:48:09.096Z",
         "2024-12-13T21:51:00.369Z"
        ],
        [
         2368,
         6,
         3129,
         42.0,
         72,
         "2024-12-13T17:48:09.096Z",
         "2024-12-13T21:51:00.369Z"
        ],
        [
         2372,
         6,
         3134,
         17.0,
         17,
         "2024-12-13T17:48:09.096Z",
         "2024-12-13T21:51:00.369Z"
        ],
        [
         2375,
         7,
         3143,
         15.0,
         93,
         "2024-12-13T17:48:09.096Z",
         "2024-12-13T21:51:00.369Z"
        ],
        [
         2376,
         5,
         2302,
         133.1,
         21,
         "2024-12-13T17:48:09.096Z",
         "2024-12-13T21:51:00.369Z"
        ],
        [
         2379,
         3,
         3127,
         488.4,
         23,
         "2024-12-13T17:48:09.096Z",
         "2024-12-13T21:51:00.369Z"
        ],
        [
         2380,
         7,
         3143,
         15.0,
         31,
         "2024-12-13T17:48:09.096Z",
         "2024-12-13T21:51:00.369Z"
        ],
        [
         2382,
         7,
         3129,
         42.0,
         76,
         "2024-12-13T17:48:09.096Z",
         "2024-12-13T21:51:00.369Z"
        ],
        [
         2383,
         5,
         2439,
         115.5,
         54,
         "2024-12-13T17:48:09.096Z",
         "2024-12-13T21:51:00.369Z"
        ],
        [
         2384,
         4,
         2322,
         22.0,
         59,
         "2024-12-13T17:48:09.096Z",
         "2024-12-13T21:51:00.369Z"
        ],
        [
         2387,
         2,
         2243,
         332.2,
         20,
         "2024-12-13T17:48:09.096Z",
         "2024-12-13T21:51:00.369Z"
        ],
        [
         2391,
         7,
         1822,
         1433.3,
         23,
         "2024-12-13T17:48:09.096Z",
         "2024-12-13T21:51:00.369Z"
        ],
        [
         2392,
         5,
         3133,
         45.0,
         66,
         "2024-12-13T17:48:09.096Z",
         "2024-12-13T21:51:00.369Z"
        ],
        [
         2393,
         7,
         3086,
         211.0,
         13,
         "2024-12-13T17:48:09.096Z",
         "2024-12-13T21:51:00.369Z"
        ],
        [
         2394,
         7,
         3140,
         19.0,
         48,
         "2024-12-13T17:48:09.096Z",
         "2024-12-13T21:51:00.369Z"
        ],
        [
         2395,
         2,
         2243,
         332.2,
         27,
         "2024-12-13T17:48:09.096Z",
         "2024-12-13T21:51:00.369Z"
        ],
        [
         2397,
         3,
         2999,
         880.0,
         16,
         "2024-12-13T17:48:09.096Z",
         "2024-12-13T21:51:00.369Z"
        ],
        [
         2399,
         7,
         2316,
         22.0,
         24,
         "2024-12-13T17:48:09.096Z",
         "2024-12-13T21:51:00.369Z"
        ]
       ],
       "datasetInfos": [],
       "dbfsResultPath": null,
       "isJsonSchema": true,
       "metadata": {},
       "overflow": false,
       "plotOptions": {
        "customPlotOptions": {},
        "displayType": "table",
        "pivotAggregation": null,
        "pivotColumns": null,
        "xColumns": null,
        "yColumns": null
       },
       "removedWidgets": [],
       "schema": [
        {
         "metadata": "{}",
         "name": "order_id",
         "type": "\"integer\""
        },
        {
         "metadata": "{}",
         "name": "line_item_id",
         "type": "\"integer\""
        },
        {
         "metadata": "{}",
         "name": "product_id",
         "type": "\"integer\""
        },
        {
         "metadata": "{}",
         "name": "unit_price",
         "type": "\"double\""
        },
        {
         "metadata": "{}",
         "name": "quantity",
         "type": "\"integer\""
        },
        {
         "metadata": "{}",
         "name": "consume_timestamp",
         "type": "\"timestamp\""
        },
        {
         "metadata": "{}",
         "name": "load_tsp",
         "type": "\"timestamp\""
        }
       ],
       "type": "table"
      }
     },
     "output_type": "display_data"
    }
   ],
   "source": [
    "# Define a transformation function to process the \"order_items\" DataFrame\n",
    "\n",
    "def transfomation (order_items):\n",
    "    # Rename \"ingest_datetime\" to \"consume_timestamp\" for better clarity\n",
    "    order_items = order_items.withColumnRenamed('ingest_datetime','consume_timestamp')\n",
    "    # Drop the \"batch_id\" column as it is not required in the transformed data\n",
    "    order_items = order_items.drop('batch_id')\n",
    "    # Add a new column \"load_tsp\" to record the current timestamp for auditing\n",
    "    order_items = order_items.withColumn('load_tsp', current_timestamp())\n",
    "    return order_items  #  Return the transformed DataFrame\n",
    "transformed_order_items = transfomation(order_items)\n",
    "transformed_order_items.display()"
   ]
  },
  {
   "cell_type": "code",
   "execution_count": 0,
   "metadata": {
    "application/vnd.databricks.v1+cell": {
     "cellMetadata": {},
     "inputWidgets": {},
     "nuid": "bceb0d4e-8a40-4f71-980c-b353785d1d14",
     "showTitle": false,
     "tableResultSettingsMap": {},
     "title": ""
    }
   },
   "outputs": [],
   "source": [
    "# new_transformed_order_items =  transformed_order_items.filter(col('consume_timestamp') > to_date(lit('2024-12-16')))\n",
    "# new_transformed_order_items.write.format('delta').mode('append').saveAsTable('stoyan.silver__order_items')"
   ]
  },
  {
   "cell_type": "code",
   "execution_count": 0,
   "metadata": {
    "application/vnd.databricks.v1+cell": {
     "cellMetadata": {
      "byteLimit": 2048000,
      "rowLimit": 10000
     },
     "inputWidgets": {},
     "nuid": "cbe9a80f-791b-4d99-81e2-d17391759521",
     "showTitle": false,
     "tableResultSettingsMap": {},
     "title": ""
    }
   },
   "outputs": [],
   "source": [
    "# Write the filtered data into the \"stoyan.silver__order_items\" Delta table in append mode\n",
    "transformed_order_items.write.mode('delta').mode('overwrite').saveAsTable('stoyan.silver__order_items')\n"
   ]
  }
 ],
 "metadata": {
  "application/vnd.databricks.v1+notebook": {
   "computePreferences": null,
   "dashboards": [],
   "environmentMetadata": {
    "base_environment": "",
    "client": "1"
   },
   "language": "python",
   "notebookMetadata": {
    "pythonIndentUnit": 4
   },
   "notebookName": "silver_order_items",
   "widgets": {}
  },
  "language_info": {
   "name": "python"
  }
 },
 "nbformat": 4,
 "nbformat_minor": 0
}